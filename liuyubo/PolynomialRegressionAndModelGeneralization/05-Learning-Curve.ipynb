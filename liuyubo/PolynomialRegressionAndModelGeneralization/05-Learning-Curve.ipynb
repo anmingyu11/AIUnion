{
 "cells": [
  {
   "cell_type": "markdown",
   "metadata": {},
   "source": [
    "## 学习曲线"
   ]
  },
  {
   "cell_type": "code",
   "execution_count": 1,
   "metadata": {},
   "outputs": [],
   "source": [
    "import numpy as np\n",
    "import matplotlib.pyplot as plt"
   ]
  },
  {
   "cell_type": "code",
   "execution_count": 2,
   "metadata": {},
   "outputs": [],
   "source": [
    "m = 100\n",
    "x = np.random.uniform(-3,3,size=m)\n",
    "y = x **2 + x + 3 + np.random.normal(0.,1.,size=m)\n",
    "X = x.reshape(-1,1)"
   ]
  },
  {
   "cell_type": "code",
   "execution_count": 4,
   "metadata": {},
   "outputs": [
    {
     "data": {
      "image/png": "[encoded data removed]",
      "text/plain": [
       "<Figure size 432x288 with 1 Axes>"
      ]
     },
     "metadata": {
      "needs_background": "light"
     },
     "output_type": "display_data"
    }
   ],
   "source": [
    "plt.scatter(x,y)\n",
    "plt.show()"
   ]
  },
  {
   "cell_type": "markdown",
   "metadata": {},
   "source": [
    "## 学习曲线"
   ]
  },
  {
   "cell_type": "code",
   "execution_count": 5,
   "metadata": {},
   "outputs": [],
   "source": [
    "from sklearn.model_selection import train_test_split"
   ]
  },
  {
   "cell_type": "code",
   "execution_count": 6,
   "metadata": {},
   "outputs": [],
   "source": [
    "X_train,X_test,y_train,y_test = train_test_split(X,y)"
   ]
  },
  {
   "cell_type": "code",
   "execution_count": 7,
   "metadata": {},
   "outputs": [
    {
     "data": {
      "text/plain": [
       "(75, 1)"
      ]
     },
     "execution_count": 7,
     "metadata": {},
     "output_type": "execute_result"
    }
   ],
   "source": [
    "X_train.shape"
   ]
  },
  {
   "cell_type": "code",
   "execution_count": 8,
   "metadata": {},
   "outputs": [],
   "source": [
    "from sklearn.linear_model import LinearRegression\n",
    "lin_reg = LinearRegression()"
   ]
  },
  {
   "cell_type": "code",
   "execution_count": 9,
   "metadata": {},
   "outputs": [],
   "source": [
    "from sklearn.metrics import mean_squared_error"
   ]
  },
  {
   "cell_type": "code",
   "execution_count": 16,
   "metadata": {},
   "outputs": [
    {
     "data": {
      "text/plain": [
       "75"
      ]
     },
     "execution_count": 16,
     "metadata": {},
     "output_type": "execute_result"
    }
   ],
   "source": [
    "X_train.shape[0]"
   ]
  },
  {
   "cell_type": "code",
   "execution_count": 36,
   "metadata": {},
   "outputs": [],
   "source": [
    "train_score = []\n",
    "test_score = []\n",
    "for i in range(1, X_train.shape[0]):\n",
    "    lin_reg = LinearRegression()\n",
    "    lin_reg.fit(X_train[:i], y_train[:i])\n",
    "    \n",
    "    y_train_predict = lin_reg.predict(X_train[:i])\n",
    "    train_score.append(mean_squared_error(y_train[:i], y_train_predict))\n",
    "    \n",
    "    y_test_predict = lin_reg.predict(X_test)\n",
    "    test_score.append(mean_squared_error(y_test, y_test_predict))"
   ]
  },
  {
   "cell_type": "code",
   "execution_count": 37,
   "metadata": {
    "collapsed": true
   },
   "outputs": [
    {
     "data": {
      "text/plain": [
       "[33.764128354765404,\n",
       " 88.80621739566037,\n",
       " 62.00403522727402,\n",
       " 65.71968045551901,\n",
       " 19.65394112472692,\n",
       " 19.547516943746317,\n",
       " 23.911458678874613,\n",
       " 13.094779678909822,\n",
       " 14.299174717883544,\n",
       " 14.210901921842781,\n",
       " 15.98136644342012,\n",
       " 15.915570292080343,\n",
       " 15.98383909679698,\n",
       " 15.676563625846217,\n",
       " 17.1434211859461,\n",
       " 18.507847408389043,\n",
       " 18.11031365717676,\n",
       " 13.644678157164126,\n",
       " 11.605573825708632,\n",
       " 11.704794268977327,\n",
       " 12.235715831299991,\n",
       " 12.115282577566054,\n",
       " 12.012516126761398,\n",
       " 12.03102116571364,\n",
       " 11.937606993260498,\n",
       " 12.314882642763637,\n",
       " 12.263454609841158,\n",
       " 12.60153332703655,\n",
       " 12.585144527259226,\n",
       " 12.544005636320907,\n",
       " 12.628287763019134,\n",
       " 13.333956682730488,\n",
       " 13.485246267680134,\n",
       " 14.083557609719978,\n",
       " 14.053420345449751,\n",
       " 12.521054324751706,\n",
       " 12.297556772403222,\n",
       " 11.99213026057366,\n",
       " 12.165755589589862,\n",
       " 12.174937805107131,\n",
       " 11.960086152654391,\n",
       " 11.905219972655022,\n",
       " 11.851606307493087,\n",
       " 11.965768773260802,\n",
       " 12.041631530198465,\n",
       " 12.058333177720426,\n",
       " 12.20776837945386,\n",
       " 12.208319916301168,\n",
       " 12.634808074924493,\n",
       " 10.90146853822116,\n",
       " 11.070331355930444,\n",
       " 11.203501369924432,\n",
       " 11.328690226538038,\n",
       " 11.29773938179688,\n",
       " 11.320866622190415,\n",
       " 11.391525554476603,\n",
       " 10.691592224550398,\n",
       " 10.686008536049275,\n",
       " 10.752803811731326,\n",
       " 10.93620031902466,\n",
       " 11.142178541727455,\n",
       " 10.941306616674758,\n",
       " 11.050339025460678,\n",
       " 11.12061315948713,\n",
       " 10.89651468104638,\n",
       " 11.157472220797109,\n",
       " 11.273186119121474,\n",
       " 11.257609528755285,\n",
       " 11.098363653896163,\n",
       " 11.21263681695679,\n",
       " 11.16849631179756,\n",
       " 11.117972517513936,\n",
       " 11.127550077404377,\n",
       " 11.08348712788295]"
      ]
     },
     "execution_count": 37,
     "metadata": {},
     "output_type": "execute_result"
    }
   ],
   "source": [
    "test_score"
   ]
  },
  {
   "cell_type": "code",
   "execution_count": 38,
   "metadata": {
    "scrolled": true
   },
   "outputs": [
    {
     "data": {
      "image/png": "[encoded data removed]",
      "text/plain": [
       "<Figure size 432x288 with 1 Axes>"
      ]
     },
     "metadata": {
      "needs_background": "light"
     },
     "output_type": "display_data"
    }
   ],
   "source": [
    "plt.plot([i for i in range(1,X_train.shape[0])],np.sqrt(train_score), label='train')\n",
    "plt.plot([i for i in range(1,X_train.shape[0])],np.sqrt(test_score),label='test')\n",
    "plt.legend()\n",
    "plt.show()"
   ]
  },
  {
   "cell_type": "code",
   "execution_count": 87,
   "metadata": {},
   "outputs": [],
   "source": [
    "def plot_learning_curve(algo, X,y):\n",
    "    X_train,X_test,y_train,y_test = train_test_split(X,y)\n",
    "    train_score = []\n",
    "    test_score = []\n",
    "    \n",
    "    lenX_train = X_train.shape[0]\n",
    "    for i in range(1, lenX_train):\n",
    "        algo.fit(X_train[:i], y_train[:i])\n",
    "    \n",
    "        y_train_predict = algo.predict(X_train[:i])\n",
    "        train_score.append(sqrt(mean_squared_error(y_train[:i], y_train_predict)))\n",
    "    \n",
    "        y_test_predict = algo.predict(X_test)\n",
    "        test_score.append(sqrt(mean_squared_error(y_test, y_test_predict)))\n",
    "    \n",
    "    i_set = [i for i in range(1,lenX_train)]\n",
    "    plt.plot(i_set,train_score, label=\"train\")\n",
    "    plt.plot(i_set,test_score, label=\"test\")\n",
    "    plt.plot(i_set,np.ones(len(i_set)),color='r')\n",
    "    plt.axis([1,len(i_set),0,5])\n",
    "    plt.legend()\n",
    "    plt.show()\n",
    "    "
   ]
  },
  {
   "cell_type": "code",
   "execution_count": 88,
   "metadata": {},
   "outputs": [
    {
     "data": {
      "image/png": "[encoded data removed]",
      "text/plain": [
       "<Figure size 432x288 with 1 Axes>"
      ]
     },
     "metadata": {
      "needs_background": "light"
     },
     "output_type": "display_data"
    }
   ],
   "source": [
    "plot_learning_curve(LinearRegression(),X,y)"
   ]
  },
  {
   "cell_type": "code",
   "execution_count": 89,
   "metadata": {},
   "outputs": [],
   "source": [
    "from sklearn.preprocessing import PolynomialFeatures\n",
    "from sklearn.preprocessing import StandardScaler\n",
    "from sklearn.pipeline import Pipeline"
   ]
  },
  {
   "cell_type": "code",
   "execution_count": 90,
   "metadata": {},
   "outputs": [],
   "source": [
    "def poly_reg(degree):\n",
    "    return Pipeline(\n",
    "    [\n",
    "        ('poly',PolynomialFeatures(degree=degree)),\n",
    "        ('ss',StandardScaler()),\n",
    "        ('lg',LinearRegression())\n",
    "    ]\n",
    "    )"
   ]
  },
  {
   "cell_type": "code",
   "execution_count": 91,
   "metadata": {},
   "outputs": [
    {
     "data": {
      "image/png": "[encoded data removed]",
      "text/plain": [
       "<Figure size 432x288 with 1 Axes>"
      ]
     },
     "metadata": {
      "needs_background": "light"
     },
     "output_type": "display_data"
    }
   ],
   "source": [
    "plot_learning_curve(poly_reg(2),X,y)"
   ]
  },
  {
   "cell_type": "code",
   "execution_count": 92,
   "metadata": {},
   "outputs": [
    {
     "data": {
      "image/png": "[encoded data removed]",
      "text/plain": [
       "<Figure size 432x288 with 1 Axes>"
      ]
     },
     "metadata": {
      "needs_background": "light"
     },
     "output_type": "display_data"
    }
   ],
   "source": [
    "plot_learning_curve(poly_reg(10),X,y)"
   ]
  },
  {
   "cell_type": "code",
   "execution_count": 93,
   "metadata": {},
   "outputs": [
    {
     "data": {
      "image/png": "[encoded data removed]",
      "text/plain": [
       "<Figure size 432x288 with 1 Axes>"
      ]
     },
     "metadata": {
      "needs_background": "light"
     },
     "output_type": "display_data"
    }
   ],
   "source": [
    "plot_learning_curve(poly_reg(100),X,y)"
   ]
  }
 ],
 "metadata": {
  "kernelspec": {
   "display_name": "Python 3",
   "language": "python",
   "name": "python3"
  },
  "language_info": {
   "codemirror_mode": {
    "name": "ipython",
    "version": 3
   },
   "file_extension": ".py",
   "mimetype": "text/x-python",
   "name": "python",
   "nbconvert_exporter": "python",
   "pygments_lexer": "ipython3",
   "version": "3.7.1"
  }
 },
 "nbformat": 4,
 "nbformat_minor": 2
}
