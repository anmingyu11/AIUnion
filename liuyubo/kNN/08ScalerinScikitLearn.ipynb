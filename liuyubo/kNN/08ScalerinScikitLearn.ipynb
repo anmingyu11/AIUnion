{
 "cells": [
  {
   "cell_type": "markdown",
   "metadata": {},
   "source": [
    "## Scikitlearn中的Scaler"
   ]
  },
  {
   "cell_type": "code",
   "execution_count": 1,
   "metadata": {},
   "outputs": [],
   "source": [
    "import numpy as np\n",
    "import matplotlib.pyplot as plt"
   ]
  },
  {
   "cell_type": "code",
   "execution_count": 2,
   "metadata": {},
   "outputs": [],
   "source": [
    "from sklearn import datasets"
   ]
  },
  {
   "cell_type": "code",
   "execution_count": 3,
   "metadata": {},
   "outputs": [],
   "source": [
    "iris = datasets.load_digits()\n",
    "X = iris.data\n",
    "y = iris.target"
   ]
  },
  {
   "cell_type": "code",
   "execution_count": 4,
   "metadata": {},
   "outputs": [],
   "source": [
    "from sklearn.model_selection import train_test_split\n",
    "X_train,X_test,y_train,y_test = train_test_split(X,y)"
   ]
  },
  {
   "cell_type": "markdown",
   "metadata": {},
   "source": [
    "## Scikitlearn中的Scaler"
   ]
  },
  {
   "cell_type": "code",
   "execution_count": 5,
   "metadata": {},
   "outputs": [],
   "source": [
    "from sklearn.preprocessing import StandardScaler"
   ]
  },
  {
   "cell_type": "code",
   "execution_count": 6,
   "metadata": {},
   "outputs": [
    {
     "data": {
      "text/plain": [
       "StandardScaler(copy=True, with_mean=True, with_std=True)"
      ]
     },
     "execution_count": 6,
     "metadata": {},
     "output_type": "execute_result"
    }
   ],
   "source": [
    "standardScaler = StandardScaler()\n",
    "standardScaler.fit(X_train)"
   ]
  },
  {
   "cell_type": "code",
   "execution_count": 7,
   "metadata": {},
   "outputs": [
    {
     "data": {
      "text/plain": [
       "array([0.00000000e+00, 2.96956199e-01, 5.16703786e+00, 1.17698589e+01,\n",
       "       1.19487751e+01, 5.83221975e+00, 1.31254640e+00, 9.65107647e-02,\n",
       "       5.93912398e-03, 1.93838159e+00, 1.02828508e+01, 1.19057164e+01,\n",
       "       1.02435041e+01, 8.18930958e+00, 1.77134373e+00, 8.31477357e-02,\n",
       "       7.42390497e-04, 2.52932442e+00, 9.96436526e+00, 7.07275427e+00,\n",
       "       7.11210097e+00, 7.81811433e+00, 1.76763177e+00, 4.75129918e-02,\n",
       "       7.42390497e-04, 2.52190052e+00, 9.28804751e+00, 8.89086860e+00,\n",
       "       9.88938382e+00, 7.49368968e+00, 2.31328879e+00, 2.96956199e-03,\n",
       "       0.00000000e+00, 2.41202673e+00, 7.83593170e+00, 9.03860431e+00,\n",
       "       1.03095768e+01, 8.83518931e+00, 3.00965108e+00, 0.00000000e+00,\n",
       "       9.65107647e-03, 1.60430586e+00, 6.96065330e+00, 7.14328137e+00,\n",
       "       7.71269488e+00, 8.43801039e+00, 3.55827765e+00, 2.52412769e-02,\n",
       "       6.68151448e-03, 6.83741648e-01, 7.46473645e+00, 9.27171492e+00,\n",
       "       9.40014848e+00, 8.78916110e+00, 3.67854491e+00, 2.00445434e-01,\n",
       "       0.00000000e+00, 2.65033408e-01, 5.47216036e+00, 1.19925761e+01,\n",
       "       1.19339272e+01, 6.77951002e+00, 1.93838159e+00, 3.01410542e-01])"
      ]
     },
     "execution_count": 7,
     "metadata": {},
     "output_type": "execute_result"
    }
   ],
   "source": [
    "standardScaler.mean_"
   ]
  },
  {
   "cell_type": "code",
   "execution_count": 8,
   "metadata": {},
   "outputs": [
    {
     "data": {
      "text/plain": [
       "(1347, 64)"
      ]
     },
     "execution_count": 8,
     "metadata": {},
     "output_type": "execute_result"
    }
   ],
   "source": [
    "X_train.shape # 64个特征,这里对每个特征求平均值"
   ]
  },
  {
   "cell_type": "code",
   "execution_count": 9,
   "metadata": {},
   "outputs": [
    {
     "data": {
      "text/plain": [
       "(64,)"
      ]
     },
     "execution_count": 9,
     "metadata": {},
     "output_type": "execute_result"
    }
   ],
   "source": [
    "standardScaler.mean_.shape"
   ]
  },
  {
   "cell_type": "code",
   "execution_count": 10,
   "metadata": {},
   "outputs": [
    {
     "data": {
      "text/plain": [
       "(64,)"
      ]
     },
     "execution_count": 10,
     "metadata": {},
     "output_type": "execute_result"
    }
   ],
   "source": [
    "standardScaler.scale_.shape # 缩放比例"
   ]
  },
  {
   "cell_type": "code",
   "execution_count": 11,
   "metadata": {},
   "outputs": [
    {
     "data": {
      "text/plain": [
       "array([1.        , 0.91234929, 4.73526445, 4.29487154, 4.23576401,\n",
       "       5.63871979, 3.21482945, 0.8682529 , 0.09419879, 3.14649564,\n",
       "       5.45884473, 4.00732681, 4.812608  , 6.05007108, 3.44428277,\n",
       "       0.70772986, 0.02723673, 3.50559969, 5.65949738, 5.80254597,\n",
       "       6.16273211, 6.20489294, 3.19477449, 0.43506237, 0.02723673,\n",
       "       3.14770087, 6.15623353, 5.89571319, 6.16299986, 5.82832193,\n",
       "       3.64922546, 0.05441272, 1.        , 3.49379821, 6.30602527,\n",
       "       6.26523341, 6.0153174 , 5.79400223, 3.58468185, 1.        ,\n",
       "       0.15622338, 2.94695683, 6.54882381, 6.4643013 , 6.30455774,\n",
       "       5.60792563, 4.31535089, 0.29236993, 0.21956944, 1.65001495,\n",
       "       5.65285502, 5.26453532, 5.34533634, 5.99270292, 4.9121314 ,\n",
       "       0.9988411 , 1.        , 0.92654617, 5.06144179, 4.42808793,\n",
       "       4.86881502, 5.8838999 , 3.91026723, 1.6590682 ])"
      ]
     },
     "execution_count": 11,
     "metadata": {},
     "output_type": "execute_result"
    }
   ],
   "source": [
    "standardScaler.scale_"
   ]
  },
  {
   "cell_type": "code",
   "execution_count": 12,
   "metadata": {},
   "outputs": [
    {
     "data": {
      "text/plain": [
       "array([[ 0.        , -0.32548521, -1.09118253, ..., -0.13248186,\n",
       "        -0.49571589, -0.18167459],\n",
       "       [ 0.        , -0.32548521, -1.09118253, ..., -1.15221369,\n",
       "        -0.49571589, -0.18167459],\n",
       "       [ 0.        , -0.32548521, -0.45763819, ..., -1.15221369,\n",
       "        -0.49571589, -0.18167459],\n",
       "       ...,\n",
       "       [ 0.        , -0.32548521,  0.3870876 , ..., -1.15221369,\n",
       "        -0.49571589, -0.18167459],\n",
       "       [ 0.        , -0.32548521, -1.09118253, ...,  1.39711588,\n",
       "         1.0387061 , -0.18167459],\n",
       "       [ 0.        , -0.32548521, -0.88000109, ...,  1.56707118,\n",
       "         3.59607607,  4.64030922]])"
      ]
     },
     "execution_count": 12,
     "metadata": {},
     "output_type": "execute_result"
    }
   ],
   "source": [
    "standardScaler.transform(X_train)"
   ]
  },
  {
   "cell_type": "code",
   "execution_count": 13,
   "metadata": {},
   "outputs": [
    {
     "data": {
      "text/plain": [
       "array([[ 0.,  0.,  0., ...,  6.,  0.,  0.],\n",
       "       [ 0.,  0.,  0., ...,  0.,  0.,  0.],\n",
       "       [ 0.,  0.,  3., ...,  0.,  0.,  0.],\n",
       "       ...,\n",
       "       [ 0.,  0.,  7., ...,  0.,  0.,  0.],\n",
       "       [ 0.,  0.,  0., ..., 15.,  6.,  0.],\n",
       "       [ 0.,  0.,  1., ..., 16., 16.,  8.]])"
      ]
     },
     "execution_count": 13,
     "metadata": {},
     "output_type": "execute_result"
    }
   ],
   "source": [
    "X_train"
   ]
  },
  {
   "cell_type": "code",
   "execution_count": 14,
   "metadata": {},
   "outputs": [
    {
     "data": {
      "text/plain": [
       "array([[ 0.,  0.,  5., ...,  0.,  0.,  0.],\n",
       "       [ 0.,  0.,  0., ..., 10.,  0.,  0.],\n",
       "       [ 0.,  0.,  0., ..., 16.,  9.,  0.],\n",
       "       ...,\n",
       "       [ 0.,  0.,  1., ...,  6.,  0.,  0.],\n",
       "       [ 0.,  0.,  2., ..., 12.,  0.,  0.],\n",
       "       [ 0.,  0., 10., ..., 12.,  1.,  0.]])"
      ]
     },
     "execution_count": 14,
     "metadata": {},
     "output_type": "execute_result"
    }
   ],
   "source": [
    "X"
   ]
  },
  {
   "cell_type": "code",
   "execution_count": 15,
   "metadata": {},
   "outputs": [
    {
     "data": {
      "text/plain": [
       "array([[ 0.        , -0.32548521, -1.09118253, ..., -0.13248186,\n",
       "        -0.49571589, -0.18167459],\n",
       "       [ 0.        , -0.32548521, -1.09118253, ..., -1.15221369,\n",
       "        -0.49571589, -0.18167459],\n",
       "       [ 0.        , -0.32548521, -0.45763819, ..., -1.15221369,\n",
       "        -0.49571589, -0.18167459],\n",
       "       ...,\n",
       "       [ 0.        , -0.32548521,  0.3870876 , ..., -1.15221369,\n",
       "        -0.49571589, -0.18167459],\n",
       "       [ 0.        , -0.32548521, -1.09118253, ...,  1.39711588,\n",
       "         1.0387061 , -0.18167459],\n",
       "       [ 0.        , -0.32548521, -0.88000109, ...,  1.56707118,\n",
       "         3.59607607,  4.64030922]])"
      ]
     },
     "execution_count": 15,
     "metadata": {},
     "output_type": "execute_result"
    }
   ],
   "source": [
    "X_train = standardScaler.transform(X_train)\n",
    "X_train"
   ]
  },
  {
   "cell_type": "code",
   "execution_count": 16,
   "metadata": {},
   "outputs": [
    {
     "data": {
      "text/plain": [
       "array([[ 0.        , -0.32548521,  0.3870876 , ...,  0.54733936,\n",
       "         2.82886508,  1.62656934],\n",
       "       [ 0.        , -0.32548521, -1.09118253, ...,  1.05720527,\n",
       "         0.7829691 , -0.18167459],\n",
       "       [ 0.        , -0.32548521, -0.66881964, ..., -1.15221369,\n",
       "        -0.49571589, -0.18167459],\n",
       "       ...,\n",
       "       [ 0.        , -0.32548521, -0.88000109, ..., -0.98225839,\n",
       "        -0.49571589, -0.18167459],\n",
       "       [ 0.        ,  5.15487197,  2.28772062, ...,  0.20742875,\n",
       "         1.0387061 , -0.18167459],\n",
       "       [ 0.        ,  0.77058623,  1.44299483, ...,  0.88724996,\n",
       "         1.29444309, -0.18167459]])"
      ]
     },
     "execution_count": 16,
     "metadata": {},
     "output_type": "execute_result"
    }
   ],
   "source": [
    "X_test = standardScaler.transform(X_test)\n",
    "X_test"
   ]
  },
  {
   "cell_type": "markdown",
   "metadata": {},
   "source": [
    "## 使用归一化后的数据进行knn分类"
   ]
  },
  {
   "cell_type": "code",
   "execution_count": 17,
   "metadata": {},
   "outputs": [],
   "source": [
    "from sklearn.neighbors import KNeighborsClassifier"
   ]
  },
  {
   "cell_type": "code",
   "execution_count": 18,
   "metadata": {},
   "outputs": [
    {
     "data": {
      "text/plain": [
       "0.9711111111111111"
      ]
     },
     "execution_count": 18,
     "metadata": {},
     "output_type": "execute_result"
    }
   ],
   "source": [
    "## 不能传入没有归一化后的数据\n",
    "knn_clf = KNeighborsClassifier()\n",
    "knn_clf.fit(X_train,y_train)\n",
    "knn_clf.score(X_test,y_test)"
   ]
  },
  {
   "cell_type": "code",
   "execution_count": 19,
   "metadata": {},
   "outputs": [
    {
     "data": {
      "text/plain": [
       "StandardScaler(copy=True, with_mean=True, with_std=True)"
      ]
     },
     "execution_count": 19,
     "metadata": {},
     "output_type": "execute_result"
    }
   ],
   "source": [
    "standardScaler.fit(X_train)"
   ]
  },
  {
   "cell_type": "markdown",
   "metadata": {},
   "source": [
    "## 重来一遍这个完整过程"
   ]
  },
  {
   "cell_type": "code",
   "execution_count": 20,
   "metadata": {},
   "outputs": [],
   "source": [
    "from sklearn import datasets"
   ]
  },
  {
   "cell_type": "code",
   "execution_count": 21,
   "metadata": {},
   "outputs": [],
   "source": [
    "# 引入NITS数据\n",
    "digits = datasets.load_digits()\n",
    "X = digits.data\n",
    "y = digits.target"
   ]
  },
  {
   "cell_type": "code",
   "execution_count": 22,
   "metadata": {},
   "outputs": [],
   "source": [
    "from sklearn.model_selection import train_test_split\n",
    "\n",
    "X_train,X_test,y_train,y_test = train_test_split(X,y)"
   ]
  },
  {
   "cell_type": "code",
   "execution_count": 23,
   "metadata": {},
   "outputs": [
    {
     "data": {
      "text/plain": [
       "StandardScaler(copy=True, with_mean=True, with_std=True)"
      ]
     },
     "execution_count": 23,
     "metadata": {},
     "output_type": "execute_result"
    }
   ],
   "source": [
    "from sklearn.preprocessing import StandardScaler\n",
    "ss = StandardScaler()\n",
    "ss.fit(X_train)"
   ]
  },
  {
   "cell_type": "code",
   "execution_count": 24,
   "metadata": {},
   "outputs": [
    {
     "data": {
      "text/plain": [
       "array([0.00000000e+00, 3.08092056e-01, 5.15961396e+00, 1.17847068e+01,\n",
       "       1.18819599e+01, 5.91685226e+00, 1.45360059e+00, 1.38827023e-01,\n",
       "       6.68151448e-03, 1.98663697e+00, 1.03496659e+01, 1.20527097e+01,\n",
       "       1.03533779e+01, 8.21455085e+00, 1.87453601e+00, 1.02449889e-01,\n",
       "       2.96956199e-03, 2.65033408e+00, 9.86562732e+00, 7.05122494e+00,\n",
       "       7.12546399e+00, 7.81737194e+00, 1.79435783e+00, 4.60282108e-02,\n",
       "       1.48478099e-03, 2.47216036e+00, 8.98292502e+00, 8.85374907e+00,\n",
       "       9.93986637e+00, 7.59539718e+00, 2.28878990e+00, 1.48478099e-03,\n",
       "       0.00000000e+00, 2.32665182e+00, 7.53674833e+00, 8.99480327e+00,\n",
       "       1.03214551e+01, 8.72086117e+00, 2.90423163e+00, 0.00000000e+00,\n",
       "       6.68151448e-03, 1.59020045e+00, 6.81588716e+00, 7.30438010e+00,\n",
       "       7.83964365e+00, 8.32145509e+00, 3.36080178e+00, 3.11804009e-02,\n",
       "       3.71195249e-03, 7.17149220e-01, 7.43801039e+00, 9.59168523e+00,\n",
       "       9.53377877e+00, 8.81737194e+00, 3.62731997e+00, 2.07869339e-01,\n",
       "       7.42390497e-04, 2.96956199e-01, 5.54268745e+00, 1.20237565e+01,\n",
       "       1.17550111e+01, 6.67037862e+00, 2.07795100e+00, 3.86785449e-01])"
      ]
     },
     "execution_count": 24,
     "metadata": {},
     "output_type": "execute_result"
    }
   ],
   "source": [
    "ss.mean_ # 平均值"
   ]
  },
  {
   "cell_type": "code",
   "execution_count": 25,
   "metadata": {},
   "outputs": [
    {
     "data": {
      "text/plain": [
       "array([1.        , 0.92444401, 4.76459061, 4.27398381, 4.28808813,\n",
       "       5.70928258, 3.44819009, 1.0847664 , 0.10531484, 3.21694653,\n",
       "       5.44093665, 3.96376101, 4.77152779, 6.06479458, 3.62862052,\n",
       "       0.80175287, 0.06667477, 3.6592326 , 5.70759133, 5.83206363,\n",
       "       6.17390854, 6.19726893, 3.21443906, 0.40883546, 0.03850424,\n",
       "       3.19145412, 6.19484467, 5.9500637 , 6.12709544, 5.89102292,\n",
       "       3.65216076, 0.03850424, 1.        , 3.50863535, 6.31674052,\n",
       "       6.23619268, 5.98015835, 5.85870781, 3.55199431, 1.        ,\n",
       "       0.12468183, 3.0087463 , 6.49003233, 6.45716881, 6.25238562,\n",
       "       5.72740128, 4.27112422, 0.33447143, 0.09029129, 1.78695135,\n",
       "       5.61969531, 5.22638407, 5.25710274, 6.02660973, 4.83790056,\n",
       "       0.97929439, 0.02723673, 0.99188149, 5.13458769, 4.43054457,\n",
       "       4.95946102, 5.92000924, 4.12290892, 1.92692885])"
      ]
     },
     "execution_count": 25,
     "metadata": {},
     "output_type": "execute_result"
    }
   ],
   "source": [
    "ss.scale_ # 缩放比例"
   ]
  },
  {
   "cell_type": "code",
   "execution_count": 26,
   "metadata": {},
   "outputs": [
    {
     "data": {
      "text/plain": [
       "array([[ 0.        , -0.33327281,  0.59614483, ...,  0.56243517,\n",
       "        -0.26145399, -0.20072638],\n",
       "       [ 0.        , -0.33327281, -0.03350004, ..., -0.78891408,\n",
       "        -0.50400119, -0.20072638],\n",
       "       [ 0.        , -0.33327281, -0.87302652, ..., -1.12675139,\n",
       "        -0.50400119, -0.20072638],\n",
       "       ...,\n",
       "       [ 0.        , -0.33327281,  1.64555293, ..., -1.12675139,\n",
       "        -0.50400119, -0.20072638],\n",
       "       [ 0.        , -0.33327281, -0.24338166, ..., -0.61999542,\n",
       "        -0.50400119, -0.20072638],\n",
       "       [ 0.        , -0.33327281, -0.6631449 , ..., -0.11323945,\n",
       "        -0.50400119, -0.20072638]])"
      ]
     },
     "execution_count": 26,
     "metadata": {},
     "output_type": "execute_result"
    }
   ],
   "source": [
    "ss.transform(X_train)"
   ]
  },
  {
   "cell_type": "code",
   "execution_count": 27,
   "metadata": {},
   "outputs": [],
   "source": [
    "import numpy as np"
   ]
  },
  {
   "cell_type": "code",
   "execution_count": 28,
   "metadata": {},
   "outputs": [],
   "source": [
    "X_train = ss.transform(X_train)"
   ]
  },
  {
   "cell_type": "code",
   "execution_count": 29,
   "metadata": {},
   "outputs": [],
   "source": [
    "X_test = ss.transform(X_test)"
   ]
  },
  {
   "cell_type": "markdown",
   "metadata": {},
   "source": [
    "# kNN算法不能传入没有进行归一的数据"
   ]
  }
 ],
 "metadata": {
  "kernelspec": {
   "display_name": "Python 3",
   "language": "python",
   "name": "python3"
  },
  "language_info": {
   "codemirror_mode": {
    "name": "ipython",
    "version": 3
   },
   "file_extension": ".py",
   "mimetype": "text/x-python",
   "name": "python",
   "nbconvert_exporter": "python",
   "pygments_lexer": "ipython3",
   "version": "3.7.1"
  }
 },
 "nbformat": 4,
 "nbformat_minor": 2
}
