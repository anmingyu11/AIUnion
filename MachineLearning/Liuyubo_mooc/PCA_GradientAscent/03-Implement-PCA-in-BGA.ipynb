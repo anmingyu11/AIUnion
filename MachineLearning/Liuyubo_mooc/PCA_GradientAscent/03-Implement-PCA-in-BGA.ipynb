{
 "cells": [
  {
   "cell_type": "markdown",
   "metadata": {},
   "source": [
    "# 使用梯度上升法实现PCA"
   ]
  },
  {
   "cell_type": "code",
   "execution_count": 2,
   "metadata": {},
   "outputs": [],
   "source": [
    "import numpy as np\n",
    "import matplotlib.pyplot as plt"
   ]
  },
  {
   "cell_type": "code",
   "execution_count": 5,
   "metadata": {},
   "outputs": [],
   "source": [
    "X = np.empty((100,2))\n",
    "X[:,0] = np.random.uniform(0.,100.,size=100) # uniform是均匀分布\n",
    "X[:,1] = 3. + 0.75 * X[:,0] + np.random.normal(0.,10.,size=100) # normal 正态分布"
   ]
  },
  {
   "cell_type": "code",
   "execution_count": 6,
   "metadata": {},
   "outputs": [
    {
     "data": {
      "image/png": "[encoded data removed]",
      "text/plain": [
       "<Figure size 432x288 with 1 Axes>"
      ]
     },
     "metadata": {
      "needs_background": "light"
     },
     "output_type": "display_data"
    }
   ],
   "source": [
    "plt.scatter(X[:,0],X[:,1])\n",
    "plt.show()"
   ]
  },
  {
   "cell_type": "markdown",
   "metadata": {},
   "source": [
    "## demean"
   ]
  },
  {
   "cell_type": "code",
   "execution_count": 7,
   "metadata": {},
   "outputs": [],
   "source": [
    "def demean(X):\n",
    "    return X - np.mean(X,axis=0)"
   ]
  },
  {
   "cell_type": "code",
   "execution_count": 16,
   "metadata": {},
   "outputs": [
    {
     "data": {
      "text/plain": [
       "array([46.56273218, 37.63818301])"
      ]
     },
     "execution_count": 16,
     "metadata": {},
     "output_type": "execute_result"
    }
   ],
   "source": [
    "np.mean(X,axis=0)"
   ]
  },
  {
   "cell_type": "code",
   "execution_count": 11,
   "metadata": {
    "collapsed": true
   },
   "outputs": [
    {
     "data": {
      "text/plain": [
       "array([[65.78091789, 52.46264731],\n",
       "       [44.56904185, 35.05915611],\n",
       "       [60.31499528, 49.8719047 ],\n",
       "       [31.3998559 , 16.02609168],\n",
       "       [ 9.80813933, -3.03714111],\n",
       "       [96.38871831, 70.58595955],\n",
       "       [28.18387127, 32.50416871],\n",
       "       [95.63433708, 65.22161797],\n",
       "       [28.81989529,  9.93405535],\n",
       "       [21.9549943 , 23.49162497],\n",
       "       [ 3.65918102, -6.18649839],\n",
       "       [51.15356529, 52.64070479],\n",
       "       [34.76271724, 30.00774453],\n",
       "       [61.14223425, 55.87269571],\n",
       "       [38.71981481, 27.83124001],\n",
       "       [41.79563962, 31.07443915],\n",
       "       [56.92753904, 48.64745757],\n",
       "       [92.12184042, 86.46679325],\n",
       "       [12.56802799,  7.96885971],\n",
       "       [73.64472305, 64.59162256],\n",
       "       [72.39286127, 68.38962305],\n",
       "       [23.89288879, 32.99229022],\n",
       "       [33.25257813, 19.58381265],\n",
       "       [60.80312172, 55.23905777],\n",
       "       [18.90861464, 15.84741545],\n",
       "       [80.65231264, 71.64121015],\n",
       "       [44.50527676, 26.37860735],\n",
       "       [ 8.48522972, 15.08496439],\n",
       "       [ 5.12082818,  1.25864376],\n",
       "       [ 9.14589717,  6.49914978],\n",
       "       [16.75497302, 10.95960112],\n",
       "       [85.42260192, 61.38930832],\n",
       "       [63.85449741, 45.74131408],\n",
       "       [17.68499522, 22.34345487],\n",
       "       [59.79194655, 44.55140777],\n",
       "       [64.89954981, 48.83428469],\n",
       "       [34.2556905 , 25.38084365],\n",
       "       [65.23081159, 45.60039223],\n",
       "       [81.13046036, 59.98344527],\n",
       "       [91.30661682, 63.6866623 ],\n",
       "       [68.53105036, 67.875642  ],\n",
       "       [36.90978165, 21.03999339],\n",
       "       [37.55001561, 39.55111115],\n",
       "       [64.63321036, 53.67120485],\n",
       "       [79.55572879, 77.5182095 ],\n",
       "       [70.76365258, 60.77894502],\n",
       "       [13.38326827, 17.76083039],\n",
       "       [18.12156044, 12.57900851],\n",
       "       [11.07037784, -6.73738297],\n",
       "       [85.83908542, 49.26238256],\n",
       "       [33.6075896 , 39.4522811 ],\n",
       "       [ 2.63172099,  6.93631617],\n",
       "       [36.53877943, 31.49766314],\n",
       "       [67.32108177, 38.14581999],\n",
       "       [15.56193758,  6.38560069],\n",
       "       [10.52357206, -1.91242892],\n",
       "       [25.92758709, 13.3271324 ],\n",
       "       [94.07365416, 76.40172597],\n",
       "       [96.41701596, 73.43900535],\n",
       "       [ 7.81837939, 10.02502704],\n",
       "       [19.32573933, 22.55710433],\n",
       "       [79.60260673, 63.33179151],\n",
       "       [64.18720379, 57.43144311],\n",
       "       [39.38901628, 38.5849457 ],\n",
       "       [98.2030775 , 73.665033  ],\n",
       "       [54.19952161, 59.21152972],\n",
       "       [36.60364788, 31.54413734],\n",
       "       [40.31636961, 47.47281155],\n",
       "       [18.38786323, 19.09816361],\n",
       "       [37.81886166, 40.46211103],\n",
       "       [86.03270212, 51.97663604],\n",
       "       [54.518362  , 46.87670651],\n",
       "       [46.74044071, 43.00159389],\n",
       "       [12.07263947, -1.51535869],\n",
       "       [61.43582374, 49.21530742],\n",
       "       [70.88577017, 54.75307199],\n",
       "       [20.85003583,  0.89971149],\n",
       "       [52.27808929, 28.97624901],\n",
       "       [78.25823276, 59.1350635 ],\n",
       "       [43.40534151, 53.18242928],\n",
       "       [ 5.17886801, 13.12086638],\n",
       "       [48.37107677, 30.85348431],\n",
       "       [33.22447774, 27.89035152],\n",
       "       [37.10105122, 23.90210197],\n",
       "       [21.34003889, 42.38485647],\n",
       "       [62.42110389, 61.32748268],\n",
       "       [54.11104287, 46.27941374],\n",
       "       [78.38847423, 71.36329228],\n",
       "       [27.21046744, 26.65087782],\n",
       "       [63.76107687, 54.89707946],\n",
       "       [ 8.78753279,  4.38088524],\n",
       "       [71.20603922, 53.98287643],\n",
       "       [ 7.37861389, -7.64279122],\n",
       "       [62.13405193, 53.34650246],\n",
       "       [76.74700347, 68.24363204],\n",
       "       [83.35063627, 68.62774857],\n",
       "       [32.5437361 , 30.7443377 ],\n",
       "       [71.18039931, 47.04119276],\n",
       "       [26.7727211 , 18.38743935],\n",
       "       [ 6.93261044,  8.75746913]])"
      ]
     },
     "execution_count": 11,
     "metadata": {},
     "output_type": "execute_result"
    }
   ],
   "source": [
    "X"
   ]
  },
  {
   "cell_type": "code",
   "execution_count": 12,
   "metadata": {
    "collapsed": true
   },
   "outputs": [
    {
     "data": {
      "text/plain": [
       "array([[ 19.2181857 ,  14.82446431],\n",
       "       [ -1.99369034,  -2.5790269 ],\n",
       "       [ 13.7522631 ,  12.23372169],\n",
       "       [-15.16287629, -21.61209133],\n",
       "       [-36.75459285, -40.67532412],\n",
       "       [ 49.82598613,  32.94777654],\n",
       "       [-18.37886092,  -5.1340143 ],\n",
       "       [ 49.0716049 ,  27.58343496],\n",
       "       [-17.7428369 , -27.70412766],\n",
       "       [-24.60773789, -14.14655804],\n",
       "       [-42.90355116, -43.82468139],\n",
       "       [  4.59083311,  15.00252178],\n",
       "       [-11.80001494,  -7.63043847],\n",
       "       [ 14.57950206,  18.2345127 ],\n",
       "       [ -7.84291738,  -9.806943  ],\n",
       "       [ -4.76709257,  -6.56374386],\n",
       "       [ 10.36480686,  11.00927457],\n",
       "       [ 45.55910824,  48.82861024],\n",
       "       [-33.9947042 , -29.6693233 ],\n",
       "       [ 27.08199087,  26.95343955],\n",
       "       [ 25.83012908,  30.75144004],\n",
       "       [-22.66984339,  -4.64589279],\n",
       "       [-13.31015406, -18.05437036],\n",
       "       [ 14.24038953,  17.60087477],\n",
       "       [-27.65411754, -21.79076756],\n",
       "       [ 34.08958045,  34.00302715],\n",
       "       [ -2.05745542, -11.25957566],\n",
       "       [-38.07750246, -22.55321861],\n",
       "       [-41.441904  , -36.37953925],\n",
       "       [-37.41683502, -31.13903323],\n",
       "       [-29.80775916, -26.67858189],\n",
       "       [ 38.85986973,  23.75112531],\n",
       "       [ 17.29176522,   8.10313107],\n",
       "       [-28.87773696, -15.29472814],\n",
       "       [ 13.22921437,   6.91322477],\n",
       "       [ 18.33681763,  11.19610169],\n",
       "       [-12.30704168, -12.25733936],\n",
       "       [ 18.6680794 ,   7.96220922],\n",
       "       [ 34.56772817,  22.34526227],\n",
       "       [ 44.74388463,  26.04847929],\n",
       "       [ 21.96831817,  30.23745899],\n",
       "       [ -9.65295053, -16.59818962],\n",
       "       [ -9.01271657,   1.91292814],\n",
       "       [ 18.07047817,  16.03302184],\n",
       "       [ 32.99299661,  39.88002649],\n",
       "       [ 24.2009204 ,  23.14076201],\n",
       "       [-33.17946391, -19.87735262],\n",
       "       [-28.44117174, -25.0591745 ],\n",
       "       [-35.49235435, -44.37556598],\n",
       "       [ 39.27635323,  11.62419955],\n",
       "       [-12.95514259,   1.81409809],\n",
       "       [-43.9310112 , -30.70186683],\n",
       "       [-10.02395275,  -6.14051987],\n",
       "       [ 20.75834958,   0.50763698],\n",
       "       [-31.0007946 , -31.25258232],\n",
       "       [-36.03916012, -39.55061193],\n",
       "       [-20.63514509, -24.31105061],\n",
       "       [ 47.51092198,  38.76354297],\n",
       "       [ 49.85428377,  35.80082235],\n",
       "       [-38.74435279, -27.61315597],\n",
       "       [-27.23699285, -15.08107868],\n",
       "       [ 33.03987454,  25.6936085 ],\n",
       "       [ 17.62447161,  19.79326011],\n",
       "       [ -7.1737159 ,   0.94676269],\n",
       "       [ 51.64034532,  36.02684999],\n",
       "       [  7.63678942,  21.57334671],\n",
       "       [ -9.9590843 ,  -6.09404566],\n",
       "       [ -6.24636258,   9.83462854],\n",
       "       [-28.17486895, -18.54001939],\n",
       "       [ -8.74387053,   2.82392802],\n",
       "       [ 39.46996994,  14.33845303],\n",
       "       [  7.95562981,   9.2385235 ],\n",
       "       [  0.17770852,   5.36341088],\n",
       "       [-34.49009272, -39.1535417 ],\n",
       "       [ 14.87309155,  11.57712441],\n",
       "       [ 24.32303798,  17.11488898],\n",
       "       [-25.71269635, -36.73847152],\n",
       "       [  5.71535711,  -8.66193399],\n",
       "       [ 31.69550058,  21.49688049],\n",
       "       [ -3.15739068,  15.54424628],\n",
       "       [-41.38386417, -24.51731663],\n",
       "       [  1.80834459,  -6.7846987 ],\n",
       "       [-13.33825444,  -9.74783149],\n",
       "       [ -9.46168096, -13.73608104],\n",
       "       [-25.2226933 ,   4.74667346],\n",
       "       [ 15.85837171,  23.68929967],\n",
       "       [  7.54831069,   8.64123073],\n",
       "       [ 31.82574204,  33.72510927],\n",
       "       [-19.35226474, -10.98730519],\n",
       "       [ 17.19834468,  17.25889645],\n",
       "       [-37.77519939, -33.25729777],\n",
       "       [ 24.64330704,  16.34469342],\n",
       "       [-39.1841183 , -45.28097423],\n",
       "       [ 15.57131975,  15.70831945],\n",
       "       [ 30.18427129,  30.60544903],\n",
       "       [ 36.78790408,  30.98956557],\n",
       "       [-14.01899608,  -6.89384531],\n",
       "       [ 24.61766713,   9.40300976],\n",
       "       [-19.79001109, -19.25074365],\n",
       "       [-39.63012175, -28.88071387]])"
      ]
     },
     "execution_count": 12,
     "metadata": {},
     "output_type": "execute_result"
    }
   ],
   "source": [
    "X_demean = demean(X)\n",
    "X_demean"
   ]
  },
  {
   "cell_type": "code",
   "execution_count": 15,
   "metadata": {},
   "outputs": [
    {
     "data": {
      "image/png": "[encoded data removed]",
      "text/plain": [
       "<Figure size 432x288 with 1 Axes>"
      ]
     },
     "metadata": {
      "needs_background": "light"
     },
     "output_type": "display_data"
    }
   ],
   "source": [
    "plt.scatter(X_demean[:,0],X_demean[:,1])\n",
    "plt.show()"
   ]
  },
  {
   "cell_type": "code",
   "execution_count": 19,
   "metadata": {},
   "outputs": [
    {
     "data": {
      "text/plain": [
       "-1.1297629498585594e-14"
      ]
     },
     "execution_count": 19,
     "metadata": {},
     "output_type": "execute_result"
    }
   ],
   "source": [
    "np.mean(X_demean[:,0])"
   ]
  },
  {
   "cell_type": "code",
   "execution_count": 20,
   "metadata": {
    "scrolled": true
   },
   "outputs": [
    {
     "data": {
      "text/plain": [
       "1.2683187833317788e-14"
      ]
     },
     "execution_count": 20,
     "metadata": {},
     "output_type": "execute_result"
    }
   ],
   "source": [
    "np.mean(X_demean[:,1])"
   ]
  },
  {
   "cell_type": "markdown",
   "metadata": {},
   "source": [
    "## 梯度上升法\n"
   ]
  },
  {
   "cell_type": "code",
   "execution_count": 21,
   "metadata": {},
   "outputs": [],
   "source": [
    "def f(w, X):\n",
    "    return np.sum (X.dot(w) ** 2) / len(X)"
   ]
  },
  {
   "cell_type": "code",
   "execution_count": 24,
   "metadata": {},
   "outputs": [],
   "source": [
    "def df_math(w,X):\n",
    "    return X.T.dot(X.dot(w)) * 2. / len(X)"
   ]
  },
  {
   "cell_type": "code",
   "execution_count": 26,
   "metadata": {},
   "outputs": [],
   "source": [
    "def df_debug(w,X,epsilon=0.0001):\n",
    "    res = np.empty(len(w))\n",
    "    for i in range(len(w)):\n",
    "        w_1 =w.copy()\n",
    "        w_1[i] += epsilon\n",
    "        w_2 = w.copy()\n",
    "        w_2[i] -= epsilon\n",
    "        res[i] = (f(w_1,X) - f(w_2,X))/ 2 * epsilon\n",
    "    return res\n"
   ]
  },
  {
   "cell_type": "code",
   "execution_count": 28,
   "metadata": {},
   "outputs": [],
   "source": [
    "def direction(w):\n",
    "    return w/np.linalg.norm(w)"
   ]
  },
  {
   "cell_type": "code",
   "execution_count": 45,
   "metadata": {},
   "outputs": [],
   "source": [
    "def f(w, X):\n",
    "    return np.sum((X.dot(w)**2)) / len(X)\n",
    "\n",
    "def df_math(w, X):\n",
    "    return X.T.dot(X.dot(w)) * 2. / len(X)\n",
    "\n",
    "def df_debug(w, X, epsilon=0.0001):\n",
    "    res = np.empty(len(w))\n",
    "    for i in range(len(w)):\n",
    "        w_1 = w.copy()\n",
    "        w_1[i] += epsilon\n",
    "        w_2 = w.copy()\n",
    "        w_2[i] -= epsilon\n",
    "        res[i] = (f(w_1, X) - f(w_2, X)) / (2 * epsilon)\n",
    "    return res\n",
    "\n",
    "def direction(w):\n",
    "    return w / np.linalg.norm(w)\n",
    "\n",
    "def gradient_ascent(df, X, initial_w, eta, n_iters = 1e4, epsilon=1e-8):\n",
    "    \n",
    "    w = direction(initial_w) \n",
    "    cur_iter = 0\n",
    "\n",
    "    while cur_iter < n_iters:\n",
    "        gradient = df(w, X)\n",
    "        last_w = w\n",
    "        w = w + eta * gradient\n",
    "        w = direction(w) # 注意1：每次求一个单位方向\n",
    "        if(abs(f(w, X) - f(last_w, X)) < epsilon):\n",
    "            break\n",
    "            \n",
    "        cur_iter += 1\n",
    "\n",
    "    return w"
   ]
  },
  {
   "cell_type": "code",
   "execution_count": 41,
   "metadata": {},
   "outputs": [
    {
     "data": {
      "text/plain": [
       "array([0.79429734, 0.09562457])"
      ]
     },
     "execution_count": 41,
     "metadata": {},
     "output_type": "execute_result"
    }
   ],
   "source": [
    "initial_w = np.random.random(X.shape[1])  # 注意2：不能用0向量开始\n",
    "initial_w"
   ]
  },
  {
   "cell_type": "code",
   "execution_count": 42,
   "metadata": {},
   "outputs": [],
   "source": [
    "eta = 0.001\n",
    "# 注意3： 不能使用StandardScaler标准化数据"
   ]
  },
  {
   "cell_type": "code",
   "execution_count": 43,
   "metadata": {},
   "outputs": [
    {
     "data": {
      "text/plain": [
       "array([0.76511841, 0.6438896 ])"
      ]
     },
     "execution_count": 43,
     "metadata": {},
     "output_type": "execute_result"
    }
   ],
   "source": [
    "gradient_ascent(df_debug, X_demean, initial_w, eta)"
   ]
  },
  {
   "cell_type": "code",
   "execution_count": 47,
   "metadata": {},
   "outputs": [],
   "source": [
    "w = gradient_ascent(df_math, X_demean, initial_w, eta)"
   ]
  },
  {
   "cell_type": "code",
   "execution_count": 48,
   "metadata": {},
   "outputs": [
    {
     "data": {
      "text/plain": [
       "[0, 22.95355227982337]"
      ]
     },
     "execution_count": 48,
     "metadata": {},
     "output_type": "execute_result"
    }
   ],
   "source": [
    "[0, w[0]*30]"
   ]
  },
  {
   "cell_type": "code",
   "execution_count": 49,
   "metadata": {},
   "outputs": [
    {
     "data": {
      "text/plain": [
       "array([0.76511841, 0.6438896 ])"
      ]
     },
     "execution_count": 49,
     "metadata": {},
     "output_type": "execute_result"
    }
   ],
   "source": [
    "w"
   ]
  },
  {
   "cell_type": "code",
   "execution_count": 53,
   "metadata": {},
   "outputs": [
    {
     "data": {
      "image/png": "[encoded data removed]",
      "text/plain": [
       "<Figure size 432x288 with 1 Axes>"
      ]
     },
     "metadata": {
      "needs_background": "light"
     },
     "output_type": "display_data"
    }
   ],
   "source": [
    "plt.scatter(X[:,0],X[:,1])\n",
    "plt.plot([0,w[0] * 100],[0,w[1] * 100],color='r') # 方括号里面的意思是 100 * w 这个向量\n",
    "plt.show()"
   ]
  },
  {
   "cell_type": "markdown",
   "metadata": {},
   "source": [
    "## 使用极端数据集测试\n"
   ]
  },
  {
   "cell_type": "code",
   "execution_count": 58,
   "metadata": {},
   "outputs": [],
   "source": [
    "X2 = np.empty((100,2))\n",
    "X2[:,0] = np.random.uniform(1.,100.,size=100)\n",
    "X2[:,1] = X2[:,0] * 0.75 + 3"
   ]
  },
  {
   "cell_type": "code",
   "execution_count": 59,
   "metadata": {
    "collapsed": true
   },
   "outputs": [
    {
     "data": {
      "text/plain": [
       "array([[44.0758015 , 36.05685113],\n",
       "       [19.84552295, 17.88414221],\n",
       "       [71.29150044, 56.46862533],\n",
       "       [52.76645018, 42.57483764],\n",
       "       [12.77645327, 12.58233995],\n",
       "       [76.1758644 , 60.1318983 ],\n",
       "       [75.71419064, 59.78564298],\n",
       "       [ 8.12136878,  9.09102659],\n",
       "       [34.89919196, 29.17439397],\n",
       "       [19.36235991, 17.52176993],\n",
       "       [96.13423507, 75.10067631],\n",
       "       [10.92128085, 11.19096064],\n",
       "       [33.35045432, 28.01284074],\n",
       "       [45.29245486, 36.96934114],\n",
       "       [62.76287754, 50.07215816],\n",
       "       [34.91759519, 29.1881964 ],\n",
       "       [84.14745907, 66.1105943 ],\n",
       "       [ 5.25534939,  6.94151204],\n",
       "       [88.85164476, 69.63873357],\n",
       "       [31.65963148, 26.74472361],\n",
       "       [62.35255744, 49.76441808],\n",
       "       [51.47727922, 41.60795941],\n",
       "       [63.54247575, 50.65685681],\n",
       "       [13.32269944, 12.99202458],\n",
       "       [60.48154375, 48.36115781],\n",
       "       [28.69711489, 24.52283617],\n",
       "       [64.29633994, 51.22225495],\n",
       "       [65.36529131, 52.02396848],\n",
       "       [78.99519735, 62.24639801],\n",
       "       [24.47794358, 21.35845768],\n",
       "       [65.14235682, 51.85676761],\n",
       "       [30.98393065, 26.23794799],\n",
       "       [ 5.41813839,  7.06360379],\n",
       "       [60.09206754, 48.06905066],\n",
       "       [87.78295326, 68.83721495],\n",
       "       [13.55271341, 13.16453506],\n",
       "       [45.70462472, 37.27846854],\n",
       "       [97.1004352 , 75.8253264 ],\n",
       "       [72.51080054, 57.3831004 ],\n",
       "       [44.80620179, 36.60465134],\n",
       "       [31.91204312, 26.93403234],\n",
       "       [88.63839756, 69.47879817],\n",
       "       [42.77766782, 35.08325086],\n",
       "       [72.427153  , 57.32036475],\n",
       "       [ 1.03997971,  3.77998478],\n",
       "       [37.72051474, 31.29038606],\n",
       "       [45.12881828, 36.84661371],\n",
       "       [11.27431442, 11.45573582],\n",
       "       [ 2.94249189,  5.20686892],\n",
       "       [45.99151688, 37.49363766],\n",
       "       [57.01272488, 45.75954366],\n",
       "       [90.5795069 , 70.93463017],\n",
       "       [ 5.20743743,  6.90557807],\n",
       "       [60.34842014, 48.26131511],\n",
       "       [ 7.58798495,  8.69098871],\n",
       "       [59.66891701, 47.75168776],\n",
       "       [99.47290557, 77.60467917],\n",
       "       [31.74139073, 26.80604304],\n",
       "       [21.36574223, 19.02430667],\n",
       "       [71.98135698, 56.98601773],\n",
       "       [35.00423454, 29.25317591],\n",
       "       [29.66659504, 25.24994628],\n",
       "       [60.8700528 , 48.6525396 ],\n",
       "       [94.1551963 , 73.61639722],\n",
       "       [53.15709347, 42.8678201 ],\n",
       "       [95.5683882 , 74.67629115],\n",
       "       [14.40181643, 13.80136232],\n",
       "       [69.55649756, 55.16737317],\n",
       "       [75.52414555, 59.64310916],\n",
       "       [79.2972974 , 62.47297305],\n",
       "       [60.21994932, 48.16496199],\n",
       "       [49.20917692, 39.90688269],\n",
       "       [21.64794571, 19.23595928],\n",
       "       [54.60565368, 43.95424026],\n",
       "       [53.04322143, 42.78241607],\n",
       "       [17.54045776, 16.15534332],\n",
       "       [86.25450526, 67.69087894],\n",
       "       [96.9133767 , 75.68503253],\n",
       "       [95.03979246, 74.27984435],\n",
       "       [41.45768601, 34.09326451],\n",
       "       [12.79093254, 12.5931994 ],\n",
       "       [70.55596808, 55.91697606],\n",
       "       [ 2.7261122 ,  5.04458415],\n",
       "       [55.11693169, 44.33769877],\n",
       "       [ 9.7853742 , 10.33903065],\n",
       "       [95.72227614, 74.7917071 ],\n",
       "       [48.14139826, 39.10604869],\n",
       "       [57.61005228, 46.20753921],\n",
       "       [58.714563  , 47.03592225],\n",
       "       [ 1.00529062,  3.75396796],\n",
       "       [97.06360637, 75.79770478],\n",
       "       [23.09970305, 20.32477729],\n",
       "       [63.65784981, 50.74338736],\n",
       "       [65.35633259, 52.01724944],\n",
       "       [65.20818973, 51.9061423 ],\n",
       "       [99.97795981, 77.98346986],\n",
       "       [16.35667212, 15.26750409],\n",
       "       [53.56390988, 43.17293241],\n",
       "       [86.53929978, 67.90447483],\n",
       "       [74.7948019 , 59.09610142]])"
      ]
     },
     "execution_count": 59,
     "metadata": {},
     "output_type": "execute_result"
    }
   ],
   "source": [
    "X2"
   ]
  },
  {
   "cell_type": "code",
   "execution_count": 60,
   "metadata": {},
   "outputs": [
    {
     "data": {
      "image/png": "[encoded data removed]",
      "text/plain": [
       "<Figure size 432x288 with 1 Axes>"
      ]
     },
     "metadata": {
      "needs_background": "light"
     },
     "output_type": "display_data"
    }
   ],
   "source": [
    "plt.scatter(X2[:,0],X2[:,1])\n",
    "plt.show()"
   ]
  },
  {
   "cell_type": "code",
   "execution_count": 61,
   "metadata": {},
   "outputs": [],
   "source": [
    "X2_demean = demean(X2)"
   ]
  },
  {
   "cell_type": "code",
   "execution_count": 65,
   "metadata": {},
   "outputs": [],
   "source": [
    "w = gradient_ascent(df_math,X2_demean,initial_w,eta)"
   ]
  },
  {
   "cell_type": "code",
   "execution_count": 66,
   "metadata": {},
   "outputs": [
    {
     "data": {
      "text/plain": [
       "array([0.80000029, 0.59999962])"
      ]
     },
     "execution_count": 66,
     "metadata": {},
     "output_type": "execute_result"
    }
   ],
   "source": [
    "w"
   ]
  },
  {
   "cell_type": "code",
   "execution_count": 71,
   "metadata": {},
   "outputs": [
    {
     "data": {
      "image/png": "[encoded data removed]",
      "text/plain": [
       "<Figure size 432x288 with 1 Axes>"
      ]
     },
     "metadata": {
      "needs_background": "light"
     },
     "output_type": "display_data"
    }
   ],
   "source": [
    "plt.scatter(X2_demean[:,0],X2_demean[:,1])\n",
    "plt.plot([0,w[0]*40],[0,w[1]*40],color='r')\n",
    "plt.show()"
   ]
  }
 ],
 "metadata": {
  "kernelspec": {
   "display_name": "Python 3",
   "language": "python",
   "name": "python3"
  },
  "language_info": {
   "codemirror_mode": {
    "name": "ipython",
    "version": 3
   },
   "file_extension": ".py",
   "mimetype": "text/x-python",
   "name": "python",
   "nbconvert_exporter": "python",
   "pygments_lexer": "ipython3",
   "version": "3.7.1"
  }
 },
 "nbformat": 4,
 "nbformat_minor": 2
}
