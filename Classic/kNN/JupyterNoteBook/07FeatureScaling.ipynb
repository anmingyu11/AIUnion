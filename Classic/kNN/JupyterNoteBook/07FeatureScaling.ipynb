{
 "cells": [
  {
   "cell_type": "code",
   "execution_count": 1,
   "metadata": {},
   "outputs": [],
   "source": [
    "import numpy as np\n",
    "import matplotlib.pyplot as plt"
   ]
  },
  {
   "cell_type": "markdown",
   "metadata": {},
   "source": [
    "## 最值归一化"
   ]
  },
  {
   "cell_type": "code",
   "execution_count": 2,
   "metadata": {},
   "outputs": [
    {
     "data": {
      "text/plain": [
       "array([89, 29, 26, 54,  2, 64, 45, 85, 79, 17, 30, 16, 25, 19, 16, 39, 59,\n",
       "       68, 98, 93,  0, 17, 92, 59, 13, 92, 27, 77,  7, 54,  9, 74, 44, 57,\n",
       "       24, 70, 86, 43, 19, 70, 70,  6, 63, 25, 56, 52, 35, 67, 67, 91, 57,\n",
       "       97, 14,  3, 96,  8, 39, 38, 98, 75, 54,  6, 77, 86, 57, 80, 93, 53,\n",
       "       55, 31, 94, 32, 90, 94, 42, 52, 98, 33, 62, 23, 73, 85, 75, 35,  3,\n",
       "       58, 26, 52, 91, 38, 80, 92, 15, 30, 35, 21, 31, 58, 61, 51])"
      ]
     },
     "execution_count": 2,
     "metadata": {},
     "output_type": "execute_result"
    }
   ],
   "source": [
    "x = np.random.randint(0,100,100) # 生成100个 0~100之间的随机数\n",
    "x"
   ]
  },
  {
   "cell_type": "code",
   "execution_count": 3,
   "metadata": {},
   "outputs": [
    {
     "data": {
      "text/plain": [
       "array([0.90816327, 0.29591837, 0.26530612, 0.55102041, 0.02040816,\n",
       "       0.65306122, 0.45918367, 0.86734694, 0.80612245, 0.17346939,\n",
       "       0.30612245, 0.16326531, 0.25510204, 0.19387755, 0.16326531,\n",
       "       0.39795918, 0.60204082, 0.69387755, 1.        , 0.94897959,\n",
       "       0.        , 0.17346939, 0.93877551, 0.60204082, 0.13265306,\n",
       "       0.93877551, 0.2755102 , 0.78571429, 0.07142857, 0.55102041,\n",
       "       0.09183673, 0.75510204, 0.44897959, 0.58163265, 0.24489796,\n",
       "       0.71428571, 0.87755102, 0.43877551, 0.19387755, 0.71428571,\n",
       "       0.71428571, 0.06122449, 0.64285714, 0.25510204, 0.57142857,\n",
       "       0.53061224, 0.35714286, 0.68367347, 0.68367347, 0.92857143,\n",
       "       0.58163265, 0.98979592, 0.14285714, 0.03061224, 0.97959184,\n",
       "       0.08163265, 0.39795918, 0.3877551 , 1.        , 0.76530612,\n",
       "       0.55102041, 0.06122449, 0.78571429, 0.87755102, 0.58163265,\n",
       "       0.81632653, 0.94897959, 0.54081633, 0.56122449, 0.31632653,\n",
       "       0.95918367, 0.32653061, 0.91836735, 0.95918367, 0.42857143,\n",
       "       0.53061224, 1.        , 0.33673469, 0.63265306, 0.23469388,\n",
       "       0.74489796, 0.86734694, 0.76530612, 0.35714286, 0.03061224,\n",
       "       0.59183673, 0.26530612, 0.53061224, 0.92857143, 0.3877551 ,\n",
       "       0.81632653, 0.93877551, 0.15306122, 0.30612245, 0.35714286,\n",
       "       0.21428571, 0.31632653, 0.59183673, 0.62244898, 0.52040816])"
      ]
     },
     "execution_count": 3,
     "metadata": {},
     "output_type": "execute_result"
    }
   ],
   "source": [
    "(x - np.min(x))/(np.max(x) - np.min(x))"
   ]
  },
  {
   "cell_type": "code",
   "execution_count": 4,
   "metadata": {},
   "outputs": [
    {
     "data": {
      "text/plain": [
       "array([[58, 40],\n",
       "       [74, 76],\n",
       "       [13, 12],\n",
       "       [68,  4],\n",
       "       [91, 24],\n",
       "       [51, 69],\n",
       "       [34, 52],\n",
       "       [26, 60],\n",
       "       [64, 35],\n",
       "       [47,  5],\n",
       "       [ 4, 97],\n",
       "       [30, 59],\n",
       "       [51, 12],\n",
       "       [ 3, 91],\n",
       "       [13, 83],\n",
       "       [86, 86],\n",
       "       [18, 91],\n",
       "       [ 3, 36],\n",
       "       [73,  4],\n",
       "       [98, 94],\n",
       "       [49, 15],\n",
       "       [59, 31],\n",
       "       [ 6, 60],\n",
       "       [77,  3],\n",
       "       [54, 75],\n",
       "       [76, 92],\n",
       "       [21, 84],\n",
       "       [44, 55],\n",
       "       [79, 10],\n",
       "       [67, 33],\n",
       "       [49, 16],\n",
       "       [ 7,  9],\n",
       "       [20, 22],\n",
       "       [35,  4],\n",
       "       [99, 89],\n",
       "       [53, 73],\n",
       "       [97, 41],\n",
       "       [66, 62],\n",
       "       [79, 76],\n",
       "       [43,  3],\n",
       "       [88, 79],\n",
       "       [23, 25],\n",
       "       [71, 13],\n",
       "       [85, 46],\n",
       "       [70, 88],\n",
       "       [41, 79],\n",
       "       [57, 38],\n",
       "       [23, 40],\n",
       "       [81, 97],\n",
       "       [26, 21]])"
      ]
     },
     "execution_count": 4,
     "metadata": {},
     "output_type": "execute_result"
    }
   ],
   "source": [
    "x = np.random.randint(0,100,(50,2)) # 随机数是0到100, 生成(50,2)的二元组\n",
    "x"
   ]
  },
  {
   "cell_type": "code",
   "execution_count": 5,
   "metadata": {},
   "outputs": [],
   "source": [
    "X = np.array(x,dtype=float)"
   ]
  },
  {
   "cell_type": "code",
   "execution_count": 6,
   "metadata": {},
   "outputs": [
    {
     "data": {
      "text/plain": [
       "array([[58., 40.],\n",
       "       [74., 76.],\n",
       "       [13., 12.],\n",
       "       [68.,  4.],\n",
       "       [91., 24.],\n",
       "       [51., 69.],\n",
       "       [34., 52.],\n",
       "       [26., 60.],\n",
       "       [64., 35.],\n",
       "       [47.,  5.]])"
      ]
     },
     "execution_count": 6,
     "metadata": {},
     "output_type": "execute_result"
    }
   ],
   "source": [
    "X[:10,:]"
   ]
  },
  {
   "cell_type": "code",
   "execution_count": 7,
   "metadata": {},
   "outputs": [
    {
     "data": {
      "text/plain": [
       "array([58., 74., 13., 68., 91., 51., 34., 26., 64., 47.,  4., 30., 51.,\n",
       "        3., 13., 86., 18.,  3., 73., 98., 49., 59.,  6., 77., 54., 76.,\n",
       "       21., 44., 79., 67., 49.,  7., 20., 35., 99., 53., 97., 66., 79.,\n",
       "       43., 88., 23., 71., 85., 70., 41., 57., 23., 81., 26.])"
      ]
     },
     "execution_count": 7,
     "metadata": {},
     "output_type": "execute_result"
    }
   ],
   "source": [
    "X[:,0] # 第0列"
   ]
  },
  {
   "cell_type": "code",
   "execution_count": 8,
   "metadata": {},
   "outputs": [],
   "source": [
    "X[:,0] = (X[:,0] - np.min(X[:,0]))/(np.max(X[:,0]) - np.min(X[:,0]))"
   ]
  },
  {
   "cell_type": "code",
   "execution_count": 9,
   "metadata": {},
   "outputs": [],
   "source": [
    "X[:,1] = (X[:,1] - np.min(X[:,1])) / (np.max(X[:,1]) - np.min(X[:,1]))"
   ]
  },
  {
   "cell_type": "code",
   "execution_count": 10,
   "metadata": {},
   "outputs": [
    {
     "data": {
      "text/plain": [
       "array([[0.57291667, 0.39361702],\n",
       "       [0.73958333, 0.77659574],\n",
       "       [0.10416667, 0.09574468],\n",
       "       [0.67708333, 0.0106383 ],\n",
       "       [0.91666667, 0.22340426],\n",
       "       [0.5       , 0.70212766],\n",
       "       [0.32291667, 0.5212766 ],\n",
       "       [0.23958333, 0.60638298],\n",
       "       [0.63541667, 0.34042553],\n",
       "       [0.45833333, 0.0212766 ],\n",
       "       [0.01041667, 1.        ],\n",
       "       [0.28125   , 0.59574468],\n",
       "       [0.5       , 0.09574468],\n",
       "       [0.        , 0.93617021],\n",
       "       [0.10416667, 0.85106383],\n",
       "       [0.86458333, 0.88297872],\n",
       "       [0.15625   , 0.93617021],\n",
       "       [0.        , 0.35106383],\n",
       "       [0.72916667, 0.0106383 ],\n",
       "       [0.98958333, 0.96808511],\n",
       "       [0.47916667, 0.12765957],\n",
       "       [0.58333333, 0.29787234],\n",
       "       [0.03125   , 0.60638298],\n",
       "       [0.77083333, 0.        ],\n",
       "       [0.53125   , 0.76595745],\n",
       "       [0.76041667, 0.94680851],\n",
       "       [0.1875    , 0.86170213],\n",
       "       [0.42708333, 0.55319149],\n",
       "       [0.79166667, 0.07446809],\n",
       "       [0.66666667, 0.31914894],\n",
       "       [0.47916667, 0.13829787],\n",
       "       [0.04166667, 0.06382979],\n",
       "       [0.17708333, 0.20212766],\n",
       "       [0.33333333, 0.0106383 ],\n",
       "       [1.        , 0.91489362],\n",
       "       [0.52083333, 0.74468085],\n",
       "       [0.97916667, 0.40425532],\n",
       "       [0.65625   , 0.62765957],\n",
       "       [0.79166667, 0.77659574],\n",
       "       [0.41666667, 0.        ],\n",
       "       [0.88541667, 0.80851064],\n",
       "       [0.20833333, 0.23404255],\n",
       "       [0.70833333, 0.10638298],\n",
       "       [0.85416667, 0.45744681],\n",
       "       [0.69791667, 0.90425532],\n",
       "       [0.39583333, 0.80851064],\n",
       "       [0.5625    , 0.37234043],\n",
       "       [0.20833333, 0.39361702],\n",
       "       [0.8125    , 1.        ],\n",
       "       [0.23958333, 0.19148936]])"
      ]
     },
     "execution_count": 10,
     "metadata": {},
     "output_type": "execute_result"
    }
   ],
   "source": [
    "X"
   ]
  },
  {
   "cell_type": "code",
   "execution_count": 11,
   "metadata": {},
   "outputs": [
    {
     "data": {
      "text/plain": [
       "array([[0.57291667, 0.39361702],\n",
       "       [0.73958333, 0.77659574],\n",
       "       [0.10416667, 0.09574468],\n",
       "       [0.67708333, 0.0106383 ],\n",
       "       [0.91666667, 0.22340426],\n",
       "       [0.5       , 0.70212766],\n",
       "       [0.32291667, 0.5212766 ],\n",
       "       [0.23958333, 0.60638298],\n",
       "       [0.63541667, 0.34042553],\n",
       "       [0.45833333, 0.0212766 ]])"
      ]
     },
     "execution_count": 11,
     "metadata": {},
     "output_type": "execute_result"
    }
   ],
   "source": [
    "X[:10,:] # 所有列的前10行"
   ]
  },
  {
   "cell_type": "code",
   "execution_count": 12,
   "metadata": {},
   "outputs": [
    {
     "data": {
      "image/png": "[encoded data removed]",
      "text/plain": [
       "<Figure size 432x288 with 1 Axes>"
      ]
     },
     "metadata": {
      "needs_background": "light"
     },
     "output_type": "display_data"
    }
   ],
   "source": [
    "plt.scatter(X[:,0],X[:,1])\n",
    "plt.show()"
   ]
  },
  {
   "cell_type": "code",
   "execution_count": 13,
   "metadata": {},
   "outputs": [
    {
     "data": {
      "text/plain": [
       "0.5"
      ]
     },
     "execution_count": 13,
     "metadata": {},
     "output_type": "execute_result"
    }
   ],
   "source": [
    "np.mean(X[:,0]) # 第0列的均值"
   ]
  },
  {
   "cell_type": "code",
   "execution_count": 14,
   "metadata": {},
   "outputs": [
    {
     "data": {
      "text/plain": [
       "0.4806382978723404"
      ]
     },
     "execution_count": 14,
     "metadata": {},
     "output_type": "execute_result"
    }
   ],
   "source": [
    "np.mean(X[:,1]) # 第1列的均值"
   ]
  },
  {
   "cell_type": "code",
   "execution_count": 15,
   "metadata": {},
   "outputs": [
    {
     "data": {
      "text/plain": [
       "0.29196413402258087"
      ]
     },
     "execution_count": 15,
     "metadata": {},
     "output_type": "execute_result"
    }
   ],
   "source": [
    "np.std(X[:,0]) # 第0列的方差"
   ]
  },
  {
   "cell_type": "code",
   "execution_count": 16,
   "metadata": {},
   "outputs": [
    {
     "data": {
      "text/plain": [
       "0.33631622199501937"
      ]
     },
     "execution_count": 16,
     "metadata": {},
     "output_type": "execute_result"
    }
   ],
   "source": [
    "np.std(X[:,1]) # 第1列的方差"
   ]
  },
  {
   "cell_type": "markdown",
   "metadata": {},
   "source": [
    "## 均值方差归一化"
   ]
  },
  {
   "cell_type": "code",
   "execution_count": 17,
   "metadata": {},
   "outputs": [],
   "source": [
    "X2 = np.random.randint(0,100,(50,2))"
   ]
  },
  {
   "cell_type": "code",
   "execution_count": 18,
   "metadata": {},
   "outputs": [],
   "source": [
    "X2 = np.array(X2,dtype=float)"
   ]
  },
  {
   "cell_type": "code",
   "execution_count": 19,
   "metadata": {},
   "outputs": [
    {
     "data": {
      "text/plain": [
       "array([[87., 77.],\n",
       "       [43., 40.],\n",
       "       [88., 23.],\n",
       "       [86., 87.],\n",
       "       [61., 50.],\n",
       "       [81., 21.],\n",
       "       [38., 11.],\n",
       "       [76., 65.],\n",
       "       [76., 29.],\n",
       "       [97., 73.]])"
      ]
     },
     "execution_count": 19,
     "metadata": {},
     "output_type": "execute_result"
    }
   ],
   "source": [
    "X2[:10,:]"
   ]
  },
  {
   "cell_type": "code",
   "execution_count": 20,
   "metadata": {},
   "outputs": [],
   "source": [
    "X2[:,0] = (X2[:,0] - np.mean(X2[:,0])) / np.std(X2[:,0])\n",
    "X2[:,1] = (X2[:,1] - np.mean(X2[:,1])) / np.std(X2[:,1])"
   ]
  },
  {
   "cell_type": "code",
   "execution_count": 21,
   "metadata": {},
   "outputs": [
    {
     "data": {
      "text/plain": [
       "array([[ 9.52944427e-01,  9.75114799e-01],\n",
       "       [-7.64072558e-01, -3.60164533e-01],\n",
       "       [ 9.91967540e-01, -9.73671254e-01],\n",
       "       [ 9.13921313e-01,  1.33600111e+00],\n",
       "       [-6.16565190e-02,  7.21772612e-04],\n",
       "       [ 7.18805747e-01, -1.04584852e+00],\n",
       "       [-9.59188125e-01, -1.40673482e+00],\n",
       "       [ 5.23690180e-01,  5.42051232e-01],\n",
       "       [ 5.23690180e-01, -7.57139470e-01],\n",
       "       [ 1.34317556e+00,  8.30760277e-01],\n",
       "       [-1.23234992e+00, -9.37582623e-01],\n",
       "       [ 1.18708311e+00, -8.29316731e-01],\n",
       "       [ 5.23690180e-01, -1.04584852e+00],\n",
       "       [-2.26334057e-02,  3.97696709e-01],\n",
       "       [-1.46648860e+00, -3.53668580e-02],\n",
       "       [ 1.38219867e+00, -2.87987272e-01],\n",
       "       [ 4.45643954e-01, -6.12784948e-01],\n",
       "       [ 4.45643954e-01,  1.66079878e+00],\n",
       "       [ 4.06620841e-01, -1.79721380e-01],\n",
       "       [-7.64072558e-01,  6.86405754e-01],\n",
       "       [-1.23234992e+00,  7.94671646e-01],\n",
       "       [-3.73841425e-01,  1.15555795e+00],\n",
       "       [ 1.07001377e+00, -1.55108934e+00],\n",
       "       [-2.26334057e-02,  1.81164926e-01],\n",
       "       [ 6.01736407e-01,  1.73297604e+00],\n",
       "       [ 1.07001377e+00,  1.62471015e+00],\n",
       "       [-8.03095672e-01, -6.12784948e-01],\n",
       "       [-8.42118785e-01, -5.76696317e-01],\n",
       "       [-2.95795199e-01,  2.89430817e-01],\n",
       "       [ 3.67597727e-01,  1.04729206e+00],\n",
       "       [-9.20165012e-01, -1.33455756e+00],\n",
       "       [ 3.67597727e-01,  1.55253289e+00],\n",
       "       [-1.19332680e+00, -1.08193715e+00],\n",
       "       [ 5.23690180e-01, -3.24075903e-01],\n",
       "       [-2.12988152e+00,  9.39026168e-01],\n",
       "       [-1.19332680e+00, -3.53668580e-02],\n",
       "       [ 8.74898200e-01, -7.14554886e-02],\n",
       "       [ 1.30415245e+00, -7.14554886e-02],\n",
       "       [ 1.18708311e+00, -1.51500071e+00],\n",
       "       [ 1.18708311e+00, -1.04584852e+00],\n",
       "       [ 5.62713294e-01, -1.33455756e+00],\n",
       "       [-1.31039614e+00, -1.76762113e+00],\n",
       "       [-1.38844237e+00,  1.26382384e+00],\n",
       "       [ 9.13921313e-01,  6.14228493e-01],\n",
       "       [-1.27137303e+00, -1.58717797e+00],\n",
       "       [ 1.14805999e+00,  1.51644426e+00],\n",
       "       [-1.19332680e+00,  1.08338069e+00],\n",
       "       [-1.89574284e+00,  4.69873971e-01],\n",
       "       [ 8.74898200e-01,  3.61608079e-01],\n",
       "       [-1.07625746e+00,  3.25519448e-01]])"
      ]
     },
     "execution_count": 21,
     "metadata": {},
     "output_type": "execute_result"
    }
   ],
   "source": [
    "X2"
   ]
  },
  {
   "cell_type": "code",
   "execution_count": 22,
   "metadata": {},
   "outputs": [
    {
     "data": {
      "image/png": "[encoded data removed]",
      "text/plain": [
       "<Figure size 432x288 with 1 Axes>"
      ]
     },
     "metadata": {
      "needs_background": "light"
     },
     "output_type": "display_data"
    }
   ],
   "source": [
    "plt.scatter(X[:,0],X[:,1])\n",
    "plt.show()"
   ]
  },
  {
   "cell_type": "code",
   "execution_count": 23,
   "metadata": {},
   "outputs": [
    {
     "data": {
      "text/plain": [
       "3.552713678800501e-17"
      ]
     },
     "execution_count": 23,
     "metadata": {},
     "output_type": "execute_result"
    }
   ],
   "source": [
    "np.mean(X2[:,0])"
   ]
  },
  {
   "cell_type": "code",
   "execution_count": 24,
   "metadata": {},
   "outputs": [
    {
     "data": {
      "text/plain": [
       "1.0"
      ]
     },
     "execution_count": 24,
     "metadata": {},
     "output_type": "execute_result"
    }
   ],
   "source": [
    "np.std(X2[:,0])"
   ]
  },
  {
   "cell_type": "code",
   "execution_count": 25,
   "metadata": {},
   "outputs": [
    {
     "data": {
      "text/plain": [
       "1.2656542480726783e-16"
      ]
     },
     "execution_count": 25,
     "metadata": {},
     "output_type": "execute_result"
    }
   ],
   "source": [
    "np.mean(X2[:,1])"
   ]
  },
  {
   "cell_type": "code",
   "execution_count": 26,
   "metadata": {},
   "outputs": [
    {
     "data": {
      "text/plain": [
       "1.0"
      ]
     },
     "execution_count": 26,
     "metadata": {},
     "output_type": "execute_result"
    }
   ],
   "source": [
    "np.std(X2[:,1])"
   ]
  }
 ],
 "metadata": {
  "kernelspec": {
   "display_name": "Python 3",
   "language": "python",
   "name": "python3"
  },
  "language_info": {
   "codemirror_mode": {
    "name": "ipython",
    "version": 3
   },
   "file_extension": ".py",
   "mimetype": "text/x-python",
   "name": "python",
   "nbconvert_exporter": "python",
   "pygments_lexer": "ipython3",
   "version": "3.7.1"
  }
 },
 "nbformat": 4,
 "nbformat_minor": 2
}
