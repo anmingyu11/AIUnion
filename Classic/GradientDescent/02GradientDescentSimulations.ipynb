{
 "cells": [
  {
   "cell_type": "markdown",
   "metadata": {},
   "source": [
    "# 模拟梯度下降法\n"
   ]
  },
  {
   "cell_type": "code",
   "execution_count": 1,
   "metadata": {},
   "outputs": [],
   "source": [
    "import numpy as np\n",
    "import matplotlib.pyplot as plt"
   ]
  },
  {
   "cell_type": "code",
   "execution_count": 2,
   "metadata": {},
   "outputs": [
    {
     "data": {
      "text/plain": [
       "'\\nReturn evenly spaced numbers over a specified interval.\\nReturns num evenly spaced samples, calculated over the interval [start, stop].\\nThe endpoint of the interval can optionally be excluded.\\nChanged in version 1.16.0: Non-scalar start and stop are now supported.\\n'"
      ]
     },
     "execution_count": 2,
     "metadata": {},
     "output_type": "execute_result"
    }
   ],
   "source": [
    "plot_x =  np.linspace(1,4,200)\n",
    "\"\"\"\n",
    "Return evenly spaced numbers over a specified interval.\n",
    "Returns num evenly spaced samples, calculated over the interval [start, stop].\n",
    "The endpoint of the interval can optionally be excluded.\n",
    "Changed in version 1.16.0: Non-scalar start and stop are now supported.\n",
    "\"\"\""
   ]
  },
  {
   "cell_type": "code",
   "execution_count": 3,
   "metadata": {},
   "outputs": [
    {
     "data": {
      "text/plain": [
       "array([1.        , 1.01507538, 1.03015075, 1.04522613, 1.06030151,\n",
       "       1.07537688, 1.09045226, 1.10552764, 1.12060302, 1.13567839,\n",
       "       1.15075377, 1.16582915, 1.18090452, 1.1959799 , 1.21105528,\n",
       "       1.22613065, 1.24120603, 1.25628141, 1.27135678, 1.28643216,\n",
       "       1.30150754, 1.31658291, 1.33165829, 1.34673367, 1.36180905,\n",
       "       1.37688442, 1.3919598 , 1.40703518, 1.42211055, 1.43718593,\n",
       "       1.45226131, 1.46733668, 1.48241206, 1.49748744, 1.51256281,\n",
       "       1.52763819, 1.54271357, 1.55778894, 1.57286432, 1.5879397 ,\n",
       "       1.60301508, 1.61809045, 1.63316583, 1.64824121, 1.66331658,\n",
       "       1.67839196, 1.69346734, 1.70854271, 1.72361809, 1.73869347,\n",
       "       1.75376884, 1.76884422, 1.7839196 , 1.79899497, 1.81407035,\n",
       "       1.82914573, 1.84422111, 1.85929648, 1.87437186, 1.88944724,\n",
       "       1.90452261, 1.91959799, 1.93467337, 1.94974874, 1.96482412,\n",
       "       1.9798995 , 1.99497487, 2.01005025, 2.02512563, 2.04020101,\n",
       "       2.05527638, 2.07035176, 2.08542714, 2.10050251, 2.11557789,\n",
       "       2.13065327, 2.14572864, 2.16080402, 2.1758794 , 2.19095477,\n",
       "       2.20603015, 2.22110553, 2.2361809 , 2.25125628, 2.26633166,\n",
       "       2.28140704, 2.29648241, 2.31155779, 2.32663317, 2.34170854,\n",
       "       2.35678392, 2.3718593 , 2.38693467, 2.40201005, 2.41708543,\n",
       "       2.4321608 , 2.44723618, 2.46231156, 2.47738693, 2.49246231,\n",
       "       2.50753769, 2.52261307, 2.53768844, 2.55276382, 2.5678392 ,\n",
       "       2.58291457, 2.59798995, 2.61306533, 2.6281407 , 2.64321608,\n",
       "       2.65829146, 2.67336683, 2.68844221, 2.70351759, 2.71859296,\n",
       "       2.73366834, 2.74874372, 2.7638191 , 2.77889447, 2.79396985,\n",
       "       2.80904523, 2.8241206 , 2.83919598, 2.85427136, 2.86934673,\n",
       "       2.88442211, 2.89949749, 2.91457286, 2.92964824, 2.94472362,\n",
       "       2.95979899, 2.97487437, 2.98994975, 3.00502513, 3.0201005 ,\n",
       "       3.03517588, 3.05025126, 3.06532663, 3.08040201, 3.09547739,\n",
       "       3.11055276, 3.12562814, 3.14070352, 3.15577889, 3.17085427,\n",
       "       3.18592965, 3.20100503, 3.2160804 , 3.23115578, 3.24623116,\n",
       "       3.26130653, 3.27638191, 3.29145729, 3.30653266, 3.32160804,\n",
       "       3.33668342, 3.35175879, 3.36683417, 3.38190955, 3.39698492,\n",
       "       3.4120603 , 3.42713568, 3.44221106, 3.45728643, 3.47236181,\n",
       "       3.48743719, 3.50251256, 3.51758794, 3.53266332, 3.54773869,\n",
       "       3.56281407, 3.57788945, 3.59296482, 3.6080402 , 3.62311558,\n",
       "       3.63819095, 3.65326633, 3.66834171, 3.68341709, 3.69849246,\n",
       "       3.71356784, 3.72864322, 3.74371859, 3.75879397, 3.77386935,\n",
       "       3.78894472, 3.8040201 , 3.81909548, 3.83417085, 3.84924623,\n",
       "       3.86432161, 3.87939698, 3.89447236, 3.90954774, 3.92462312,\n",
       "       3.93969849, 3.95477387, 3.96984925, 3.98492462, 4.        ])"
      ]
     },
     "execution_count": 3,
     "metadata": {},
     "output_type": "execute_result"
    }
   ],
   "source": [
    "plot_x"
   ]
  },
  {
   "cell_type": "code",
   "execution_count": 4,
   "metadata": {},
   "outputs": [],
   "source": [
    "plot_y = (plot_x - 2.5) ** 2 - 1"
   ]
  },
  {
   "cell_type": "code",
   "execution_count": 5,
   "metadata": {},
   "outputs": [
    {
     "data": {
      "image/png": "[encoded data removed]",
      "text/plain": [
       "<Figure size 432x288 with 1 Axes>"
      ]
     },
     "metadata": {
      "needs_background": "light"
     },
     "output_type": "display_data"
    }
   ],
   "source": [
    "plt.plot(plot_x, plot_y)\n",
    "plt.show()"
   ]
  },
  {
   "cell_type": "code",
   "execution_count": 6,
   "metadata": {},
   "outputs": [],
   "source": [
    "epsilon = 1e-8\n",
    "eta = 0.1"
   ]
  },
  {
   "cell_type": "code",
   "execution_count": 7,
   "metadata": {},
   "outputs": [],
   "source": [
    "def J(theta):\n",
    "    return (theta- 2.5) ** 2 - 1"
   ]
  },
  {
   "cell_type": "code",
   "execution_count": 8,
   "metadata": {},
   "outputs": [],
   "source": [
    "def dJ(theta): \n",
    "    # theta单位变化时,\n",
    "    return 2 * (theta - 2.5)"
   ]
  },
  {
   "cell_type": "code",
   "execution_count": 9,
   "metadata": {},
   "outputs": [
    {
     "name": "stdout",
     "output_type": "stream",
     "text": [
      "2.499891109642585\n",
      "-0.99999998814289\n"
     ]
    }
   ],
   "source": [
    "theta = 0.0\n",
    "while True:\n",
    "    gradient = dJ(theta)\n",
    "    last_theta = theta\n",
    "    theta = theta - eta * gradient\n",
    "    \n",
    "    if(abs(J(theta) - J(last_theta)) < epsilon):\n",
    "        break\n",
    "\n",
    "print(theta)\n",
    "print(J(theta))"
   ]
  },
  {
   "cell_type": "code",
   "execution_count": 10,
   "metadata": {},
   "outputs": [
    {
     "name": "stdout",
     "output_type": "stream",
     "text": [
      "2.499891109642585\n",
      "-0.99999998814289\n"
     ]
    },
    {
     "data": {
      "image/png": "[encoded data removed]",
      "text/plain": [
       "<Figure size 432x288 with 1 Axes>"
      ]
     },
     "metadata": {
      "needs_background": "light"
     },
     "output_type": "display_data"
    },
    {
     "name": "stdout",
     "output_type": "stream",
     "text": [
      "[0.0, 0.5, 0.9, 1.2200000000000002, 1.4760000000000002, 1.6808, 1.84464, 1.9757120000000001, 2.0805696, 2.16445568, 2.2315645440000003, 2.2852516352000003, 2.32820130816, 2.362561046528, 2.3900488372224, 2.41203906977792, 2.429631255822336, 2.4437050046578688, 2.454964003726295, 2.4639712029810363, 2.471176962384829, 2.476941569907863, 2.4815532559262907, 2.4852426047410328, 2.488194083792826, 2.490555267034261, 2.492444213627409, 2.493955370901927, 2.4951642967215415, 2.496131437377233, 2.4969051499017865, 2.497524119921429, 2.4980192959371434, 2.4984154367497147, 2.4987323493997717, 2.498985879519817, 2.4991887036158538, 2.499350962892683, 2.4994807703141464, 2.499584616251317, 2.4996676930010535, 2.499734154400843, 2.4997873235206742, 2.4998298588165393, 2.4998638870532313]\n"
     ]
    }
   ],
   "source": [
    "theta = 0.0\n",
    "theta_history = []\n",
    "\n",
    "while True:\n",
    "    gradient = dJ(theta)\n",
    "    last_theta = theta\n",
    "    theta = theta - eta * gradient\n",
    "    theta_history.append(last_theta)\n",
    "    \n",
    "    if(abs(J(theta) - J(last_theta)) < epsilon):\n",
    "        break\n",
    "\n",
    "print(theta)\n",
    "print(J(theta))\n",
    "\n",
    "plt.plot(plot_x,J(plot_x))\n",
    "plt.plot(np.array(theta_history),J(np.array(theta_history)),color='r',marker='+')\n",
    "plt.show()\n",
    "print(theta_history)"
   ]
  },
  {
   "cell_type": "code",
   "execution_count": 11,
   "metadata": {},
   "outputs": [
    {
     "data": {
      "text/plain": [
       "45"
      ]
     },
     "execution_count": 11,
     "metadata": {},
     "output_type": "execute_result"
    }
   ],
   "source": [
    "len(theta_history)"
   ]
  },
  {
   "cell_type": "code",
   "execution_count": 12,
   "metadata": {},
   "outputs": [],
   "source": [
    "plot_x  = np.linspace(-5,5,500)\n",
    "plot_y = (plot_x - 2.5) ** 2"
   ]
  },
  {
   "cell_type": "code",
   "execution_count": 13,
   "metadata": {},
   "outputs": [
    {
     "name": "stdout",
     "output_type": "stream",
     "text": [
      "2.499891109642585\n",
      "-0.99999998814289\n"
     ]
    },
    {
     "data": {
      "image/png": "[encoded data removed]",
      "text/plain": [
       "<Figure size 432x288 with 1 Axes>"
      ]
     },
     "metadata": {
      "needs_background": "light"
     },
     "output_type": "display_data"
    }
   ],
   "source": [
    "theta_history =[]\n",
    "\n",
    "def gradient_descent(initial_theta, eta=0.1,epsilon=1e-8):\n",
    "    theta = initial_theta\n",
    "    \n",
    "    while True:\n",
    "        gradient = dJ(theta)\n",
    "        last_theta = theta\n",
    "        theta_history.append(last_theta)\n",
    "        theta = theta - eta * gradient\n",
    "        \n",
    "        if(abs(J(theta) - J(last_theta)) < epsilon):\n",
    "            break\n",
    "        \n",
    "    print(theta)\n",
    "    print(J(theta))\n",
    "\n",
    "def plot_theta_history():\n",
    "    plt.plot(plot_x,J(plot_x))\n",
    "    plt.plot(np.array(theta_history),J(np.array(theta_history)),color='r',marker='+')\n",
    "    plt.show()\n",
    "\n",
    "gradient_descent(0.0)\n",
    "plot_theta_history()"
   ]
  },
  {
   "cell_type": "code",
   "execution_count": 14,
   "metadata": {},
   "outputs": [
    {
     "name": "stdout",
     "output_type": "stream",
     "text": [
      "2.4995140741236224\n",
      "-0.9999997638760426\n"
     ]
    },
    {
     "data": {
      "image/png": "[encoded data removed]",
      "text/plain": [
       "<Figure size 432x288 with 1 Axes>"
      ]
     },
     "metadata": {
      "needs_background": "light"
     },
     "output_type": "display_data"
    },
    {
     "data": {
      "text/plain": [
       "423"
      ]
     },
     "execution_count": 14,
     "metadata": {},
     "output_type": "execute_result"
    }
   ],
   "source": [
    "eta = 0.01\n",
    "theta_history=[]\n",
    "gradient_descent(0.0,eta)\n",
    "plot_theta_history()\n",
    "len(theta_history)"
   ]
  },
  {
   "cell_type": "code",
   "execution_count": 15,
   "metadata": {},
   "outputs": [
    {
     "name": "stdout",
     "output_type": "stream",
     "text": [
      "2.500054842376601\n",
      "-0.9999999969923137\n"
     ]
    },
    {
     "data": {
      "image/png": "[encoded data removed]",
      "text/plain": [
       "<Figure size 432x288 with 1 Axes>"
      ]
     },
     "metadata": {
      "needs_background": "light"
     },
     "output_type": "display_data"
    },
    {
     "data": {
      "text/plain": [
       "21"
      ]
     },
     "execution_count": 15,
     "metadata": {},
     "output_type": "execute_result"
    }
   ],
   "source": [
    "eta = 0.8\n",
    "theta_history=[]\n",
    "gradient_descent(0.0,eta)\n",
    "plot_theta_history()\n",
    "len(theta_history)"
   ]
  },
  {
   "cell_type": "code",
   "execution_count": 16,
   "metadata": {},
   "outputs": [],
   "source": [
    "def J(theta):\n",
    "    try:\n",
    "        return (theta -2.5) ** 2 - 1\n",
    "    except:\n",
    "        return float('inf')"
   ]
  },
  {
   "cell_type": "code",
   "execution_count": 17,
   "metadata": {},
   "outputs": [],
   "source": [
    "def gradient_descent(initial_theta,eta,n_iters=1e4,epsilon=1e-8):\n",
    "    theta = initial_theta\n",
    "    u_iter = 0\n",
    "    while u_iter < n_iters:\n",
    "        gradient = dJ(theta)\n",
    "        last_theta = theta\n",
    "        theta_history.append(last_theta)\n",
    "        theta = theta - eta * gradient\n",
    "        \n",
    "        if(abs(J(theta) - J(last_theta)) < epsilon):\n",
    "            break\n",
    "        \n",
    "        u_iter +=1\n",
    "    print('len theta history : ', len(theta_history))"
   ]
  },
  {
   "cell_type": "code",
   "execution_count": 18,
   "metadata": {},
   "outputs": [
    {
     "name": "stdout",
     "output_type": "stream",
     "text": [
      "len theta history :  10\n"
     ]
    },
    {
     "data": {
      "image/png": "[encoded data removed]",
      "text/plain": [
       "<Figure size 432x288 with 1 Axes>"
      ]
     },
     "metadata": {
      "needs_background": "light"
     },
     "output_type": "display_data"
    }
   ],
   "source": [
    "eta = 1.1\n",
    "theta_history = []\n",
    "gradient_descent(0.0,eta,n_iters=10)\n",
    "plot_theta_history()"
   ]
  }
 ],
 "metadata": {
  "kernelspec": {
   "display_name": "Python 3",
   "language": "python",
   "name": "python3"
  },
  "language_info": {
   "codemirror_mode": {
    "name": "ipython",
    "version": 3
   },
   "file_extension": ".py",
   "mimetype": "text/x-python",
   "name": "python",
   "nbconvert_exporter": "python",
   "pygments_lexer": "ipython3",
   "version": "3.7.1"
  }
 },
 "nbformat": 4,
 "nbformat_minor": 2
}
