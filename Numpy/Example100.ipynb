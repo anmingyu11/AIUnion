{
 "cells": [
  {
   "cell_type": "markdown",
   "metadata": {},
   "source": [
    "## 1、导入numpy作为np，并查看版本\n",
    "\n",
    "难度等级：L1\n",
    "\n",
    "问题：将numpy导入为 np 并打印版本号。\n",
    "\n",
    "答案："
   ]
  },
  {
   "cell_type": "code",
   "execution_count": 1,
   "metadata": {},
   "outputs": [
    {
     "name": "stdout",
     "output_type": "stream",
     "text": [
      "1.16.4\n"
     ]
    }
   ],
   "source": [
    "import numpy as np\n",
    "print(np.__version__)"
   ]
  },
  {
   "cell_type": "markdown",
   "metadata": {},
   "source": [
    "你必须将numpy导入np，才能使本练习中的其余代码正常工作。\n",
    "\n",
    "要安装numpy，建议安装anaconda，里面已经包含了numpy。\n",
    "\n",
    "---------------------"
   ]
  },
  {
   "cell_type": "markdown",
   "metadata": {},
   "source": [
    "# 2、如何创建一维数组？\n",
    "\n",
    "难度等级：L1\n",
    "\n",
    "问题：创建从0到9的一维数字数组\n",
    "\n",
    "期望输出：\n",
    "\n",
    "```\n",
    "# > array([0, 1, 2, 3, 4, 5, 6, 7, 8, 9])\n",
    "```\n",
    "答案："
   ]
  },
  {
   "cell_type": "code",
   "execution_count": 2,
   "metadata": {},
   "outputs": [
    {
     "data": {
      "text/plain": [
       "array([0, 1, 2, 3, 4, 5, 6, 7, 8, 9])"
      ]
     },
     "execution_count": 2,
     "metadata": {},
     "output_type": "execute_result"
    }
   ],
   "source": [
    "arr = np.arange(10)\n",
    "arr"
   ]
  },
  {
   "cell_type": "markdown",
   "metadata": {},
   "source": [
    "# 3. 如何创建一个布尔数组？\n",
    "\n",
    "难度等级：L1\n",
    "\n",
    "问题：创建一个numpy数组元素值全为True（真）的数组\n",
    "\n",
    "答案："
   ]
  },
  {
   "cell_type": "code",
   "execution_count": 3,
   "metadata": {},
   "outputs": [
    {
     "data": {
      "text/plain": [
       "array([[ True,  True,  True],\n",
       "       [ True,  True,  True],\n",
       "       [ True,  True,  True]])"
      ]
     },
     "execution_count": 3,
     "metadata": {},
     "output_type": "execute_result"
    }
   ],
   "source": [
    "np.full((3,3),True,dtype='bool')"
   ]
  },
  {
   "cell_type": "code",
   "execution_count": 4,
   "metadata": {},
   "outputs": [
    {
     "data": {
      "text/plain": [
       "array([[ True,  True,  True],\n",
       "       [ True,  True,  True],\n",
       "       [ True,  True,  True]])"
      ]
     },
     "execution_count": 4,
     "metadata": {},
     "output_type": "execute_result"
    }
   ],
   "source": [
    "np.ones((3,3),dtype=bool)"
   ]
  },
  {
   "cell_type": "code",
   "execution_count": 5,
   "metadata": {},
   "outputs": [
    {
     "data": {
      "text/plain": [
       "array([[False, False, False],\n",
       "       [False, False, False],\n",
       "       [False, False, False]])"
      ]
     },
     "execution_count": 5,
     "metadata": {},
     "output_type": "execute_result"
    }
   ],
   "source": [
    "np.zeros((3,3),dtype=bool)"
   ]
  },
  {
   "cell_type": "markdown",
   "metadata": {},
   "source": [
    "# 4. 如何从一维数组中提取满足指定条件的元素？\n",
    "\n",
    "难度等级：L1\n",
    "\n",
    "问题：从 arr 中提取所有的奇数\n",
    "\n",
    "给定：\n",
    "```python\n",
    "arr = np.array([0, 1, 2, 3, 4, 5, 6, 7, 8, 9])\n",
    "```\n",
    "期望的输出：\n",
    "```python\n",
    "# > array([1, 3, 5, 7, 9])\n",
    "```\n",
    "答案："
   ]
  },
  {
   "cell_type": "code",
   "execution_count": 6,
   "metadata": {},
   "outputs": [
    {
     "data": {
      "text/plain": [
       "array([1, 3, 5, 7, 9])"
      ]
     },
     "execution_count": 6,
     "metadata": {},
     "output_type": "execute_result"
    }
   ],
   "source": [
    "arr = np.arange(10)\n",
    "arr[(arr&1)==1]"
   ]
  },
  {
   "cell_type": "code",
   "execution_count": 7,
   "metadata": {},
   "outputs": [
    {
     "data": {
      "text/plain": [
       "array([1, 3, 5, 7, 9])"
      ]
     },
     "execution_count": 7,
     "metadata": {},
     "output_type": "execute_result"
    }
   ],
   "source": [
    "#或\n",
    "arr[(arr%2==1)]"
   ]
  },
  {
   "cell_type": "markdown",
   "metadata": {},
   "source": [
    "# 5. 如何用numpy数组中的另一个值替换满足条件的元素项？\n",
    "\n",
    "难度等级：L1\n",
    "\n",
    "问题：将arr中的所有奇数替换为-1。\n",
    "\n",
    "给定：\n",
    "```python\n",
    "arr = np.array([0, 1, 2, 3, 4, 5, 6, 7, 8, 9])\n",
    "```\n",
    "\n",
    "期望的输出：\n",
    "```python\n",
    "# >  array([ 0, -1,  2, -1,  4, -1,  6, -1,  8, -1])\n",
    "```\n",
    "答案："
   ]
  },
  {
   "cell_type": "code",
   "execution_count": 8,
   "metadata": {
    "scrolled": true
   },
   "outputs": [
    {
     "data": {
      "text/plain": [
       "array([ 0, -1,  2, -1,  4, -1,  6, -1,  8, -1])"
      ]
     },
     "execution_count": 8,
     "metadata": {},
     "output_type": "execute_result"
    }
   ],
   "source": [
    "arr[(arr&1)==1] = -1\n",
    "arr"
   ]
  },
  {
   "cell_type": "markdown",
   "metadata": {},
   "source": [
    "# 6. 如何在不影响原始数组的情况下替换满足条件的元素项？\n",
    "\n",
    "难度等级：L2\n",
    "\n",
    "问题：将arr中的所有奇数替换为-1，而不改变arr。\n",
    "\n",
    "给定：\n",
    "```python\n",
    "arr = np.array([0, 1, 2, 3, 4, 5, 6, 7, 8, 9])\n",
    "```\n",
    "期望的输出：\n",
    "```python\n",
    "out\n",
    "# >  array([ 0, -1,  2, -1,  4, -1,  6, -1,  8, -1])\n",
    "arr\n",
    "# >  array([0, 1, 2, 3, 4, 5, 6, 7, 8, 9])\n",
    "```\n",
    "答案："
   ]
  },
  {
   "cell_type": "code",
   "execution_count": 9,
   "metadata": {},
   "outputs": [
    {
     "data": {
      "text/plain": [
       "array([0, 1, 2, 3, 4, 5, 6, 7, 8, 9])"
      ]
     },
     "execution_count": 9,
     "metadata": {},
     "output_type": "execute_result"
    }
   ],
   "source": [
    "arr = np.arange(10)\n",
    "out = np.where(arr %2 ==1, -1, arr)\n",
    "arr"
   ]
  },
  {
   "cell_type": "code",
   "execution_count": 10,
   "metadata": {
    "scrolled": true
   },
   "outputs": [
    {
     "data": {
      "text/plain": [
       "array([ 0, -1,  2, -1,  4, -1,  6, -1,  8, -1])"
      ]
     },
     "execution_count": 10,
     "metadata": {},
     "output_type": "execute_result"
    }
   ],
   "source": [
    "out"
   ]
  },
  {
   "cell_type": "markdown",
   "metadata": {},
   "source": [
    "# 7. 如何改变数组的形状？\n",
    "\n",
    "难度等级：L1\n",
    "\n",
    "问题：将一维数组转换为2行的2维数组\n",
    "\n",
    "给定：\n",
    "```python\n",
    "np.arange(10)\n",
    "# > array([ 0, 1, 2, 3, 4, 5, 6, 7, 8, 9])\n",
    "```\n",
    "期望的输出：\n",
    "```python\n",
    "# > array([[0, 1, 2, 3, 4],\n",
    "# >        [5, 6, 7, 8, 9]])\n",
    "```\n",
    "答案："
   ]
  },
  {
   "cell_type": "code",
   "execution_count": 11,
   "metadata": {},
   "outputs": [
    {
     "data": {
      "text/plain": [
       "array([[0, 1, 2, 3, 4],\n",
       "       [5, 6, 7, 8, 9]])"
      ]
     },
     "execution_count": 11,
     "metadata": {},
     "output_type": "execute_result"
    }
   ],
   "source": [
    "arr = np.arange(10)\n",
    "arr.reshape(2,-1)"
   ]
  },
  {
   "cell_type": "markdown",
   "metadata": {},
   "source": [
    "# 8. 如何垂直叠加两个数组？\n",
    "\n",
    "难度等级：L2\n",
    "\n",
    "问题：垂直堆叠数组a和数组b\n",
    "\n",
    "给定：\n",
    "```python\n",
    "a = np.arange(10).reshape(2,-1)\n",
    "b = np.repeat(1, 10).reshape(2,-1)\n",
    "```\n",
    "\n",
    "期望的输出：\n",
    "```python\n",
    "# > array([[0, 1, 2, 3, 4],\n",
    "# >        [5, 6, 7, 8, 9],\n",
    "# >        [1, 1, 1, 1, 1],\n",
    "# >        [1, 1, 1, 1, 1]])\n",
    "```\n",
    "答案："
   ]
  },
  {
   "cell_type": "code",
   "execution_count": 12,
   "metadata": {},
   "outputs": [
    {
     "data": {
      "text/plain": [
       "array([[0, 1, 2, 3, 4],\n",
       "       [5, 6, 7, 8, 9]])"
      ]
     },
     "execution_count": 12,
     "metadata": {},
     "output_type": "execute_result"
    }
   ],
   "source": [
    "a = np.arange(10).reshape(2,-1)\n",
    "b = np.repeat(1,10).reshape(2,-1)\n",
    "a"
   ]
  },
  {
   "cell_type": "code",
   "execution_count": 13,
   "metadata": {},
   "outputs": [
    {
     "data": {
      "text/plain": [
       "array([[1, 1, 1, 1, 1],\n",
       "       [1, 1, 1, 1, 1]])"
      ]
     },
     "execution_count": 13,
     "metadata": {},
     "output_type": "execute_result"
    }
   ],
   "source": [
    "b"
   ]
  },
  {
   "cell_type": "code",
   "execution_count": 14,
   "metadata": {},
   "outputs": [
    {
     "data": {
      "text/plain": [
       "array([[0, 1, 2, 3, 4],\n",
       "       [5, 6, 7, 8, 9],\n",
       "       [1, 1, 1, 1, 1],\n",
       "       [1, 1, 1, 1, 1]])"
      ]
     },
     "execution_count": 14,
     "metadata": {},
     "output_type": "execute_result"
    }
   ],
   "source": [
    "# Method 1:\n",
    "np.concatenate([a , b],axis=0)\n",
    "\n",
    "# Method 2:\n",
    "np.vstack([a,b])\n",
    "\n",
    "# Method 3:\n",
    "np.r_[a,b]\n",
    "# > array([[0, 1, 2, 3, 4],\n",
    "# >        [5, 6, 7, 8, 9],\n",
    "# >        [1, 1, 1, 1, 1],\n",
    "# >        [1, 1, 1, 1, 1]])"
   ]
  },
  {
   "cell_type": "markdown",
   "metadata": {},
   "source": [
    "# 9. 如何水平叠加两个数组？\n",
    "\n",
    "难度等级：L2\n",
    "\n",
    "问题：将数组a和数组b水平堆叠。\n",
    "\n",
    "给定：\n",
    "```python\n",
    "a = np.arange(10).reshape(2,-1)\n",
    "b = np.repeat(1, 10).reshape(2,-1)\n",
    "```\n",
    "期望的输出：\n",
    "```python\n",
    "# > array([[0, 1, 2, 3, 4, 1, 1, 1, 1, 1],\n",
    "# >        [5, 6, 7, 8, 9, 1, 1, 1, 1, 1]])\n",
    "```\n",
    "\n",
    "答案："
   ]
  },
  {
   "cell_type": "code",
   "execution_count": 15,
   "metadata": {},
   "outputs": [
    {
     "data": {
      "text/plain": [
       "array([[0, 1, 2, 3, 4, 1, 1, 1, 1, 1],\n",
       "       [5, 6, 7, 8, 9, 1, 1, 1, 1, 1]])"
      ]
     },
     "execution_count": 15,
     "metadata": {},
     "output_type": "execute_result"
    }
   ],
   "source": [
    "a = np.arange(10).reshape(2,-1)\n",
    "b = np.repeat(1,10).reshape(2,-1)\n",
    "\n",
    "# Answers\n",
    "# Method 1:\n",
    "np.concatenate([a,b] , axis=1)\n",
    "\n",
    "# Method 2:\n",
    "np.hstack([a,b])\n",
    "\n",
    "# Method 3 :\n",
    "np.c_[a,b]"
   ]
  },
  {
   "cell_type": "markdown",
   "metadata": {},
   "source": [
    "# 10. 如何在无硬编码的情况下生成numpy中的自定义序列？\n",
    "\n",
    "难度等级：L2\n",
    "\n",
    "问题：创建以下模式而不使用硬编码。只使用numpy函数和下面的输入数组a。\n",
    "\n",
    "给定：\n",
    "```python\n",
    "a = np.array([1,2,3])\n",
    "```\n",
    "\n",
    "期望的输出：\n",
    "```python\n",
    "# > array([1, 1, 1, 2, 2, 2, 3, 3, 3, 1, 2, 3, 1, 2, 3, 1, 2, 3])\n",
    "```\n",
    "答案：\n"
   ]
  },
  {
   "cell_type": "code",
   "execution_count": 16,
   "metadata": {},
   "outputs": [],
   "source": [
    "a = np.array([1,2,3])"
   ]
  },
  {
   "cell_type": "code",
   "execution_count": 17,
   "metadata": {},
   "outputs": [
    {
     "data": {
      "text/plain": [
       "array([1, 1, 1, 2, 2, 2, 3, 3, 3, 1, 2, 3, 1, 2, 3, 1, 2, 3])"
      ]
     },
     "execution_count": 17,
     "metadata": {},
     "output_type": "execute_result"
    }
   ],
   "source": [
    "np.r_[np.repeat(a,3),np.tile(a,3)]"
   ]
  },
  {
   "cell_type": "code",
   "execution_count": 18,
   "metadata": {},
   "outputs": [
    {
     "data": {
      "text/plain": [
       "array([1, 1, 1, 2, 2, 2, 3, 3, 3])"
      ]
     },
     "execution_count": 18,
     "metadata": {},
     "output_type": "execute_result"
    }
   ],
   "source": [
    "np.repeat(a,3)"
   ]
  },
  {
   "cell_type": "code",
   "execution_count": 19,
   "metadata": {},
   "outputs": [
    {
     "data": {
      "text/plain": [
       "array([1, 2, 3, 1, 2, 3, 1, 2, 3])"
      ]
     },
     "execution_count": 19,
     "metadata": {},
     "output_type": "execute_result"
    }
   ],
   "source": [
    "np.tile(a,3)"
   ]
  },
  {
   "cell_type": "markdown",
   "metadata": {},
   "source": [
    "# 11. 如何获取两个numpy数组之间的公共项？\n",
    "\n",
    "难度等级：L2\n",
    "\n",
    "问题：获取数组a和数组b之间的公共项。\n",
    "\n",
    "给定：\n",
    "```python\n",
    "a = np.array([1,2,3,2,3,4,3,4,5,6])\n",
    "b = np.array([7,2,10,2,7,4,9,4,9,8])\n",
    "```\n",
    "期望的输出：\n",
    "```python\n",
    "array([2, 4])\n",
    "```\n",
    "答案："
   ]
  },
  {
   "cell_type": "code",
   "execution_count": 20,
   "metadata": {
    "scrolled": true
   },
   "outputs": [
    {
     "data": {
      "text/plain": [
       "array([2, 4])"
      ]
     },
     "execution_count": 20,
     "metadata": {},
     "output_type": "execute_result"
    }
   ],
   "source": [
    "a = np.array([1,2,3,2,3,4,3,4,5,6])\n",
    "b = np.array([7,2,10,2,7,4,9,4,9,8])\n",
    "np.intersect1d(a,b)"
   ]
  },
  {
   "cell_type": "markdown",
   "metadata": {},
   "source": [
    "# 12. 如何从一个数组中删除存在于另一个数组中的项？\n",
    "\n",
    "难度等级：L2\n",
    "\n",
    "问题：从数组a中删除数组b中的所有项。\n",
    "\n",
    "给定：\n",
    "\n",
    "```python\n",
    "a = np.array([1,2,3,4,5])\n",
    "b = np.array([5,6,7,8,9])\n",
    "```\n",
    "\n",
    "期望的输出：\n",
    "\n",
    "```python\n",
    "array([1,2,3,4])\n",
    "```\n",
    "\n",
    "答案：\n",
    "```\n",
    "a = np.array([1,2,3,4,5])\n",
    "b = np.array([5,6,7,8,9])\n",
    "\n",
    "# From 'a' remove all of 'b'\n",
    "np.setdiff1d(a,b)\n",
    "# > array([1, 2, 3, 4])\n",
    "```"
   ]
  },
  {
   "cell_type": "code",
   "execution_count": 21,
   "metadata": {},
   "outputs": [
    {
     "data": {
      "text/plain": [
       "array([1, 2, 3, 4])"
      ]
     },
     "execution_count": 21,
     "metadata": {},
     "output_type": "execute_result"
    }
   ],
   "source": [
    "a = np.array([1,2,3,4,5])\n",
    "b = np.array([5,6,7,8,9])\n",
    "np.setdiff1d(a,b) # 返回在a里有b里没有的元素."
   ]
  },
  {
   "cell_type": "markdown",
   "metadata": {},
   "source": [
    "#13. 如何得到两个数组元素匹配的位置？\n",
    "\n",
    "难度等级：L2\n",
    "\n",
    "问题：获取a和b元素匹配的位置。\n",
    "\n",
    "给定：\n",
    "\n",
    "```python\n",
    "a = np.array([1,2,3,2,3,4,3,4,5,6])\n",
    "b = np.array([7,2,10,2,7,4,9,4,9,8])\n",
    "```\n",
    "\n",
    "期望的输出：\n",
    "\n",
    "```python\n",
    "# > (array([1, 3, 5, 7]),)\n",
    "```\n",
    "\n",
    "答案："
   ]
  },
  {
   "cell_type": "code",
   "execution_count": 22,
   "metadata": {},
   "outputs": [],
   "source": [
    "a = np.array([1,2,3,2,3,4,3,4,5,6])\n",
    "b = np.array([7,2,10,2,7,4,9,4,9,8])"
   ]
  },
  {
   "cell_type": "code",
   "execution_count": 23,
   "metadata": {},
   "outputs": [
    {
     "data": {
      "text/plain": [
       "array([False,  True, False,  True, False,  True, False,  True, False,\n",
       "       False])"
      ]
     },
     "execution_count": 23,
     "metadata": {},
     "output_type": "execute_result"
    }
   ],
   "source": [
    "a==b"
   ]
  },
  {
   "cell_type": "code",
   "execution_count": 24,
   "metadata": {},
   "outputs": [
    {
     "data": {
      "text/plain": [
       "(array([1, 3, 5, 7]),)"
      ]
     },
     "execution_count": 24,
     "metadata": {},
     "output_type": "execute_result"
    }
   ],
   "source": [
    "np.where(a==b)"
   ]
  },
  {
   "cell_type": "markdown",
   "metadata": {},
   "source": [
    "# 14. 如何从numpy数组中提取给定范围内的所有数字？\n",
    "\n",
    "难度等级：L2\n",
    "\n",
    "问题：获取5到10之间的所有项目。\n",
    "\n",
    "给定：\n",
    "\n",
    "```python\n",
    "a = np.array([2, 6, 1, 9, 10, 3, 27])\n",
    "```\n",
    "\n",
    "期望的输出：\n",
    "\n",
    "```python\n",
    "(array([6, 9, 10]),)\n",
    "```\n",
    "\n",
    "答案："
   ]
  },
  {
   "cell_type": "code",
   "execution_count": 25,
   "metadata": {},
   "outputs": [
    {
     "data": {
      "text/plain": [
       "array([ 5,  6,  7,  8,  9, 10])"
      ]
     },
     "execution_count": 25,
     "metadata": {},
     "output_type": "execute_result"
    }
   ],
   "source": [
    "a = np.arange(15)\n",
    "\n",
    "# Method 1\n",
    "index = np.where((a >= 5) & (a <= 10))\n",
    "a[index]\n",
    "\n",
    "# Method 2:\n",
    "index = np.where(np.logical_and(a >=5 , a <= 10))\n",
    "a[index]\n",
    "\n",
    "# Method 3: (thanks loganzk!)\n",
    "a[(a >= 5) & (a <= 10)]"
   ]
  },
  {
   "cell_type": "markdown",
   "metadata": {},
   "source": [
    "# 15. 如何创建一个python函数来处理scalars并在numpy数组上工作？\n",
    "\n",
    "难度等级：L2\n",
    "\n",
    "问题：转换适用于两个标量的函数maxx，以处理两个数组。\n",
    "\n",
    "给定：\n",
    "```python\n",
    "def maxx(x, y):\n",
    "    \"\"\"Get the maximum of two items\"\"\"\n",
    "    if x >= y:\n",
    "        return x\n",
    "    else:\n",
    "        return y\n",
    "\n",
    "maxx(1, 5)\n",
    "# > 5\n",
    "```\n",
    "\n",
    "期望的输出：\n",
    "\n",
    "```python\n",
    "a = np.array([5, 7, 9, 8, 6, 4, 5])\n",
    "b = np.array([6, 3, 4, 8, 9, 7, 1])\n",
    "pair_max(a, b)\n",
    "# > array([ 6.,  7.,  9.,  8.,  9.,  7.,  5.])\n",
    "```\n",
    "\n",
    "答案："
   ]
  },
  {
   "cell_type": "code",
   "execution_count": 26,
   "metadata": {},
   "outputs": [
    {
     "data": {
      "text/plain": [
       "array([6., 7., 9., 8., 9., 7., 5.])"
      ]
     },
     "execution_count": 26,
     "metadata": {},
     "output_type": "execute_result"
    }
   ],
   "source": [
    "def maxx(x, y):\n",
    "    \"\"\"Get the maximum of two items\"\"\"\n",
    "    if x >= y:\n",
    "        return x\n",
    "    else:\n",
    "        return y\n",
    "\n",
    "pair_max = np.vectorize(maxx, otypes=[float])\n",
    "\n",
    "a = np.array([5, 7, 9, 8, 6, 4, 5])\n",
    "b = np.array([6, 3, 4, 8, 9, 7, 1])\n",
    "\n",
    "pair_max(a, b)\n",
    "# > array([ 6.,  7.,  9.,  8.,  9.,  7.,  5.])"
   ]
  },
  {
   "cell_type": "markdown",
   "metadata": {},
   "source": [
    "# 17. 如何交换二维numpy数组中的两行？\n",
    "\n",
    "难度等级：L2\n",
    "\n",
    "问题：交换数组arr中的第1和第2行：\n",
    "\n",
    "给定：\n",
    "\n",
    "```python\n",
    "arr = np.arange(9).reshape(3,3)\n",
    "arr\n",
    "```\n",
    "\n",
    "答案："
   ]
  },
  {
   "cell_type": "code",
   "execution_count": 27,
   "metadata": {},
   "outputs": [
    {
     "data": {
      "text/plain": [
       "array([[3, 4, 5],\n",
       "       [0, 1, 2],\n",
       "       [6, 7, 8]])"
      ]
     },
     "execution_count": 27,
     "metadata": {},
     "output_type": "execute_result"
    }
   ],
   "source": [
    "# Input\n",
    "arr = np.arange(9).reshape(3,3)\n",
    "\n",
    "# Solution\n",
    "arr[[1,0,2],:]\n",
    "# > array([[3, 4, 5],\n",
    "# >        [0, 1, 2],\n",
    "# >        [6, 7, 8]])"
   ]
  },
  {
   "cell_type": "markdown",
   "metadata": {},
   "source": [
    "# 18. 如何反转二维数组的行？\n",
    "\n",
    "难度等级：L2\n",
    "\n",
    "问题：反转二维数组arr的行。\n",
    "\n",
    "给定：\n",
    "\n",
    "```python\n",
    "# Input\n",
    "arr = np.arange(9).reshape(3,3)\n",
    "```\n",
    "\n",
    "答案："
   ]
  },
  {
   "cell_type": "code",
   "execution_count": 28,
   "metadata": {},
   "outputs": [],
   "source": [
    "# Input\n",
    "arr = np.arange(9).reshape(3,3)"
   ]
  },
  {
   "cell_type": "code",
   "execution_count": 29,
   "metadata": {},
   "outputs": [
    {
     "data": {
      "text/plain": [
       "array([[0, 1, 2],\n",
       "       [3, 4, 5],\n",
       "       [6, 7, 8]])"
      ]
     },
     "execution_count": 29,
     "metadata": {},
     "output_type": "execute_result"
    }
   ],
   "source": [
    "arr"
   ]
  },
  {
   "cell_type": "code",
   "execution_count": 30,
   "metadata": {},
   "outputs": [
    {
     "data": {
      "text/plain": [
       "array([[6, 7, 8],\n",
       "       [3, 4, 5],\n",
       "       [0, 1, 2]])"
      ]
     },
     "execution_count": 30,
     "metadata": {},
     "output_type": "execute_result"
    }
   ],
   "source": [
    "arr[::-1]"
   ]
  },
  {
   "cell_type": "markdown",
   "metadata": {},
   "source": [
    "# 19. 如何反转二维数组的列？\n",
    "\n",
    "难度等级：L2\n",
    "\n",
    "问题：反转二维数组arr的列。\n",
    "\n",
    "给定：\n",
    "\n",
    "# Input\n",
    "\n",
    "```python\n",
    "arr = np.arange(9).reshape(3,3)\n",
    "```\n",
    "\n",
    "答案："
   ]
  },
  {
   "cell_type": "code",
   "execution_count": 31,
   "metadata": {},
   "outputs": [
    {
     "data": {
      "text/plain": [
       "array([[0, 1, 2],\n",
       "       [3, 4, 5],\n",
       "       [6, 7, 8]])"
      ]
     },
     "execution_count": 31,
     "metadata": {},
     "output_type": "execute_result"
    }
   ],
   "source": [
    "# Input\n",
    "arr = np.arange(9).reshape(3,3)\n",
    "arr"
   ]
  },
  {
   "cell_type": "code",
   "execution_count": 32,
   "metadata": {},
   "outputs": [
    {
     "data": {
      "text/plain": [
       "array([[2, 1, 0],\n",
       "       [5, 4, 3],\n",
       "       [8, 7, 6]])"
      ]
     },
     "execution_count": 32,
     "metadata": {},
     "output_type": "execute_result"
    }
   ],
   "source": [
    "arr[:,::-1]"
   ]
  },
  {
   "cell_type": "markdown",
   "metadata": {},
   "source": [
    "# 20. 如何创建包含5到10之间随机浮动的二维数组？\n",
    "\n",
    "难度等级：L2\n",
    "\n",
    "问题：创建一个形状为5x3的二维数组，以包含5到10之间的随机十进制数。\n",
    "\n",
    "答案："
   ]
  },
  {
   "cell_type": "code",
   "execution_count": 33,
   "metadata": {
    "scrolled": true
   },
   "outputs": [
    {
     "data": {
      "text/plain": [
       "array([[6.34310041, 6.66868964, 8.37961704],\n",
       "       [6.31557207, 5.8395361 , 9.61038606],\n",
       "       [9.54668812, 8.1623193 , 7.91654994],\n",
       "       [7.99544651, 7.68441555, 7.16883273],\n",
       "       [5.31495972, 7.58501655, 6.67009325]])"
      ]
     },
     "execution_count": 33,
     "metadata": {},
     "output_type": "execute_result"
    }
   ],
   "source": [
    "# Solution Method 1:\n",
    "rand_arr = np.random.randint(low=5,high=10,size=(5,3))\n",
    "\n",
    "rand_norm = np.random.random((5,3))\n",
    "\n",
    "arr = rand_arr + rand_norm\n",
    "arr"
   ]
  },
  {
   "cell_type": "code",
   "execution_count": 34,
   "metadata": {},
   "outputs": [
    {
     "data": {
      "text/plain": [
       "array([[8.04207478, 6.26670055, 9.52439641],\n",
       "       [7.95912662, 5.74103157, 9.42646907],\n",
       "       [9.22882997, 9.1328513 , 8.86757954],\n",
       "       [6.84099614, 5.18727406, 9.45707634],\n",
       "       [6.5973198 , 6.6822653 , 5.24110235]])"
      ]
     },
     "execution_count": 34,
     "metadata": {},
     "output_type": "execute_result"
    }
   ],
   "source": [
    "# Solution Method 2:\n",
    "rand_arr = np.random.uniform(5,10,size=(5,3))\n",
    "rand_arr"
   ]
  },
  {
   "cell_type": "markdown",
   "metadata": {},
   "source": [
    "# 21. 如何在numpy数组中只打印小数点后三位？\n",
    "\n",
    "难度等级：L1\n",
    "\n",
    "问题：只打印或显示numpy数组rand_arr的小数点后3位。\n",
    "\n",
    "给定：\n",
    "\n",
    "```python\n",
    "rand_arr = np.random.random((5,3))\n",
    "```\n",
    "\n",
    "答案："
   ]
  },
  {
   "cell_type": "code",
   "execution_count": 35,
   "metadata": {},
   "outputs": [
    {
     "name": "stdout",
     "output_type": "stream",
     "text": [
      "[[0.7225897  0.48137421 0.1766254 ]\n",
      " [0.59020556 0.4470284  0.01563894]\n",
      " [0.79237311 0.71938586 0.73102935]\n",
      " [0.90862896 0.72094602 0.02642712]\n",
      " [0.12529014 0.37994676 0.90042424]]\n",
      "float64\n",
      "[[0.33520969 0.59984028 0.77713344]\n",
      " [0.44517352 0.47343606 0.96993101]\n",
      " [0.78069419 0.51382994 0.59783003]\n",
      " [0.30442038 0.37799023 0.6348795 ]\n",
      " [0.47914206 0.80754378 0.52847262]]\n",
      "float64\n"
     ]
    }
   ],
   "source": [
    "# Input\n",
    "rand_arr = np.random.random((5,3))\n",
    "print(rand_arr)\n",
    "print(rand_arr.dtype)\n",
    "# Create the random array\n",
    "rand_arr = np.random.random([5,3])\n",
    "print(rand_arr)\n",
    "print(rand_arr.dtype)"
   ]
  },
  {
   "cell_type": "code",
   "execution_count": 36,
   "metadata": {},
   "outputs": [
    {
     "data": {
      "text/plain": [
       "array([[0.335, 0.6  , 0.777],\n",
       "       [0.445, 0.473, 0.97 ],\n",
       "       [0.781, 0.514, 0.598],\n",
       "       [0.304, 0.378, 0.635]])"
      ]
     },
     "execution_count": 36,
     "metadata": {},
     "output_type": "execute_result"
    }
   ],
   "source": [
    "# Limit to 3 decimal places\n",
    "np.set_printoptions(precision=3)\n",
    "rand_arr[:4]"
   ]
  },
  {
   "cell_type": "code",
   "execution_count": 37,
   "metadata": {},
   "outputs": [],
   "source": [
    "def set_printoption_to_default():\n",
    "    np.set_printoptions(edgeitems=3,infstr='inf', linewidth=75, nanstr='nan', precision=8,suppress=False, threshold=1000, formatter=None)"
   ]
  },
  {
   "cell_type": "markdown",
   "metadata": {},
   "source": [
    "# 22. 如何通过e式科学记数法（如1e10）来打印一个numpy数组？\n",
    "\n",
    "难度等级：L1\n",
    "\n",
    "问题：通过e式科学记数法来打印rand_arr（如1e10）\n",
    "\n",
    "给定：\n",
    "\n",
    "```\n",
    "# Create the random array\n",
    "np.random.seed(100)\n",
    "rand_arr = np.random.random([3,3])/1e3\n",
    "rand_arr\n",
    "\n",
    "# > array([[  5.434049e-04,   2.783694e-04,   4.245176e-04],\n",
    "# >        [  8.447761e-04,   4.718856e-06,   1.215691e-04],\n",
    "# >        [  6.707491e-04,   8.258528e-04,   1.367066e-04]])\n",
    "```\n",
    "\n",
    "期望的输出：\n",
    "\n",
    "```\n",
    "# > array([[ 0.000543,  0.000278,  0.000425],\n",
    "# >        [ 0.000845,  0.000005,  0.000122],\n",
    "# >        [ 0.000671,  0.000826,  0.000137]])\n",
    "```\n",
    "\n",
    "答案："
   ]
  },
  {
   "cell_type": "code",
   "execution_count": 38,
   "metadata": {},
   "outputs": [
    {
     "data": {
      "text/plain": [
       "array([[5.434e-04, 2.784e-04, 4.245e-04],\n",
       "       [8.448e-04, 4.719e-06, 1.216e-04],\n",
       "       [6.707e-04, 8.259e-04, 1.367e-04]])"
      ]
     },
     "execution_count": 38,
     "metadata": {},
     "output_type": "execute_result"
    }
   ],
   "source": [
    "np.random.seed(100)\n",
    "rand_arr = np.random.random([3,3])/1e3\n",
    "rand_arr"
   ]
  },
  {
   "cell_type": "code",
   "execution_count": 39,
   "metadata": {},
   "outputs": [
    {
     "data": {
      "text/plain": [
       "array([[0.000543, 0.000278, 0.000425],\n",
       "       [0.000845, 0.000005, 0.000122],\n",
       "       [0.000671, 0.000826, 0.000137]])"
      ]
     },
     "execution_count": 39,
     "metadata": {},
     "output_type": "execute_result"
    }
   ],
   "source": [
    "np.set_printoptions(suppress=True, precision=6)  # precision is optional\n",
    "rand_arr"
   ]
  },
  {
   "cell_type": "code",
   "execution_count": 40,
   "metadata": {},
   "outputs": [],
   "source": [
    "set_printoption_to_default()"
   ]
  },
  {
   "cell_type": "markdown",
   "metadata": {},
   "source": [
    "# 23. 如何限制numpy数组输出中打印的项目数？\n",
    "\n",
    "难度等级：L1\n",
    "\n",
    "问题：将numpy数组a中打印的项数限制为最多6个元素。\n",
    "\n",
    "给定：\n",
    "\n",
    "```python\n",
    "a = np.arange(15)\n",
    "# > array([ 0,  1,  2,  3,  4,  5,  6,  7,  8,  9, 10, 11, 12, 13, 14])\n",
    "```\n",
    "\n",
    "期望的输出：\n",
    "\n",
    "```python\n",
    "# > array([ 0,  1,  2, ..., 12, 13, 14])\n",
    "```\n",
    "\n",
    "答案："
   ]
  },
  {
   "cell_type": "code",
   "execution_count": 41,
   "metadata": {},
   "outputs": [
    {
     "data": {
      "text/plain": [
       "array([ 0,  1,  2, ..., 12, 13, 14])"
      ]
     },
     "execution_count": 41,
     "metadata": {},
     "output_type": "execute_result"
    }
   ],
   "source": [
    "np.set_printoptions(threshold=6)\n",
    "a = np.arange(15)\n",
    "a"
   ]
  },
  {
   "cell_type": "code",
   "execution_count": 42,
   "metadata": {},
   "outputs": [],
   "source": [
    "set_printoption_to_default()"
   ]
  },
  {
   "cell_type": "markdown",
   "metadata": {},
   "source": [
    "# 24. 如何打印完整的numpy数组而不截断\n",
    "\n",
    "难度等级：L1\n",
    "\n",
    "问题：打印完整的numpy数组a而不截断。\n",
    "\n",
    "给定：\n",
    "\n",
    "```python\n",
    "np.set_printoptions(threshold=6)\n",
    "a = np.arange(15)\n",
    "a\n",
    "# > array([ 0,  1,  2, ..., 12, 13, 14])\n",
    "```\n",
    "\n",
    "期望的输出：\n",
    "\n",
    "```python\n",
    "a\n",
    "# > array([ 0,  1,  2,  3,  4,  5,  6,  7,  8,  9, 10, 11, 12, 13, 14])\n",
    "```\n",
    "\n",
    "答案："
   ]
  },
  {
   "cell_type": "code",
   "execution_count": 43,
   "metadata": {},
   "outputs": [
    {
     "data": {
      "text/plain": [
       "array([ 0,  1,  2,  3,  4,  5,  6,  7,  8,  9, 10, 11, 12, 13, 14])"
      ]
     },
     "execution_count": 43,
     "metadata": {},
     "output_type": "execute_result"
    }
   ],
   "source": [
    "import sys\n",
    "# Input\n",
    "np.set_printoptions(threshold=6)\n",
    "a = np.arange(15)\n",
    "\n",
    "# Solution\n",
    "np.set_printoptions(threshold=sys.maxsize)\n",
    "a\n",
    "# > array([ 0,  1,  2,  3,  4,  5,  6,  7,  8,  9, 10, 11, 12, 13, 14])"
   ]
  },
  {
   "cell_type": "markdown",
   "metadata": {},
   "source": [
    "# 25. 如何导入数字和文本的数据集保持文本在numpy数组中完好无损？\n",
    "\n",
    "难度等级：L2\n",
    "\n",
    "问题：导入鸢尾属植物数据集，保持文本不变。\n",
    "\n",
    "答案："
   ]
  },
  {
   "cell_type": "code",
   "execution_count": 44,
   "metadata": {},
   "outputs": [
    {
     "data": {
      "text/plain": [
       "array([[b'5.1', b'3.5', b'1.4', b'0.2', b'Iris-setosa'],\n",
       "       [b'4.9', b'3.0', b'1.4', b'0.2', b'Iris-setosa'],\n",
       "       [b'4.7', b'3.2', b'1.3', b'0.2', b'Iris-setosa']], dtype=object)"
      ]
     },
     "execution_count": 44,
     "metadata": {},
     "output_type": "execute_result"
    }
   ],
   "source": [
    "# Solution\n",
    "url = 'https://archive.ics.uci.edu/ml/machine-learning-databases/iris/iris.data'\n",
    "iris = np.genfromtxt(url, delimiter=',', dtype='object')\n",
    "#names = ('sepallength', 'sepalwidth', 'petallength', 'petalwidth', 'species')\n",
    "\n",
    "# Print the first 3 rows\n",
    "iris[:3]\n",
    "# > array([[b'5.1', b'3.5', b'1.4', b'0.2', b'Iris-setosa'],\n",
    "# >        [b'4.9', b'3.0', b'1.4', b'0.2', b'Iris-setosa'],\n",
    "# >        [b'4.7', b'3.2', b'1.3', b'0.2', b'Iris-setosa']], dtype=object)"
   ]
  },
  {
   "cell_type": "markdown",
   "metadata": {},
   "source": [
    "# 26. 如何从1维元组数组中提取特定列？\n",
    "\n",
    "难度等级：L2\n",
    "\n",
    "问题：从前面问题中导入的一维鸢尾属植物数据集中提取文本列的物种。\n",
    "\n",
    "给定：\n",
    "```python\n",
    "url = 'https://archive.ics.uci.edu/ml/machine-learning-databases/iris/iris.data'\n",
    "iris_1d = np.genfromtxt(url, delimiter=',', dtype=None)\n",
    "```\n",
    "\n",
    "答案："
   ]
  },
  {
   "cell_type": "code",
   "execution_count": 45,
   "metadata": {},
   "outputs": [
    {
     "name": "stdout",
     "output_type": "stream",
     "text": [
      "(150,)\n"
     ]
    },
    {
     "name": "stderr",
     "output_type": "stream",
     "text": [
      "/A/develop/ide/anaconda3/lib/python3.7/site-packages/ipykernel_launcher.py:3: VisibleDeprecationWarning: Reading unicode strings without specifying the encoding argument is deprecated. Set the encoding, use None for the system default.\n",
      "  This is separate from the ipykernel package so we can avoid doing imports until\n"
     ]
    },
    {
     "data": {
      "text/plain": [
       "array([b'Iris-setosa', b'Iris-setosa', b'Iris-setosa', b'Iris-setosa',\n",
       "       b'Iris-setosa'], dtype='|S18')"
      ]
     },
     "execution_count": 45,
     "metadata": {},
     "output_type": "execute_result"
    }
   ],
   "source": [
    "# **给定：**\n",
    "url = 'https://archive.ics.uci.edu/ml/machine-learning-databases/iris/iris.data'\n",
    "iris_1d = np.genfromtxt(url, delimiter=',', dtype=None)\n",
    "print(iris_1d.shape)\n",
    "\n",
    "# Solution:\n",
    "species = np.array([row[4] for row in iris_1d])\n",
    "species[:5]"
   ]
  },
  {
   "cell_type": "markdown",
   "metadata": {},
   "source": [
    "# 27. 如何将1维元组数组转换为2维numpy数组？\n",
    "\n",
    "难度等级：L2\n",
    "\n",
    "问题：通过省略鸢尾属植物数据集种类的文本字段，将一维鸢尾属植物数据集转换为二维数组iris_2d。\n",
    "\n",
    "给定：\n",
    "\n",
    "``` python\n",
    "url = 'https://archive.ics.uci.edu/ml/machine-learning-databases/iris/iris.data'\n",
    "iris_1d = np.genfromtxt(url, delimiter=',', dtype=None)\n",
    "```\n",
    "\n",
    "答案："
   ]
  },
  {
   "cell_type": "code",
   "execution_count": 46,
   "metadata": {
    "scrolled": true
   },
   "outputs": [
    {
     "name": "stderr",
     "output_type": "stream",
     "text": [
      "/A/develop/ide/anaconda3/lib/python3.7/site-packages/ipykernel_launcher.py:3: VisibleDeprecationWarning: Reading unicode strings without specifying the encoding argument is deprecated. Set the encoding, use None for the system default.\n",
      "  This is separate from the ipykernel package so we can avoid doing imports until\n"
     ]
    }
   ],
   "source": [
    "# **给定：**\n",
    "url = 'https://archive.ics.uci.edu/ml/machine-learning-databases/iris/iris.data'\n",
    "iris_1d = np.genfromtxt(url, delimiter=',', dtype=None)"
   ]
  },
  {
   "cell_type": "code",
   "execution_count": 47,
   "metadata": {},
   "outputs": [],
   "source": [
    "# Solution:\n",
    "# Method 1: Convert each row to a list and get the first 4 items\n",
    "iris_2d = np.array([row.tolist()[:4] for row in iris_1d])"
   ]
  },
  {
   "cell_type": "code",
   "execution_count": 48,
   "metadata": {},
   "outputs": [
    {
     "data": {
      "text/plain": [
       "(150,)"
      ]
     },
     "execution_count": 48,
     "metadata": {},
     "output_type": "execute_result"
    }
   ],
   "source": [
    "iris_1d.shape"
   ]
  },
  {
   "cell_type": "code",
   "execution_count": 49,
   "metadata": {},
   "outputs": [
    {
     "data": {
      "text/plain": [
       "array([b'5.1', b'3.5', b'1.4', b'0.2', b'Iris-setosa'], dtype=object)"
      ]
     },
     "execution_count": 49,
     "metadata": {},
     "output_type": "execute_result"
    }
   ],
   "source": [
    "iris[0]"
   ]
  },
  {
   "cell_type": "code",
   "execution_count": 50,
   "metadata": {},
   "outputs": [
    {
     "data": {
      "text/plain": [
       "array([[5.1, 3.5, 1.4, 0.2],\n",
       "       [4.9, 3. , 1.4, 0.2],\n",
       "       [4.7, 3.2, 1.3, 0.2],\n",
       "       [4.6, 3.1, 1.5, 0.2],\n",
       "       [5. , 3.6, 1.4, 0.2],\n",
       "       [5.4, 3.9, 1.7, 0.4],\n",
       "       [4.6, 3.4, 1.4, 0.3],\n",
       "       [5. , 3.4, 1.5, 0.2],\n",
       "       [4.4, 2.9, 1.4, 0.2],\n",
       "       [4.9, 3.1, 1.5, 0.1]])"
      ]
     },
     "execution_count": 50,
     "metadata": {},
     "output_type": "execute_result"
    }
   ],
   "source": [
    "iris_2d[:10]"
   ]
  },
  {
   "cell_type": "code",
   "execution_count": 51,
   "metadata": {
    "scrolled": true
   },
   "outputs": [
    {
     "data": {
      "text/plain": [
       "array([[5.1, 3.5, 1.4, 0.2],\n",
       "       [4.9, 3. , 1.4, 0.2],\n",
       "       [4.7, 3.2, 1.3, 0.2],\n",
       "       [4.6, 3.1, 1.5, 0.2]])"
      ]
     },
     "execution_count": 51,
     "metadata": {},
     "output_type": "execute_result"
    }
   ],
   "source": [
    "# Alt Method 2: Import only the first 4 columns from source url\n",
    "iris_2d = np.genfromtxt(url, delimiter=',',dtype='float64',usecols=[0,1,2,3])\n",
    "iris_2d[:4]"
   ]
  },
  {
   "cell_type": "markdown",
   "metadata": {},
   "source": [
    "# 28. 如何计算numpy数组的均值，中位数，标准差？\n",
    "\n",
    "难度等级：L1\n",
    "\n",
    "问题：求出鸢尾属植物萼片长度的平均值、中位数和标准差(第1列)\n",
    "\n",
    "给定：\n",
    "\n",
    "```python\n",
    "url = 'https://archive.ics.uci.edu/ml/machine-learning-databases/iris/iris.data'\n",
    "iris = np.genfromtxt(url, delimiter=',', dtype='object')\n",
    "```\n",
    "\n",
    "答案："
   ]
  },
  {
   "cell_type": "code",
   "execution_count": 52,
   "metadata": {},
   "outputs": [
    {
     "name": "stdout",
     "output_type": "stream",
     "text": [
      "5.843333333333334 5.8 0.8253012917851409\n"
     ]
    }
   ],
   "source": [
    "# Input\n",
    "url = 'https://archive.ics.uci.edu/ml/machine-learning-databases/iris/iris.data'\n",
    "iris = np.genfromtxt(url, delimiter=',', dtype='object')\n",
    "sepallength = np.genfromtxt(url, delimiter=',',dtype='float64',usecols=[0])\n",
    "\n",
    "# Solution\n",
    "mu, med, sd = np.mean(sepallength), np.median(sepallength), np.std(sepallength)\n",
    "print(mu, med, sd)\n",
    "# > 5.84333333333 5.8 0.825301291785"
   ]
  },
  {
   "cell_type": "markdown",
   "metadata": {},
   "source": [
    "# 29. 如何规范化数组，使数组的值正好介于0和1之间？\n",
    "\n",
    "难度等级：L2\n",
    "\n",
    "问题：创建一种标准化形式的鸢尾属植物间隔长度，其值正好介于0和1之间，这样最小值为0，最大值为1。\n",
    "\n",
    "给定：\n",
    "\n",
    "```python\n",
    "url = 'https://archive.ics.uci.edu/ml/machine-learning-databases/iris/iris.data'\n",
    "sepallength = np.genfromtxt(url, delimiter=',', dtype='float', usecols=[0])\n",
    "```\n",
    "\n",
    "答案："
   ]
  },
  {
   "cell_type": "code",
   "execution_count": 53,
   "metadata": {},
   "outputs": [
    {
     "name": "stdout",
     "output_type": "stream",
     "text": [
      "[-0.77777778 -0.83333333 -0.88888889 -0.91666667 -0.80555556 -0.69444444\n",
      " -0.91666667 -0.80555556 -0.97222222 -0.83333333 -0.69444444 -0.86111111\n",
      " -0.86111111 -1.         -0.58333333 -0.61111111 -0.69444444 -0.77777778\n",
      " -0.61111111 -0.77777778 -0.69444444 -0.77777778 -0.91666667 -0.77777778\n",
      " -0.86111111 -0.80555556 -0.80555556 -0.75       -0.75       -0.88888889\n",
      " -0.86111111 -0.69444444 -0.75       -0.66666667 -0.83333333 -0.80555556\n",
      " -0.66666667 -0.83333333 -0.97222222 -0.77777778 -0.80555556 -0.94444444\n",
      " -0.97222222 -0.80555556 -0.77777778 -0.86111111 -0.77777778 -0.91666667\n",
      " -0.72222222 -0.80555556 -0.25       -0.41666667 -0.27777778 -0.66666667\n",
      " -0.38888889 -0.61111111 -0.44444444 -0.83333333 -0.36111111 -0.75\n",
      " -0.80555556 -0.55555556 -0.52777778 -0.5        -0.63888889 -0.33333333\n",
      " -0.63888889 -0.58333333 -0.47222222 -0.63888889 -0.55555556 -0.5\n",
      " -0.44444444 -0.5        -0.41666667 -0.36111111 -0.30555556 -0.33333333\n",
      " -0.52777778 -0.61111111 -0.66666667 -0.66666667 -0.58333333 -0.52777778\n",
      " -0.69444444 -0.52777778 -0.33333333 -0.44444444 -0.63888889 -0.66666667\n",
      " -0.66666667 -0.5        -0.58333333 -0.80555556 -0.63888889 -0.61111111\n",
      " -0.61111111 -0.47222222 -0.77777778 -0.61111111 -0.44444444 -0.58333333\n",
      " -0.22222222 -0.44444444 -0.38888889 -0.08333333 -0.83333333 -0.16666667\n",
      " -0.33333333 -0.19444444 -0.38888889 -0.41666667 -0.30555556 -0.61111111\n",
      " -0.58333333 -0.41666667 -0.38888889 -0.05555556 -0.05555556 -0.52777778\n",
      " -0.27777778 -0.63888889 -0.05555556 -0.44444444 -0.33333333 -0.19444444\n",
      " -0.47222222 -0.5        -0.41666667 -0.19444444 -0.13888889  0.\n",
      " -0.41666667 -0.44444444 -0.5        -0.05555556 -0.44444444 -0.41666667\n",
      " -0.52777778 -0.27777778 -0.33333333 -0.27777778 -0.58333333 -0.30555556\n",
      " -0.33333333 -0.33333333 -0.44444444 -0.38888889 -0.47222222 -0.55555556]\n"
     ]
    }
   ],
   "source": [
    "# Input\n",
    "url = 'https://archive.ics.uci.edu/ml/machine-learning-databases/iris/iris.data'\n",
    "sepallength = np.genfromtxt(url, delimiter=',', dtype='float', usecols=[0])\n",
    "\n",
    "# Solution\n",
    "Smax, Smin = sepallength.min(),sepallength.max()\n",
    "S = (sepallength - Smin) / (Smax - Smin)\n",
    "# or\n",
    "S = (sepallength - Smin) / sepallength.ptp()\n",
    "print(S)"
   ]
  },
  {
   "cell_type": "markdown",
   "metadata": {},
   "source": [
    "# 30. 如何计算Softmax得分？\n",
    "\n",
    "难度等级：L3\n",
    "\n",
    "问题：计算sepallength的softmax分数。\n",
    "\n",
    "给定：\n",
    "```python\n",
    "url = 'https://archive.ics.uci.edu/ml/machine-learning-databases/iris/iris.data'\n",
    "sepallength = np.genfromtxt(url, delimiter=',', dtype='float', usecols=[0])\n",
    "```\n",
    "\n",
    "答案："
   ]
  },
  {
   "cell_type": "code",
   "execution_count": 54,
   "metadata": {},
   "outputs": [
    {
     "name": "stdout",
     "output_type": "stream",
     "text": [
      "[0.00221959 0.00181724 0.00148783 0.00134625 0.00200836 0.00299613\n",
      " 0.00134625 0.00200836 0.00110221 0.00181724 0.00299613 0.00164431\n",
      " 0.00164431 0.00099732 0.0044697  0.00404435 0.00299613 0.00221959\n",
      " 0.00404435 0.00221959 0.00299613 0.00221959 0.00134625 0.00221959\n",
      " 0.00164431 0.00200836 0.00200836 0.00245302 0.00245302 0.00148783\n",
      " 0.00164431 0.00299613 0.00245302 0.00331123 0.00181724 0.00200836\n",
      " 0.00331123 0.00181724 0.00110221 0.00221959 0.00200836 0.00121813\n",
      " 0.00110221 0.00200836 0.00221959 0.00164431 0.00221959 0.00134625\n",
      " 0.00271101 0.00200836 0.01483991 0.00814432 0.01342771 0.00331123\n",
      " 0.00900086 0.00404435 0.00736928 0.00181724 0.00994749 0.00245302\n",
      " 0.00200836 0.00493978 0.0054593  0.00603346 0.00365948 0.01099368\n",
      " 0.00365948 0.0044697  0.006668   0.00365948 0.00493978 0.00603346\n",
      " 0.00736928 0.00603346 0.00814432 0.00994749 0.01214989 0.01099368\n",
      " 0.0054593  0.00404435 0.00331123 0.00331123 0.0044697  0.0054593\n",
      " 0.00299613 0.0054593  0.01099368 0.00736928 0.00365948 0.00331123\n",
      " 0.00331123 0.00603346 0.0044697  0.00200836 0.00365948 0.00404435\n",
      " 0.00404435 0.006668   0.00221959 0.00404435 0.00736928 0.0044697\n",
      " 0.01640064 0.00736928 0.00900086 0.02704008 0.00181724 0.02003179\n",
      " 0.01099368 0.01812551 0.00900086 0.00814432 0.01214989 0.00404435\n",
      " 0.0044697  0.00814432 0.00900086 0.02988391 0.02988391 0.0054593\n",
      " 0.01342771 0.00365948 0.02988391 0.00736928 0.01099368 0.01812551\n",
      " 0.006668   0.00603346 0.00814432 0.01812551 0.02213855 0.0365003\n",
      " 0.00814432 0.00736928 0.00603346 0.02988391 0.00736928 0.00814432\n",
      " 0.0054593  0.01342771 0.01099368 0.01342771 0.0044697  0.01214989\n",
      " 0.01099368 0.01099368 0.00736928 0.00900086 0.006668   0.00493978]\n"
     ]
    }
   ],
   "source": [
    "# Input\n",
    "url = 'https://archive.ics.uci.edu/ml/machine-learning-databases/iris/iris.data'\n",
    "iris = np.genfromtxt(url, delimiter=',', dtype='object')\n",
    "sepallength = np.array([float(row[0]) for row in iris])\n",
    "\n",
    "# Solution\n",
    "def softmax(x):\n",
    "    \"\"\"Compute softmax values for each sets of scores in x.\n",
    "    https://stackoverflow.com/questions/34968722/how-to-implement-the-softmax-function-in-python\"\"\"\n",
    "    e_x = np.exp(x - np.max(x))\n",
    "    return e_x / e_x.sum(axis=0)\n",
    "\n",
    "print(softmax(sepallength))\n",
    "# > [ 0.002  0.002  0.001  0.001  0.002  0.003  0.001  0.002  0.001  0.002\n",
    "# >   0.003  0.002  0.002  0.001  0.004  0.004  0.003  0.002  0.004  0.002\n",
    "# >   0.003  0.002  0.001  0.002  0.002  0.002  0.002  0.002  0.002  0.001\n",
    "# >   0.002  0.003  0.002  0.003  0.002  0.002  0.003  0.002  0.001  0.002\n",
    "# >   0.002  0.001  0.001  0.002  0.002  0.002  0.002  0.001  0.003  0.002\n",
    "# >   0.015  0.008  0.013  0.003  0.009  0.004  0.007  0.002  0.01   0.002\n",
    "# >   0.002  0.005  0.005  0.006  0.004  0.011  0.004  0.004  0.007  0.004\n",
    "# >   0.005  0.006  0.007  0.006  0.008  0.01   0.012  0.011  0.005  0.004\n",
    "# >   0.003  0.003  0.004  0.005  0.003  0.005  0.011  0.007  0.004  0.003\n",
    "# >   0.003  0.006  0.004  0.002  0.004  0.004  0.004  0.007  0.002  0.004\n",
    "# >   0.007  0.004  0.016  0.007  0.009  0.027  0.002  0.02   0.011  0.018\n",
    "# >   0.009  0.008  0.012  0.004  0.004  0.008  0.009  0.03   0.03   0.005\n",
    "# >   0.013  0.004  0.03   0.007  0.011  0.018  0.007  0.006  0.008  0.018\n",
    "# >   0.022  0.037  0.008  0.007  0.006  0.03   0.007  0.008  0.005  0.013\n",
    "# >   0.011  0.013  0.004  0.012  0.011  0.011  0.007  0.009  0.007  0.005]"
   ]
  },
  {
   "cell_type": "markdown",
   "metadata": {},
   "source": [
    "# 31. 如何找到numpy数组的百分位数？\n",
    "\n",
    "难度等级：L1\n",
    "\n",
    "问题：找到鸢尾属植物数据集的第5和第95百分位数\n",
    "\n",
    "给定：\n",
    "\n",
    "```python\n",
    "url = 'https://archive.ics.uci.edu/ml/machine-learning-databases/iris/iris.data'\n",
    "sepallength = np.genfromtxt(url, delimiter=',', dtype='float', usecols=[0])\n",
    "```\n",
    "\n",
    "答案："
   ]
  },
  {
   "cell_type": "code",
   "execution_count": 55,
   "metadata": {},
   "outputs": [
    {
     "data": {
      "text/plain": [
       "array([4.6  , 7.255])"
      ]
     },
     "execution_count": 55,
     "metadata": {},
     "output_type": "execute_result"
    }
   ],
   "source": [
    "# Input\n",
    "url = 'https://archive.ics.uci.edu/ml/machine-learning-databases/iris/iris.data'\n",
    "sepallength = np.genfromtxt(url, delimiter=',', dtype='float', usecols=[0])\n",
    "\n",
    "# Solution\n",
    "np.percentile(sepallength, q=[5,95])\n",
    "# > array([ 4.6  ,  7.255])"
   ]
  },
  {
   "cell_type": "markdown",
   "metadata": {},
   "source": [
    "# 32. 如何在数组中的随机位置插入值？\n",
    "\n",
    "难度等级：L2\n",
    "\n",
    "问题：在iris_2d数据集中的20个随机位置插入np.nan值\n",
    "\n",
    "给定：\n",
    "\n",
    "``` python\n",
    "# Input\n",
    "url = 'https://archive.ics.uci.edu/ml/machine-learning-databases/iris/iris.data'\n",
    "iris_2d = np.genfromtxt(url, delimiter=',', dtype='object')\n",
    "```\n",
    "\n",
    "答案："
   ]
  },
  {
   "cell_type": "code",
   "execution_count": 56,
   "metadata": {},
   "outputs": [],
   "source": [
    "# Input\n",
    "url = 'https://archive.ics.uci.edu/ml/machine-learning-databases/iris/iris.data'\n",
    "iris_2d = np.genfromtxt(url, delimiter=',', dtype='object')"
   ]
  },
  {
   "cell_type": "code",
   "execution_count": 57,
   "metadata": {},
   "outputs": [],
   "source": [
    "i,j = np.where(iris_2d)"
   ]
  },
  {
   "cell_type": "code",
   "execution_count": 58,
   "metadata": {},
   "outputs": [],
   "source": [
    "# Method 1\n",
    "# i, j contain the row numbers and column numbers of 600 elements of iris_x\n",
    "iris_2d[np.random.choice(i,size=20),np.random.choice(j,size=20)] = np.nan"
   ]
  },
  {
   "cell_type": "code",
   "execution_count": 59,
   "metadata": {},
   "outputs": [],
   "source": [
    "# Input\n",
    "url = 'https://archive.ics.uci.edu/ml/machine-learning-databases/iris/iris.data'\n",
    "iris_2d = np.genfromtxt(url, delimiter=',', dtype='object')"
   ]
  },
  {
   "cell_type": "code",
   "execution_count": 60,
   "metadata": {},
   "outputs": [
    {
     "name": "stdout",
     "output_type": "stream",
     "text": [
      "[[b'5.1' b'3.5' nan b'0.2' b'Iris-setosa']\n",
      " [b'4.9' b'3.0' b'1.4' b'0.2' b'Iris-setosa']\n",
      " [b'4.7' b'3.2' b'1.3' b'0.2' b'Iris-setosa']\n",
      " [b'4.6' b'3.1' b'1.5' b'0.2' b'Iris-setosa']\n",
      " [b'5.0' b'3.6' b'1.4' b'0.2' b'Iris-setosa']\n",
      " [b'5.4' b'3.9' b'1.7' b'0.4' b'Iris-setosa']\n",
      " [b'4.6' b'3.4' b'1.4' b'0.3' b'Iris-setosa']\n",
      " [b'5.0' b'3.4' b'1.5' b'0.2' b'Iris-setosa']\n",
      " [b'4.4' b'2.9' b'1.4' b'0.2' b'Iris-setosa']\n",
      " [b'4.9' b'3.1' b'1.5' b'0.1' b'Iris-setosa']]\n"
     ]
    }
   ],
   "source": [
    "# Method 2\n",
    "iris_2d[np.random.randint(150, size=20), np.random.randint(4, size=20)] = np.nan\n",
    "\n",
    "# Print first 10 rows\n",
    "print(iris_2d[:10])"
   ]
  },
  {
   "cell_type": "code",
   "execution_count": 61,
   "metadata": {},
   "outputs": [
    {
     "data": {
      "text/plain": [
       "array([147,  53,  50,   9,  21,   6, 102, 122, 116,  39, 107,  51,  30,\n",
       "       121,  66,  17,  45,  89,  35,  16])"
      ]
     },
     "execution_count": 61,
     "metadata": {},
     "output_type": "execute_result"
    }
   ],
   "source": [
    "np.random.randint(150,size=20)"
   ]
  },
  {
   "cell_type": "code",
   "execution_count": 62,
   "metadata": {},
   "outputs": [
    {
     "data": {
      "text/plain": [
       "array([0, 2, 2, 1, 0, 3, 0, 3, 0, 2, 0, 1, 0, 2, 0, 1, 2, 1, 3, 0])"
      ]
     },
     "execution_count": 62,
     "metadata": {},
     "output_type": "execute_result"
    }
   ],
   "source": [
    "np.random.randint(4,size=20)"
   ]
  },
  {
   "cell_type": "markdown",
   "metadata": {},
   "source": [
    "# 33. 如何在numpy数组中找到缺失值的位置？\n",
    "\n",
    "难度等级：L2\n",
    "\n",
    "问题：在iris_2d的sepallength中查找缺失值的数量和位置（第1列）\n",
    "\n",
    "给定：\n",
    "\n",
    "```python\n",
    "# Input\n",
    "url = 'https://archive.ics.uci.edu/ml/machine-learning-databases/iris/iris.data'\n",
    "iris_2d = np.genfromtxt(url, delimiter=',', dtype='float')\n",
    "iris_2d[np.random.randint(150, size=20), np.random.randint(4, size=20)] = np.nan\n",
    "```\n",
    "\n",
    "答案："
   ]
  },
  {
   "cell_type": "code",
   "execution_count": 63,
   "metadata": {},
   "outputs": [],
   "source": [
    "# Input\n",
    "url = 'https://archive.ics.uci.edu/ml/machine-learning-databases/iris/iris.data'\n",
    "iris_2d = np.genfromtxt(url, delimiter=',', dtype='float', usecols=[0,1,2,3])\n",
    "iris_2d[np.random.randint(150, size=20), np.random.randint(4, size=20)] = np.nan"
   ]
  },
  {
   "cell_type": "code",
   "execution_count": 64,
   "metadata": {},
   "outputs": [
    {
     "data": {
      "text/plain": [
       "array([5.1, 4.9, 4.7, 4.6, 5. , 5.4, 4.6, 5. , 4.4, 4.9, 5.4, 4.8, 4.8,\n",
       "       4.3, 5.8, 5.7, 5.4, 5.1, 5.7, 5.1, 5.4, 5.1, 4.6, 5.1, 4.8, 5. ,\n",
       "       5. , 5.2, 5.2, 4.7, 4.8, 5.4, 5.2, 5.5, 4.9, 5. , 5.5, 4.9, 4.4,\n",
       "       5.1, 5. , 4.5, 4.4, 5. , 5.1, 4.8, 5.1, 4.6, 5.3, 5. , 7. , 6.4,\n",
       "       6.9, 5.5, 6.5, 5.7, 6.3, 4.9, 6.6, 5.2, 5. , 5.9, 6. , 6.1, 5.6,\n",
       "       6.7, 5.6, 5.8, 6.2, 5.6, 5.9, 6.1, 6.3, 6.1, 6.4, 6.6, 6.8, nan,\n",
       "       6. , 5.7, 5.5, 5.5, 5.8, 6. , 5.4, 6. , 6.7, 6.3, 5.6, 5.5, 5.5,\n",
       "       6.1, 5.8, 5. , 5.6, 5.7, 5.7, 6.2, 5.1, 5.7, 6.3, 5.8, 7.1, 6.3,\n",
       "       6.5, 7.6, 4.9, 7.3, 6.7, 7.2, 6.5, 6.4, 6.8, 5.7, 5.8, 6.4, 6.5,\n",
       "       7.7, 7.7, 6. , 6.9, 5.6, 7.7, 6.3, 6.7, 7.2, 6.2, 6.1, 6.4, 7.2,\n",
       "       7.4, 7.9, 6.4, 6.3, 6.1, 7.7, 6.3, 6.4, 6. , 6.9, 6.7, 6.9, 5.8,\n",
       "       6.8, 6.7, 6.7, 6.3, 6.5, nan, 5.9])"
      ]
     },
     "execution_count": 64,
     "metadata": {},
     "output_type": "execute_result"
    }
   ],
   "source": [
    "iris_2d[:,0]"
   ]
  },
  {
   "cell_type": "code",
   "execution_count": 65,
   "metadata": {},
   "outputs": [
    {
     "data": {
      "text/plain": [
       "2"
      ]
     },
     "execution_count": 65,
     "metadata": {},
     "output_type": "execute_result"
    }
   ],
   "source": [
    "np.isnan(iris_2d[:,0]).sum()"
   ]
  },
  {
   "cell_type": "code",
   "execution_count": 66,
   "metadata": {},
   "outputs": [
    {
     "data": {
      "text/plain": [
       "20"
      ]
     },
     "execution_count": 66,
     "metadata": {},
     "output_type": "execute_result"
    }
   ],
   "source": [
    "np.isnan(iris_2d).sum()"
   ]
  },
  {
   "cell_type": "code",
   "execution_count": 67,
   "metadata": {},
   "outputs": [
    {
     "data": {
      "text/plain": [
       "(array([  0,  14,  24,  28,  33,  34,  44,  57,  66,  73,  77,  90,  94,\n",
       "        115, 127, 129, 133, 135, 144, 148]),\n",
       " array([1, 1, 1, 2, 3, 2, 2, 2, 3, 2, 0, 2, 1, 2, 3, 2, 1, 2, 1, 0]))"
      ]
     },
     "execution_count": 67,
     "metadata": {},
     "output_type": "execute_result"
    }
   ],
   "source": [
    "np.where(np.isnan(iris_2d))"
   ]
  },
  {
   "cell_type": "code",
   "execution_count": 68,
   "metadata": {},
   "outputs": [
    {
     "name": "stdout",
     "output_type": "stream",
     "text": [
      "Number of missing values: \n",
      " 2\n",
      "Position of missing values: \n",
      " (array([ 77, 148]),)\n"
     ]
    }
   ],
   "source": [
    "# Solution\n",
    "print(\"Number of missing values: \\n\", np.isnan(iris_2d[:, 0]).sum())\n",
    "print(\"Position of missing values: \\n\", np.where(np.isnan(iris_2d[:, 0])))"
   ]
  },
  {
   "cell_type": "markdown",
   "metadata": {},
   "source": [
    "# 34. 如何根据两个或多个条件过滤numpy数组？\n",
    "\n",
    "难度等级：L3\n",
    "\n",
    "问题：过滤具有petallength（第3列）> 1.5 和 sepallength（第1列）< 5.0 的iris_2d行\n",
    "\n",
    "给定：\n",
    "\n",
    "``` python\n",
    "# Input\n",
    "url = 'https://archive.ics.uci.edu/ml/machine-learning-databases/iris/iris.data'\n",
    "iris_2d = np.genfromtxt(url, delimiter=',', dtype='float', usecols=[0,1,2,3])\n",
    "```\n",
    "\n",
    "答案："
   ]
  },
  {
   "cell_type": "code",
   "execution_count": 69,
   "metadata": {},
   "outputs": [],
   "source": [
    "# Input\n",
    "url = 'https://archive.ics.uci.edu/ml/machine-learning-databases/iris/iris.data'\n",
    "iris_2d = np.genfromtxt(url, delimiter=',', dtype='float', usecols=[0,1,2,3])"
   ]
  },
  {
   "cell_type": "code",
   "execution_count": 70,
   "metadata": {
    "scrolled": true
   },
   "outputs": [
    {
     "data": {
      "text/plain": [
       "array([[4.8, 3.4, 1.6, 0.2],\n",
       "       [4.8, 3.4, 1.9, 0.2],\n",
       "       [4.7, 3.2, 1.6, 0.2],\n",
       "       [4.8, 3.1, 1.6, 0.2],\n",
       "       [4.9, 2.4, 3.3, 1. ],\n",
       "       [4.9, 2.5, 4.5, 1.7]])"
      ]
     },
     "execution_count": 70,
     "metadata": {},
     "output_type": "execute_result"
    }
   ],
   "source": [
    "iris_2d[(iris_2d[:,2] > 1.5) & (iris_2d[:,0] < 5.0)]"
   ]
  },
  {
   "cell_type": "markdown",
   "metadata": {},
   "source": [
    "# 35. 如何从numpy数组中删除包含缺失值的行？\n",
    "\n",
    "难度等级：L3:\n",
    "\n",
    "问题：选择没有任何nan值的iris_2d行。\n",
    "\n",
    "给定：\n",
    "\n",
    "```python\n",
    "# Input\n",
    "url = 'https://archive.ics.uci.edu/ml/machine-learning-databases/iris/iris.data'\n",
    "iris_2d = np.genfromtxt(url, delimiter=',', dtype='float', usecols=[0,1,2,3])\n",
    "```\n",
    "\n",
    "答案："
   ]
  },
  {
   "cell_type": "code",
   "execution_count": 71,
   "metadata": {},
   "outputs": [],
   "source": [
    "# Input\n",
    "url = 'https://archive.ics.uci.edu/ml/machine-learning-databases/iris/iris.data'\n",
    "iris_2d = np.genfromtxt(url, delimiter=',', dtype='float', usecols=[0,1,2,3])\n",
    "iris_2d[np.random.randint(150, size=20), np.random.randint(4, size=20)] = np.nan"
   ]
  },
  {
   "cell_type": "code",
   "execution_count": 72,
   "metadata": {
    "scrolled": false
   },
   "outputs": [],
   "source": [
    "# Solution\n",
    "# No direct numpy function for this.\n",
    "# Method 1:\n",
    "#print(~np.any(np.isnan(iris_2d)))\n",
    "#any_nan_in_row = np.array([~np.any(np.isnan(row)) for row in iris_2d])\n",
    "#print(any_nan_in_row)b\n",
    "#iris_2d[any_nan_in_row][:5]"
   ]
  },
  {
   "cell_type": "code",
   "execution_count": 73,
   "metadata": {},
   "outputs": [
    {
     "data": {
      "text/plain": [
       "array([[False, False, False, False],\n",
       "       [False, False, False, False],\n",
       "       [False, False, False, False],\n",
       "       [False, False, False, False],\n",
       "       [False, False, False, False],\n",
       "       [False, False, False, False],\n",
       "       [False, False, False, False],\n",
       "       [False, False, False, False],\n",
       "       [False, False, False, False],\n",
       "       [False, False, False, False],\n",
       "       [False, False, False, False],\n",
       "       [False, False,  True, False],\n",
       "       [False, False, False, False],\n",
       "       [False, False, False, False],\n",
       "       [False, False, False, False],\n",
       "       [False, False, False, False],\n",
       "       [False, False, False, False],\n",
       "       [False, False, False, False],\n",
       "       [False, False, False, False],\n",
       "       [False, False, False, False],\n",
       "       [False, False, False, False],\n",
       "       [False, False, False, False],\n",
       "       [False,  True, False, False],\n",
       "       [False, False, False, False],\n",
       "       [False, False, False, False],\n",
       "       [False, False, False,  True],\n",
       "       [False, False, False, False],\n",
       "       [False, False, False, False],\n",
       "       [False, False, False, False],\n",
       "       [False, False, False, False],\n",
       "       [False, False, False, False],\n",
       "       [False, False, False, False],\n",
       "       [False, False, False, False],\n",
       "       [False, False, False, False],\n",
       "       [False, False, False, False],\n",
       "       [False, False, False, False],\n",
       "       [False, False, False, False],\n",
       "       [False, False, False, False],\n",
       "       [ True, False, False, False],\n",
       "       [False, False, False, False],\n",
       "       [False, False, False, False],\n",
       "       [False, False, False, False],\n",
       "       [False, False, False,  True],\n",
       "       [False, False, False, False],\n",
       "       [False, False, False, False],\n",
       "       [False, False, False, False],\n",
       "       [False, False, False, False],\n",
       "       [False, False, False, False],\n",
       "       [False, False, False, False],\n",
       "       [False, False, False, False],\n",
       "       [False, False, False, False],\n",
       "       [False, False, False, False],\n",
       "       [False, False, False, False],\n",
       "       [False, False, False, False],\n",
       "       [False, False, False, False],\n",
       "       [ True, False, False, False],\n",
       "       [False, False, False, False],\n",
       "       [ True, False, False, False],\n",
       "       [False, False, False, False],\n",
       "       [False, False, False, False],\n",
       "       [False, False, False, False],\n",
       "       [False, False, False, False],\n",
       "       [False, False, False, False],\n",
       "       [False, False, False, False],\n",
       "       [False, False, False, False],\n",
       "       [False, False, False, False],\n",
       "       [False, False, False, False],\n",
       "       [False, False, False, False],\n",
       "       [False, False, False, False],\n",
       "       [False, False, False, False],\n",
       "       [False, False, False, False],\n",
       "       [False, False, False, False],\n",
       "       [False, False, False, False],\n",
       "       [False, False, False, False],\n",
       "       [False, False, False, False],\n",
       "       [False, False, False, False],\n",
       "       [False, False, False, False],\n",
       "       [False, False, False, False],\n",
       "       [False, False, False, False],\n",
       "       [False, False, False, False],\n",
       "       [False, False, False, False],\n",
       "       [False, False, False,  True],\n",
       "       [False, False, False, False],\n",
       "       [False, False, False, False],\n",
       "       [False, False, False, False],\n",
       "       [False, False, False, False],\n",
       "       [False, False, False, False],\n",
       "       [False,  True, False, False],\n",
       "       [False, False, False, False],\n",
       "       [False, False, False, False],\n",
       "       [False, False, False, False],\n",
       "       [False, False, False, False],\n",
       "       [False, False, False, False],\n",
       "       [False, False,  True, False],\n",
       "       [False, False, False, False],\n",
       "       [False, False, False, False],\n",
       "       [False, False, False, False],\n",
       "       [False, False, False, False],\n",
       "       [False, False, False, False],\n",
       "       [False, False, False, False],\n",
       "       [False, False, False, False],\n",
       "       [False,  True, False, False],\n",
       "       [False, False, False, False],\n",
       "       [False, False, False, False],\n",
       "       [False, False, False, False],\n",
       "       [False, False, False, False],\n",
       "       [False, False, False, False],\n",
       "       [False, False, False, False],\n",
       "       [False, False,  True, False],\n",
       "       [False, False, False, False],\n",
       "       [False, False, False, False],\n",
       "       [False, False, False, False],\n",
       "       [False, False, False, False],\n",
       "       [False, False, False, False],\n",
       "       [False, False, False, False],\n",
       "       [False, False, False, False],\n",
       "       [False, False,  True, False],\n",
       "       [False, False,  True, False],\n",
       "       [False, False, False, False],\n",
       "       [False, False, False, False],\n",
       "       [False, False, False, False],\n",
       "       [False, False, False, False],\n",
       "       [ True, False, False, False],\n",
       "       [False, False, False, False],\n",
       "       [False, False, False, False],\n",
       "       [False, False, False, False],\n",
       "       [False, False, False, False],\n",
       "       [False, False, False, False],\n",
       "       [False, False, False, False],\n",
       "       [False, False, False, False],\n",
       "       [False, False, False, False],\n",
       "       [False, False, False, False],\n",
       "       [False, False, False, False],\n",
       "       [False, False, False, False],\n",
       "       [False, False, False, False],\n",
       "       [False, False, False, False],\n",
       "       [False, False, False, False],\n",
       "       [False, False, False, False],\n",
       "       [False, False, False,  True],\n",
       "       [False, False, False, False],\n",
       "       [False, False, False, False],\n",
       "       [ True, False, False, False],\n",
       "       [False, False, False, False],\n",
       "       [False, False, False,  True],\n",
       "       [False, False, False, False],\n",
       "       [ True,  True, False, False],\n",
       "       [False, False, False, False],\n",
       "       [False, False, False, False],\n",
       "       [False, False, False, False],\n",
       "       [False, False, False, False]])"
      ]
     },
     "execution_count": 73,
     "metadata": {},
     "output_type": "execute_result"
    }
   ],
   "source": [
    "np.isnan(iris_2d)"
   ]
  },
  {
   "cell_type": "code",
   "execution_count": 74,
   "metadata": {},
   "outputs": [
    {
     "data": {
      "text/plain": [
       "array([0, 0, 0, 0, 0, 0, 0, 0, 0, 0, 0, 1, 0, 0, 0, 0, 0, 0, 0, 0, 0, 0,\n",
       "       1, 0, 0, 1, 0, 0, 0, 0, 0, 0, 0, 0, 0, 0, 0, 0, 1, 0, 0, 0, 1, 0,\n",
       "       0, 0, 0, 0, 0, 0, 0, 0, 0, 0, 0, 1, 0, 1, 0, 0, 0, 0, 0, 0, 0, 0,\n",
       "       0, 0, 0, 0, 0, 0, 0, 0, 0, 0, 0, 0, 0, 0, 0, 1, 0, 0, 0, 0, 0, 1,\n",
       "       0, 0, 0, 0, 0, 1, 0, 0, 0, 0, 0, 0, 0, 1, 0, 0, 0, 0, 0, 0, 1, 0,\n",
       "       0, 0, 0, 0, 0, 0, 1, 1, 0, 0, 0, 0, 1, 0, 0, 0, 0, 0, 0, 0, 0, 0,\n",
       "       0, 0, 0, 0, 0, 0, 1, 0, 0, 1, 0, 1, 0, 2, 0, 0, 0, 0])"
      ]
     },
     "execution_count": 74,
     "metadata": {},
     "output_type": "execute_result"
    }
   ],
   "source": [
    "np.sum(np.isnan(iris_2d),axis=1)"
   ]
  },
  {
   "cell_type": "code",
   "execution_count": 75,
   "metadata": {},
   "outputs": [
    {
     "data": {
      "text/plain": [
       "array([[5.1, 3.5, 1.4, 0.2],\n",
       "       [4.9, 3. , 1.4, 0.2],\n",
       "       [4.7, 3.2, 1.3, 0.2],\n",
       "       [4.6, 3.1, 1.5, 0.2],\n",
       "       [5. , 3.6, 1.4, 0.2]])"
      ]
     },
     "execution_count": 75,
     "metadata": {},
     "output_type": "execute_result"
    }
   ],
   "source": [
    "# Method 2: (By Rong)\n",
    "iris_2d[np.sum(np.isnan(iris_2d), axis = 1) == 0][:5]\n",
    "# > array([[ 4.9,  3. ,  1.4,  0.2],\n",
    "# >        [ 4.7,  3.2,  1.3,  0.2],\n",
    "# >        [ 4.6,  3.1,  1.5,  0.2],\n",
    "# >        [ 5. ,  3.6,  1.4,  0.2],\n",
    "# >        [ 5.4,  3.9,  1.7,  0.4]])\n",
    "#"
   ]
  },
  {
   "cell_type": "markdown",
   "metadata": {},
   "source": [
    "# 36. 如何找到numpy数组的两列之间的相关性？\n",
    "\n",
    "难度等级：L2\n",
    "\n",
    "问题：在iris_2d中找出SepalLength（第1列）和PetalLength（第3列）之间的相关性\n",
    "\n",
    "给定：\n",
    "\n",
    "```python\n",
    "# Input\n",
    "url = 'https://archive.ics.uci.edu/ml/machine-learning-databases/iris/iris.data'\n",
    "iris_2d = np.genfromtxt(url, delimiter=',', dtype='float', usecols=[0,1,2,3])\n",
    "```\n",
    "\n",
    "答案："
   ]
  },
  {
   "cell_type": "code",
   "execution_count": 76,
   "metadata": {},
   "outputs": [],
   "source": [
    "# Input\n",
    "url = 'https://archive.ics.uci.edu/ml/machine-learning-databases/iris/iris.data'\n",
    "iris = np.genfromtxt(url, delimiter=',', dtype='float', usecols=[0,1,2,3])"
   ]
  },
  {
   "cell_type": "code",
   "execution_count": 77,
   "metadata": {},
   "outputs": [
    {
     "data": {
      "text/plain": [
       "nan"
      ]
     },
     "execution_count": 77,
     "metadata": {},
     "output_type": "execute_result"
    }
   ],
   "source": [
    "#Solution1 \n",
    "corrcoef = np.corrcoef(iris_2d[:,0],iris[:,2])[0,1]\n",
    "corrcoef"
   ]
  },
  {
   "cell_type": "code",
   "execution_count": 78,
   "metadata": {},
   "outputs": [
    {
     "name": "stdout",
     "output_type": "stream",
     "text": [
      "0.8717541573048712\n",
      "1.0384540627941809e-47\n"
     ]
    }
   ],
   "source": [
    "# Solution 2\n",
    "from scipy.stats.stats import pearsonr  \n",
    "corr, p_value = pearsonr(iris[:, 0], iris[:, 2])\n",
    "print(corr)\n",
    "print(p_value)\n",
    "\n",
    "# Correlation coef indicates the degree of linear relationship between two numeric variables.\n",
    "# 相关系数表示两个数值变量之间的线性关系程度。\n",
    "# It can range between -1 to +1.\n",
    "\n",
    "# The p-value roughly indicates the probability of an uncorrelated system producing \n",
    "# datasets that have a correlation at least as extreme as the one computed.\n",
    "# The lower the p-value (<0.01), stronger is the significance of the relationship.\n",
    "# It is not an indicator of the strength.\n",
    "\n",
    "# p值粗略地表示不相关系统产生的概率\n",
    "# 数据集的相关性至少与计算的相关性极端相同。\n",
    "# p值越低（<0.01），关系的重要性越强。\n",
    "# It is not an indicator of the strength."
   ]
  },
  {
   "cell_type": "markdown",
   "metadata": {},
   "source": [
    "# 37. 如何查找给定数组是否具有任何空值？\n",
    "\n",
    "难度等级：L2\n",
    "\n",
    "问题：找出iris_2d是否有任何缺失值。\n",
    "\n",
    "给定：\n",
    "\n",
    "```python\n",
    "# Input\n",
    "url = 'https://archive.ics.uci.edu/ml/machine-learning-databases/iris/iris.data'\n",
    "iris_2d = np.genfromtxt(url, delimiter=',', dtype='float', usecols=[0,1,2,3])\n",
    "```\n",
    "\n",
    "答案："
   ]
  },
  {
   "cell_type": "code",
   "execution_count": 79,
   "metadata": {},
   "outputs": [
    {
     "data": {
      "text/plain": [
       "False"
      ]
     },
     "execution_count": 79,
     "metadata": {},
     "output_type": "execute_result"
    }
   ],
   "source": [
    "# Input\n",
    "url = 'https://archive.ics.uci.edu/ml/machine-learning-databases/iris/iris.data'\n",
    "iris_2d = np.genfromtxt(url, delimiter=',', dtype='float', usecols=[0,1,2,3])\n",
    "\n",
    "np.isnan(iris_2d).any()# Returns True if any of the elements of `a` evaluate to True.\n",
    "# > False"
   ]
  },
  {
   "cell_type": "markdown",
   "metadata": {},
   "source": [
    "# 38. 如何在numpy数组中用0替换所有缺失值？\n",
    "\n",
    "难度等级：L2\n",
    "\n",
    "问题：在numpy数组中将所有出现的nan替换为0\n",
    "\n",
    "给定：\n",
    "\n",
    "```python\n",
    "# Input\n",
    "url = 'https://archive.ics.uci.edu/ml/machine-learning-databases/iris/iris.data'\n",
    "iris_2d = np.genfromtxt(url, delimiter=',', dtype='float', usecols=[0,1,2,3])\n",
    "iris_2d[np.random.randint(150, size=20), np.random.randint(4, size=20)] = np.nan\n",
    "```\n",
    "\n",
    "答案："
   ]
  },
  {
   "cell_type": "code",
   "execution_count": 80,
   "metadata": {},
   "outputs": [],
   "source": [
    "# Input\n",
    "url = 'https://archive.ics.uci.edu/ml/machine-learning-databases/iris/iris.data'\n",
    "iris_2d = np.genfromtxt(url, delimiter=',', dtype='float', usecols=[0,1,2,3])\n",
    "iris_2d[np.random.randint(150, size=20), np.random.randint(4, size=20)] = np.nan"
   ]
  },
  {
   "cell_type": "code",
   "execution_count": 81,
   "metadata": {},
   "outputs": [
    {
     "data": {
      "text/plain": [
       "array([[5.1, 3.5, 1.4, 0.2],\n",
       "       [4.9, 3. , 1.4, 0.2],\n",
       "       [4.7, 3.2, 1.3, 0.2],\n",
       "       [4.6, 3.1, 1.5, 0.2]])"
      ]
     },
     "execution_count": 81,
     "metadata": {},
     "output_type": "execute_result"
    }
   ],
   "source": [
    "# Solution\n",
    "iris_2d[np.isnan(iris_2d)] = 0\n",
    "iris_2d[:4]"
   ]
  },
  {
   "cell_type": "markdown",
   "metadata": {},
   "source": [
    "# 39. 如何在numpy数组中查找唯一值的计数？\n",
    "\n",
    "难度等级：L2\n",
    "\n",
    "问题：找出鸢尾属植物物种中的独特值和独特值的数量\n",
    "\n",
    "给定：\n",
    "\n",
    "```python\n",
    "# Input\n",
    "url = 'https://archive.ics.uci.edu/ml/machine-learning-databases/iris/iris.data'\n",
    "iris = np.genfromtxt(url, delimiter=',', dtype='object')\n",
    "names = ('sepallength', 'sepalwidth', 'petallength', 'petalwidth', 'species')\n",
    "```\n",
    "\n",
    "答案："
   ]
  },
  {
   "cell_type": "code",
   "execution_count": 82,
   "metadata": {},
   "outputs": [
    {
     "data": {
      "text/plain": [
       "(array([b'Iris-setosa', b'Iris-versicolor', b'Iris-virginica'],\n",
       "       dtype=object), array([50, 50, 50]))"
      ]
     },
     "execution_count": 82,
     "metadata": {},
     "output_type": "execute_result"
    }
   ],
   "source": [
    "# Import iris keeping the text column intact\n",
    "url = 'https://archive.ics.uci.edu/ml/machine-learning-databases/iris/iris.data'\n",
    "iris = np.genfromtxt(url, delimiter=',', dtype='object')\n",
    "names = ('sepallength', 'sepalwidth', 'petallength', 'petalwidth', 'species')\n",
    "\n",
    "\n",
    "# Solution\n",
    "# Extract the species column as an array\n",
    "species = iris[:,4]\n",
    "#species2 = np.array([row.tolist()[4] for row in iris])\n",
    "\n",
    "# Get the unique values and the counts\n",
    "np.unique(species,return_counts=True)\n",
    "# > (array([b'Iris-setosa', b'Iris-versicolor', b'Iris-virginica'],\n",
    "# >        dtype='|S15'), array([50, 50, 50]))"
   ]
  },
  {
   "cell_type": "markdown",
   "metadata": {},
   "source": [
    "# 40. 如何将数字转换为分类（文本）数组？\n",
    "\n",
    "难度等级：L2\n",
    "\n",
    "问题：将iris_2d的花瓣长度（第3列）加入以形成文本数组，这样如果花瓣长度为：\n",
    "\n",
    "```python\n",
    "Less than 3 --> 'small'\n",
    "3-5 --> 'medium'\n",
    "'>=5 --> 'large'\n",
    "```\n",
    "\n",
    "给定：\n",
    "\n",
    "```python\n",
    "# Input\n",
    "url = 'https://archive.ics.uci.edu/ml/machine-learning-databases/iris/iris.data'\n",
    "iris = np.genfromtxt(url, delimiter=',', dtype='object')\n",
    "names = ('sepallength', 'sepalwidth', 'petallength', 'petalwidth', 'species')\n",
    "```\n",
    "\n",
    "答案："
   ]
  },
  {
   "cell_type": "code",
   "execution_count": 83,
   "metadata": {},
   "outputs": [],
   "source": [
    "# Input\n",
    "url = 'https://archive.ics.uci.edu/ml/machine-learning-databases/iris/iris.data'\n",
    "iris = np.genfromtxt(url, delimiter=',', dtype='object')\n",
    "names = ('sepallength', 'sepalwidth', 'petallength', 'petalwidth', 'species')"
   ]
  },
  {
   "cell_type": "code",
   "execution_count": 84,
   "metadata": {},
   "outputs": [
    {
     "data": {
      "text/plain": [
       "array([1.4, 1.4, 1.3, 1.5, 1.4, 1.7, 1.4, 1.5, 1.4, 1.5, 1.5, 1.6, 1.4,\n",
       "       1.1, 1.2, 1.5, 1.3, 1.4, 1.7, 1.5, 1.7, 1.5, 1. , 1.7, 1.9, 1.6,\n",
       "       1.6, 1.5, 1.4, 1.6, 1.6, 1.5, 1.5, 1.4, 1.5, 1.2, 1.3, 1.5, 1.3,\n",
       "       1.5, 1.3, 1.3, 1.3, 1.6, 1.9, 1.4, 1.6, 1.4, 1.5, 1.4, 4.7, 4.5,\n",
       "       4.9, 4. , 4.6, 4.5, 4.7, 3.3, 4.6, 3.9, 3.5, 4.2, 4. , 4.7, 3.6,\n",
       "       4.4, 4.5, 4.1, 4.5, 3.9, 4.8, 4. , 4.9, 4.7, 4.3, 4.4, 4.8, 5. ,\n",
       "       4.5, 3.5, 3.8, 3.7, 3.9, 5.1, 4.5, 4.5, 4.7, 4.4, 4.1, 4. , 4.4,\n",
       "       4.6, 4. , 3.3, 4.2, 4.2, 4.2, 4.3, 3. , 4.1, 6. , 5.1, 5.9, 5.6,\n",
       "       5.8, 6.6, 4.5, 6.3, 5.8, 6.1, 5.1, 5.3, 5.5, 5. , 5.1, 5.3, 5.5,\n",
       "       6.7, 6.9, 5. , 5.7, 4.9, 6.7, 4.9, 5.7, 6. , 4.8, 4.9, 5.6, 5.8,\n",
       "       6.1, 6.4, 5.6, 5.1, 5.6, 6.1, 5.6, 5.5, 4.8, 5.4, 5.6, 5.1, 5.1,\n",
       "       5.9, 5.7, 5.2, 5. , 5.2, 5.4, 5.1])"
      ]
     },
     "execution_count": 84,
     "metadata": {},
     "output_type": "execute_result"
    }
   ],
   "source": [
    "iris[:,2].astype('float')"
   ]
  },
  {
   "cell_type": "code",
   "execution_count": 85,
   "metadata": {},
   "outputs": [
    {
     "data": {
      "text/plain": [
       "array([1, 1, 1, 1, 1, 1, 1, 1, 1, 1, 1, 1, 1, 1, 1, 1, 1, 1, 1, 1, 1, 1,\n",
       "       1, 1, 1, 1, 1, 1, 1, 1, 1, 1, 1, 1, 1, 1, 1, 1, 1, 1, 1, 1, 1, 1,\n",
       "       1, 1, 1, 1, 1, 1, 2, 2, 2, 2, 2, 2, 2, 2, 2, 2, 2, 2, 2, 2, 2, 2,\n",
       "       2, 2, 2, 2, 2, 2, 2, 2, 2, 2, 2, 3, 2, 2, 2, 2, 2, 3, 2, 2, 2, 2,\n",
       "       2, 2, 2, 2, 2, 2, 2, 2, 2, 2, 2, 2, 3, 3, 3, 3, 3, 3, 2, 3, 3, 3,\n",
       "       3, 3, 3, 3, 3, 3, 3, 3, 3, 3, 3, 2, 3, 2, 3, 3, 2, 2, 3, 3, 3, 3,\n",
       "       3, 3, 3, 3, 3, 3, 2, 3, 3, 3, 3, 3, 3, 3, 3, 3, 3, 3])"
      ]
     },
     "execution_count": 85,
     "metadata": {},
     "output_type": "execute_result"
    }
   ],
   "source": [
    "# Bin petallength \n",
    "petal_length_bin = np.digitize(iris[:,2].astype('float'),[0,3,5,10]) \n",
    "# 返回输入数组中每个值所属的bin的索引。\n",
    "petal_length_bin"
   ]
  },
  {
   "cell_type": "code",
   "execution_count": 86,
   "metadata": {},
   "outputs": [
    {
     "data": {
      "text/plain": [
       "['small',\n",
       " 'small',\n",
       " 'small',\n",
       " 'small',\n",
       " 'small',\n",
       " 'small',\n",
       " 'small',\n",
       " 'small',\n",
       " 'small',\n",
       " 'small',\n",
       " 'small',\n",
       " 'small',\n",
       " 'small',\n",
       " 'small',\n",
       " 'small',\n",
       " 'small',\n",
       " 'small',\n",
       " 'small',\n",
       " 'small',\n",
       " 'small',\n",
       " 'small',\n",
       " 'small',\n",
       " 'small',\n",
       " 'small',\n",
       " 'small',\n",
       " 'small',\n",
       " 'small',\n",
       " 'small',\n",
       " 'small',\n",
       " 'small',\n",
       " 'small',\n",
       " 'small',\n",
       " 'small',\n",
       " 'small',\n",
       " 'small',\n",
       " 'small',\n",
       " 'small',\n",
       " 'small',\n",
       " 'small',\n",
       " 'small',\n",
       " 'small',\n",
       " 'small',\n",
       " 'small',\n",
       " 'small',\n",
       " 'small',\n",
       " 'small',\n",
       " 'small',\n",
       " 'small',\n",
       " 'small',\n",
       " 'small',\n",
       " 'medium',\n",
       " 'medium',\n",
       " 'medium',\n",
       " 'medium',\n",
       " 'medium',\n",
       " 'medium',\n",
       " 'medium',\n",
       " 'medium',\n",
       " 'medium',\n",
       " 'medium',\n",
       " 'medium',\n",
       " 'medium',\n",
       " 'medium',\n",
       " 'medium',\n",
       " 'medium',\n",
       " 'medium',\n",
       " 'medium',\n",
       " 'medium',\n",
       " 'medium',\n",
       " 'medium',\n",
       " 'medium',\n",
       " 'medium',\n",
       " 'medium',\n",
       " 'medium',\n",
       " 'medium',\n",
       " 'medium',\n",
       " 'medium',\n",
       " 'large',\n",
       " 'medium',\n",
       " 'medium',\n",
       " 'medium',\n",
       " 'medium',\n",
       " 'medium',\n",
       " 'large',\n",
       " 'medium',\n",
       " 'medium',\n",
       " 'medium',\n",
       " 'medium',\n",
       " 'medium',\n",
       " 'medium',\n",
       " 'medium',\n",
       " 'medium',\n",
       " 'medium',\n",
       " 'medium',\n",
       " 'medium',\n",
       " 'medium',\n",
       " 'medium',\n",
       " 'medium',\n",
       " 'medium',\n",
       " 'medium',\n",
       " 'large',\n",
       " 'large',\n",
       " 'large',\n",
       " 'large',\n",
       " 'large',\n",
       " 'large',\n",
       " 'medium',\n",
       " 'large',\n",
       " 'large',\n",
       " 'large',\n",
       " 'large',\n",
       " 'large',\n",
       " 'large',\n",
       " 'large',\n",
       " 'large',\n",
       " 'large',\n",
       " 'large',\n",
       " 'large',\n",
       " 'large',\n",
       " 'large',\n",
       " 'large',\n",
       " 'medium',\n",
       " 'large',\n",
       " 'medium',\n",
       " 'large',\n",
       " 'large',\n",
       " 'medium',\n",
       " 'medium',\n",
       " 'large',\n",
       " 'large',\n",
       " 'large',\n",
       " 'large',\n",
       " 'large',\n",
       " 'large',\n",
       " 'large',\n",
       " 'large',\n",
       " 'large',\n",
       " 'large',\n",
       " 'medium',\n",
       " 'large',\n",
       " 'large',\n",
       " 'large',\n",
       " 'large',\n",
       " 'large',\n",
       " 'large',\n",
       " 'large',\n",
       " 'large',\n",
       " 'large',\n",
       " 'large',\n",
       " 'large']"
      ]
     },
     "execution_count": 86,
     "metadata": {},
     "output_type": "execute_result"
    }
   ],
   "source": [
    "# Map it to respective category\n",
    "label_map={1:'small',2:'medium',3:'large',4:np.nan}\n",
    "petal_length_cat = [label_map[x] for x in petal_length_bin]\n",
    "petal_length_cat"
   ]
  },
  {
   "cell_type": "code",
   "execution_count": 87,
   "metadata": {},
   "outputs": [],
   "source": [
    "# View\n",
    "petal_length_cat[:4]\n",
    "#['small', 'small', 'small', 'small']\n",
    "\n",
    "# Map it to respective category\n",
    "label_map = {1: 'small', 2: 'medium', 3: 'large', 4: np.nan}\n",
    "petal_length_cat = [label_map[x] for x in petal_length_bin]"
   ]
  },
  {
   "cell_type": "markdown",
   "metadata": {},
   "source": [
    "# 41. 如何从numpy数组的现有列创建新列？\n",
    "\n",
    "难度等级：L2\n",
    "\n",
    "问题：在iris_2d中为卷创建一个新列，其中volume是 `pi x petallength x sepal_length ^ 2）/ 3`\n",
    "\n",
    "给定：\n",
    "\n",
    "```python\n",
    "# Input\n",
    "url = 'https://archive.ics.uci.edu/ml/machine-learning-databases/iris/iris.data'\n",
    "iris_2d = np.genfromtxt(url, delimiter=',', dtype='object')\n",
    "names = ('sepallength', 'sepalwidth', 'petallength', 'petalwidth', 'species')\n",
    "```\n",
    "\n",
    "答案："
   ]
  },
  {
   "cell_type": "code",
   "execution_count": 88,
   "metadata": {},
   "outputs": [],
   "source": [
    "# Input\n",
    "url = 'https://archive.ics.uci.edu/ml/machine-learning-databases/iris/iris.data'\n",
    "iris_2d = np.genfromtxt(url, delimiter=',', dtype='object')"
   ]
  },
  {
   "cell_type": "code",
   "execution_count": 89,
   "metadata": {},
   "outputs": [
    {
     "data": {
      "text/plain": [
       "array([38.13265163, 35.20049849, 30.07237208, 33.23805027, 36.65191429,\n",
       "       51.91167701, 31.02218026, 39.26990817, 28.38324243, 37.71481981])"
      ]
     },
     "execution_count": 89,
     "metadata": {},
     "output_type": "execute_result"
    }
   ],
   "source": [
    "# Solution \n",
    "# Compute volume\n",
    "sepallength = iris_2d[:,0].astype('float')\n",
    "petallength = iris_2d[:,2].astype('float')\n",
    "volume = (np.pi * petallength *(sepallength**2))/3\n",
    "volume[:10]"
   ]
  },
  {
   "cell_type": "code",
   "execution_count": 90,
   "metadata": {},
   "outputs": [
    {
     "data": {
      "text/plain": [
       "array([[ 38.13265163],\n",
       "       [ 35.20049849],\n",
       "       [ 30.07237208],\n",
       "       [ 33.23805027],\n",
       "       [ 36.65191429],\n",
       "       [ 51.91167701],\n",
       "       [ 31.02218026],\n",
       "       [ 39.26990817],\n",
       "       [ 28.38324243],\n",
       "       [ 37.71481981],\n",
       "       [ 45.80442089],\n",
       "       [ 38.60389053],\n",
       "       [ 33.77840421],\n",
       "       [ 21.29895099],\n",
       "       [ 42.27327075],\n",
       "       [ 51.03517266],\n",
       "       [ 39.69716477],\n",
       "       [ 38.13265163],\n",
       "       [ 57.83986235],\n",
       "       [ 40.85641246],\n",
       "       [ 51.91167701],\n",
       "       [ 40.85641246],\n",
       "       [ 22.15870018],\n",
       "       [ 46.30393412],\n",
       "       [ 45.84212   ],\n",
       "       [ 41.88790205],\n",
       "       [ 41.88790205],\n",
       "       [ 42.47433268],\n",
       "       [ 39.6427105 ],\n",
       "       [ 37.01215025],\n",
       "       [ 38.60389053],\n",
       "       [ 45.80442089],\n",
       "       [ 42.47433268],\n",
       "       [ 44.34881629],\n",
       "       [ 37.71481981],\n",
       "       [ 31.41592654],\n",
       "       [ 41.1810437 ],\n",
       "       [ 37.71481981],\n",
       "       [ 26.35586797],\n",
       "       [ 40.85641246],\n",
       "       [ 34.03392041],\n",
       "       [ 27.56747554],\n",
       "       [ 26.35586797],\n",
       "       [ 41.88790205],\n",
       "       [ 51.75145578],\n",
       "       [ 33.77840421],\n",
       "       [ 43.58017329],\n",
       "       [ 31.02218026],\n",
       "       [ 44.12366882],\n",
       "       [ 36.65191429],\n",
       "       [241.16959604],\n",
       "       [193.01945264],\n",
       "       [244.29966952],\n",
       "       [126.71090369],\n",
       "       [203.52284408],\n",
       "       [153.10551797],\n",
       "       [195.34737279],\n",
       "       [ 82.97260357],\n",
       "       [209.83325652],\n",
       "       [110.43326496],\n",
       "       [ 91.62978573],\n",
       "       [153.10237638],\n",
       "       [150.79644737],\n",
       "       [183.14123814],\n",
       "       [118.22441474],\n",
       "       [206.83827152],\n",
       "       [147.78051842],\n",
       "       [144.43367505],\n",
       "       [181.14423241],\n",
       "       [128.0764493 ],\n",
       "       [174.97414443],\n",
       "       [155.86488352],\n",
       "       [203.66002695],\n",
       "       [183.14123814],\n",
       "       [184.4408103 ],\n",
       "       [200.71007145],\n",
       "       [232.42759088],\n",
       "       [235.04349037],\n",
       "       [169.64600329],\n",
       "       [119.08206953],\n",
       "       [120.37535851],\n",
       "       [117.20758592],\n",
       "       [137.38812993],\n",
       "       [192.2654704 ],\n",
       "       [137.41326267],\n",
       "       [169.64600329],\n",
       "       [220.94088094],\n",
       "       [182.87839155],\n",
       "       [134.64447234],\n",
       "       [126.71090369],\n",
       "       [139.38199406],\n",
       "       [179.24461605],\n",
       "       [140.91090249],\n",
       "       [ 86.39379797],\n",
       "       [137.92848386],\n",
       "       [142.89848344],\n",
       "       [142.89848344],\n",
       "       [173.09337763],\n",
       "       [ 81.71282492],\n",
       "       [139.4961386 ],\n",
       "       [249.37962484],\n",
       "       [179.66140067],\n",
       "       [311.45644848],\n",
       "       [232.75431652],\n",
       "       [256.61575992],\n",
       "       [399.20846168],\n",
       "       [113.14445942],\n",
       "       [351.57249227],\n",
       "       [272.65044882],\n",
       "       [331.14899843],\n",
       "       [225.64489234],\n",
       "       [227.33402199],\n",
       "       [266.32328122],\n",
       "       [170.11724219],\n",
       "       [179.66140067],\n",
       "       [227.33402199],\n",
       "       [243.34253096],\n",
       "       [415.99189683],\n",
       "       [428.40956539],\n",
       "       [188.49555922],\n",
       "       [284.18532985],\n",
       "       [160.91656451],\n",
       "       [415.99189683],\n",
       "       [203.66002695],\n",
       "       [267.94957902],\n",
       "       [325.72032632],\n",
       "       [193.22051457],\n",
       "       [190.93448231],\n",
       "       [240.2019855 ],\n",
       "       [314.86298211],\n",
       "       [349.80168121],\n",
       "       [418.27583469],\n",
       "       [240.2019855 ],\n",
       "       [211.97268112],\n",
       "       [218.21083693],\n",
       "       [378.73889114],\n",
       "       [232.75431652],\n",
       "       [235.91266433],\n",
       "       [180.95573685],\n",
       "       [269.22820723],\n",
       "       [263.24870921],\n",
       "       [254.2710846 ],\n",
       "       [179.66140067],\n",
       "       [285.69224713],\n",
       "       [267.94957902],\n",
       "       [244.44522998],\n",
       "       [207.81635403],\n",
       "       [230.069302  ],\n",
       "       [217.37307889],\n",
       "       [185.91002846]])"
      ]
     },
     "execution_count": 90,
     "metadata": {},
     "output_type": "execute_result"
    }
   ],
   "source": [
    "volume= volume.reshape(-1,1)\n",
    "volume"
   ]
  },
  {
   "cell_type": "code",
   "execution_count": 91,
   "metadata": {},
   "outputs": [
    {
     "data": {
      "text/plain": [
       "array([[b'5.1', b'3.5', b'1.4', b'0.2', b'Iris-setosa',\n",
       "        38.13265162927291],\n",
       "       [b'4.9', b'3.0', b'1.4', b'0.2', b'Iris-setosa',\n",
       "        35.200498485922445],\n",
       "       [b'4.7', b'3.2', b'1.3', b'0.2', b'Iris-setosa', 30.0723720777127],\n",
       "       [b'4.6', b'3.1', b'1.5', b'0.2', b'Iris-setosa',\n",
       "        33.238050274980004]], dtype=object)"
      ]
     },
     "execution_count": 91,
     "metadata": {},
     "output_type": "execute_result"
    }
   ],
   "source": [
    "out = np.hstack([iris_2d,volume])\n",
    "out[:4]"
   ]
  },
  {
   "cell_type": "markdown",
   "metadata": {},
   "source": [
    "# 42. 如何在numpy中进行概率抽样？\n",
    "\n",
    "难度等级：L3\n",
    "\n",
    "问题：随机抽鸢尾属植物的种类，使得刚毛的数量是云芝和维吉尼亚的两倍\n",
    "\n",
    "给定：\n",
    "\n",
    "```python\n",
    "# Import iris keeping the text column intact\n",
    "url = 'https://archive.ics.uci.edu/ml/machine-learning-databases/iris/iris.data'\n",
    "iris = np.genfromtxt(url, delimiter=',', dtype='object')\n",
    "```\n",
    "\n",
    "答案："
   ]
  },
  {
   "cell_type": "code",
   "execution_count": 92,
   "metadata": {},
   "outputs": [],
   "source": [
    "# Import iris keeping the text column intact\n",
    "url = 'https://archive.ics.uci.edu/ml/machine-learning-databases/iris/iris.data'\n",
    "iris = np.genfromtxt(url, delimiter=',', dtype='object')"
   ]
  },
  {
   "cell_type": "code",
   "execution_count": 93,
   "metadata": {
    "scrolled": true
   },
   "outputs": [],
   "source": [
    "# Solution\n",
    "# Get the species column\n",
    "species = iris[:, 4]"
   ]
  },
  {
   "cell_type": "code",
   "execution_count": 94,
   "metadata": {},
   "outputs": [],
   "source": [
    "# Approach 1: Generate Probabilistically\n",
    "np.random.seed(100)\n",
    "a = np.array(['Iris-setosa','Iris-versicolor','Iris-virginica'])\n",
    "species_out = np.random.choice(a,150,p=[0.5,0.25,0.25])\n",
    "# p.size = a.size\n",
    "# p是指每个条目的概率,第二个参数是choice的数量."
   ]
  },
  {
   "cell_type": "code",
   "execution_count": 95,
   "metadata": {},
   "outputs": [],
   "source": [
    "# Approach 2: Probablistic Sampling (preferred)\n",
    "np.random.seed(100)\n",
    "probs = np.r_[np.linspace(0,0.500,num=50),np.linspace(0.501,.750,num=50),np.linspace(.751,1.0,num=50)]\n",
    "index = np.searchsorted(probs,np.random.random(150))\n",
    "species_out = species[index]"
   ]
  },
  {
   "cell_type": "code",
   "execution_count": 96,
   "metadata": {},
   "outputs": [
    {
     "name": "stdout",
     "output_type": "stream",
     "text": [
      "(array([b'Iris-setosa', b'Iris-versicolor', b'Iris-virginica'],\n",
      "      dtype=object), array([77, 37, 36]))\n"
     ]
    }
   ],
   "source": [
    "np.random.seed(100)\n",
    "probs = np.r_[np.linspace(0, 0.500, num=50), np.linspace(0.501, .750, num=50), np.linspace(.751, 1.0, num=50)]\n",
    "index = np.searchsorted(probs, np.random.random(150))\n",
    "species_out = species[index]\n",
    "print(np.unique(species_out, return_counts=True))"
   ]
  },
  {
   "cell_type": "markdown",
   "metadata": {},
   "source": [
    "# 43. 如何在按另一个数组分组时获取数组的第二大值？\n",
    "\n",
    "难度等级：L2\n",
    "\n",
    "问题：第二长的物种setosa的价值是多少\n",
    "\n",
    "给定：\n",
    "\n",
    "```python\n",
    "\n",
    "# Input\n",
    "url = 'https://archive.ics.uci.edu/ml/machine-learning-databases/iris/iris.data'\n",
    "iris = np.genfromtxt(url, delimiter=',', dtype='object')\n",
    "names = ('sepallength', 'sepalwidth', 'petallength', 'petalwidth', 'species')\n",
    "```\n",
    "\n",
    "答案："
   ]
  },
  {
   "cell_type": "code",
   "execution_count": 97,
   "metadata": {},
   "outputs": [],
   "source": [
    "# Import iris keeping the text column intact\n",
    "url = 'https://archive.ics.uci.edu/ml/machine-learning-databases/iris/iris.data'\n",
    "iris = np.genfromtxt(url, delimiter=',', dtype='object')"
   ]
  },
  {
   "cell_type": "code",
   "execution_count": 98,
   "metadata": {},
   "outputs": [
    {
     "data": {
      "text/plain": [
       "array([1.4, 1.4, 1.3, 1.5, 1.4, 1.7, 1.4, 1.5, 1.4, 1.5, 1.5, 1.6, 1.4,\n",
       "       1.1, 1.2, 1.5, 1.3, 1.4, 1.7, 1.5, 1.7, 1.5, 1. , 1.7, 1.9, 1.6,\n",
       "       1.6, 1.5, 1.4, 1.6, 1.6, 1.5, 1.5, 1.4, 1.5, 1.2, 1.3, 1.5, 1.3,\n",
       "       1.5, 1.3, 1.3, 1.3, 1.6, 1.9, 1.4, 1.6, 1.4, 1.5, 1.4])"
      ]
     },
     "execution_count": 98,
     "metadata": {},
     "output_type": "execute_result"
    }
   ],
   "source": [
    "# Solution\n",
    "# Get the species and petal length columns\n",
    "petal_len_setosa = iris[iris[:, 4] == b'Iris-setosa', 2].astype('float')\n",
    "petal_len_setosa"
   ]
  },
  {
   "cell_type": "code",
   "execution_count": 99,
   "metadata": {},
   "outputs": [
    {
     "data": {
      "text/plain": [
       "1.7"
      ]
     },
     "execution_count": 99,
     "metadata": {},
     "output_type": "execute_result"
    }
   ],
   "source": [
    "np.unique(np.sort(petal_len_setosa))[-2]"
   ]
  },
  {
   "cell_type": "markdown",
   "metadata": {},
   "source": [
    "# 44. 如何按列对2D数组进行排序\n",
    "\n",
    "难度等级：L2\n",
    "\n",
    "问题：根据sepallength列对虹膜数据集进行排序。\n",
    "\n",
    "给定：\n",
    "\n",
    "```python\n",
    "url = 'https://archive.ics.uci.edu/ml/machine-learning-databases/iris/iris.data'\n",
    "iris = np.genfromtxt(url, delimiter=',', dtype='object')\n",
    "names = ('sepallength', 'sepalwidth', 'petallength', 'petalwidth', 'species')\n",
    "```\n",
    "\n",
    "答案："
   ]
  },
  {
   "cell_type": "code",
   "execution_count": 100,
   "metadata": {},
   "outputs": [
    {
     "name": "stdout",
     "output_type": "stream",
     "text": [
      "[[b'4.3' b'3.0' b'1.1' b'0.1' b'Iris-setosa']\n",
      " [b'4.4' b'3.2' b'1.3' b'0.2' b'Iris-setosa']\n",
      " [b'4.4' b'3.0' b'1.3' b'0.2' b'Iris-setosa']\n",
      " [b'4.4' b'2.9' b'1.4' b'0.2' b'Iris-setosa']\n",
      " [b'4.5' b'2.3' b'1.3' b'0.3' b'Iris-setosa']\n",
      " [b'4.6' b'3.6' b'1.0' b'0.2' b'Iris-setosa']\n",
      " [b'4.6' b'3.1' b'1.5' b'0.2' b'Iris-setosa']\n",
      " [b'4.6' b'3.4' b'1.4' b'0.3' b'Iris-setosa']\n",
      " [b'4.6' b'3.2' b'1.4' b'0.2' b'Iris-setosa']\n",
      " [b'4.7' b'3.2' b'1.3' b'0.2' b'Iris-setosa']\n",
      " [b'4.7' b'3.2' b'1.6' b'0.2' b'Iris-setosa']\n",
      " [b'4.8' b'3.0' b'1.4' b'0.1' b'Iris-setosa']\n",
      " [b'4.8' b'3.0' b'1.4' b'0.3' b'Iris-setosa']\n",
      " [b'4.8' b'3.4' b'1.9' b'0.2' b'Iris-setosa']\n",
      " [b'4.8' b'3.4' b'1.6' b'0.2' b'Iris-setosa']\n",
      " [b'4.8' b'3.1' b'1.6' b'0.2' b'Iris-setosa']\n",
      " [b'4.9' b'2.4' b'3.3' b'1.0' b'Iris-versicolor']\n",
      " [b'4.9' b'2.5' b'4.5' b'1.7' b'Iris-virginica']\n",
      " [b'4.9' b'3.1' b'1.5' b'0.1' b'Iris-setosa']\n",
      " [b'4.9' b'3.1' b'1.5' b'0.1' b'Iris-setosa']]\n"
     ]
    }
   ],
   "source": [
    "# Sort by column position 0: sepalLength\n",
    "print(iris[iris[:,0].argsort()][:20])"
   ]
  },
  {
   "cell_type": "markdown",
   "metadata": {},
   "source": [
    "# 45. 如何在numpy数组中找到最常见的值？\n",
    "\n",
    "难度等级：L1\n",
    "\n",
    "问题：在鸢尾属植物数据集中找到最常见的花瓣长度值（第3列）。\n",
    "\n",
    "给定：\n",
    "\n",
    "```python\n",
    "url = 'https://archive.ics.uci.edu/ml/machine-learning-databases/iris/iris.data'\n",
    "iris = np.genfromtxt(url, delimiter=',', dtype='object')\n",
    "names = ('sepallength', 'sepalwidth', 'petallength', 'petalwidth', 'species')\n",
    "```\n",
    "\n",
    "答案："
   ]
  },
  {
   "cell_type": "code",
   "execution_count": 101,
   "metadata": {},
   "outputs": [],
   "source": [
    "# **给定：**\n",
    "url = 'https://archive.ics.uci.edu/ml/machine-learning-databases/iris/iris.data'\n",
    "iris = np.genfromtxt(url, delimiter=',', dtype='object')"
   ]
  },
  {
   "cell_type": "code",
   "execution_count": 102,
   "metadata": {},
   "outputs": [],
   "source": [
    "#Solution"
   ]
  },
  {
   "cell_type": "code",
   "execution_count": 103,
   "metadata": {},
   "outputs": [
    {
     "name": "stdout",
     "output_type": "stream",
     "text": [
      "b'1.5'\n"
     ]
    }
   ],
   "source": [
    "vals,counts = np.unique(iris[:,2],return_counts=True)\n",
    "print(vals[np.argmax(counts)])"
   ]
  },
  {
   "cell_type": "markdown",
   "metadata": {},
   "source": [
    "# 46. 如何找到第一次出现的值大于给定值的位置？\n",
    "\n",
    "难度等级：L2\n",
    "\n",
    "问题：在虹膜数据集的petalwidth第4列中查找第一次出现的值大于1.0的位置。\n",
    "\n",
    "**给定：**\n",
    "\n",
    "```python\n",
    "url = 'https://archive.ics.uci.edu/ml/machine-learning-databases/iris/iris.data'\n",
    "iris = np.genfromtxt(url, delimiter=',', dtype='object')\n",
    "```\n",
    "\n",
    "答案："
   ]
  },
  {
   "cell_type": "code",
   "execution_count": 104,
   "metadata": {},
   "outputs": [],
   "source": [
    "# **给定：**\n",
    "url = 'https://archive.ics.uci.edu/ml/machine-learning-databases/iris/iris.data'\n",
    "iris = np.genfromtxt(url, delimiter=',', dtype='object')"
   ]
  },
  {
   "cell_type": "code",
   "execution_count": 105,
   "metadata": {},
   "outputs": [
    {
     "data": {
      "text/plain": [
       "array([50])"
      ]
     },
     "execution_count": 105,
     "metadata": {},
     "output_type": "execute_result"
    }
   ],
   "source": [
    "# Solution: (edit: changed argmax to argwhere. Thanks Rong!)\n",
    "np.argwhere(iris[:,3].astype(float) > 1.0)[0]\n",
    "# > 50"
   ]
  },
  {
   "cell_type": "markdown",
   "metadata": {},
   "source": [
    "# 47. 如何将大于给定值的所有值替换为给定的截止值？\n",
    "\n",
    "难度等级：L2\n",
    "\n",
    "问题：从数组a中，替换所有大于30到30和小于10到10的值。\n",
    "\n",
    "给定：\n",
    "\n",
    "```python\n",
    "np.random.seed(100)\n",
    "a = np.random.uniform(1,50, 20)\n",
    "```\n",
    "\n",
    "答案："
   ]
  },
  {
   "cell_type": "code",
   "execution_count": 106,
   "metadata": {},
   "outputs": [],
   "source": [
    "# Input\n",
    "np.random.seed(100)\n",
    "a = np.random.uniform(1,50, 20)"
   ]
  },
  {
   "cell_type": "code",
   "execution_count": 107,
   "metadata": {},
   "outputs": [
    {
     "data": {
      "text/plain": [
       "array([27.62684215, 14.64009987, 21.80136195, 42.39403048,  1.23122395,\n",
       "        6.95688692, 33.86670515, 41.466785  ,  7.69862289, 29.17957314,\n",
       "       44.67477576, 11.25090398, 10.08108276,  6.31046763, 11.76517714,\n",
       "       48.95256545, 40.77247431,  9.42510962, 40.99501269, 14.42961361])"
      ]
     },
     "execution_count": 107,
     "metadata": {},
     "output_type": "execute_result"
    }
   ],
   "source": [
    "a"
   ]
  },
  {
   "cell_type": "code",
   "execution_count": 108,
   "metadata": {
    "scrolled": true
   },
   "outputs": [
    {
     "data": {
      "text/plain": [
       "array([27.62684215, 14.64009987, 21.80136195, 30.        , 10.        ,\n",
       "       10.        , 30.        , 30.        , 10.        , 29.17957314,\n",
       "       30.        , 11.25090398, 10.08108276, 10.        , 11.76517714,\n",
       "       30.        , 30.        , 10.        , 30.        , 14.42961361])"
      ]
     },
     "execution_count": 108,
     "metadata": {},
     "output_type": "execute_result"
    }
   ],
   "source": [
    "# Solution 1: Using np.clip 除去噪声可用\n",
    "clip = np.clip(a, a_min=10,a_max=30)\n",
    "clip"
   ]
  },
  {
   "cell_type": "code",
   "execution_count": 109,
   "metadata": {},
   "outputs": [
    {
     "data": {
      "text/plain": [
       "array([27.62684215, 14.64009987, 21.80136195, 42.39403048,  1.23122395,\n",
       "        6.95688692, 33.86670515, 41.466785  ,  7.69862289, 29.17957314,\n",
       "       44.67477576, 11.25090398, 10.08108276,  6.31046763, 11.76517714,\n",
       "       48.95256545, 40.77247431,  9.42510962, 40.99501269, 14.42961361])"
      ]
     },
     "execution_count": 109,
     "metadata": {},
     "output_type": "execute_result"
    }
   ],
   "source": [
    "a"
   ]
  },
  {
   "cell_type": "code",
   "execution_count": 110,
   "metadata": {},
   "outputs": [
    {
     "name": "stdout",
     "output_type": "stream",
     "text": [
      "[27.62684215 14.64009987 21.80136195 30.         10.         10.\n",
      " 30.         30.         10.         29.17957314 30.         11.25090398\n",
      " 10.08108276 10.         11.76517714 30.         30.         10.\n",
      " 30.         14.42961361]\n"
     ]
    }
   ],
   "source": [
    "# Solution 2: Using np.where\n",
    "# where(condition,a,b)\n",
    "print(np.where(a < 10, 10, np.where(a > 30, 30, a)))\n",
    "# > [ 27.63  14.64  21.8   30.    10.    10.    30.    30.    10.    29.18  30.\n",
    "# >   11.25  10.08  10.    11.77  30.    30.    10.    30.    14.43]"
   ]
  },
  {
   "cell_type": "markdown",
   "metadata": {},
   "source": [
    "# 48. 如何从numpy数组中获取最大n值的位置？\n",
    "\n",
    "难度等级：L2\n",
    "\n",
    "问题：获取给定数组a中前5个最大值的位置。\n",
    "\n",
    "```python\n",
    "np.random.seed(100)\n",
    "a = np.random.uniform(1,50, 20)\n",
    "```\n",
    "\n",
    "答案："
   ]
  },
  {
   "cell_type": "code",
   "execution_count": 111,
   "metadata": {},
   "outputs": [],
   "source": [
    "# Input\n",
    "np.random.seed(100)\n",
    "a = np.random.uniform(1,50, 20)"
   ]
  },
  {
   "cell_type": "code",
   "execution_count": 112,
   "metadata": {},
   "outputs": [
    {
     "data": {
      "text/plain": [
       "array([40.99501269, 41.466785  , 42.39403048, 44.67477576, 48.95256545])"
      ]
     },
     "execution_count": 112,
     "metadata": {},
     "output_type": "execute_result"
    }
   ],
   "source": [
    "# Below methods will get you the values.\n",
    "# Method 1:\n",
    "a[a.argsort()][-5:]"
   ]
  },
  {
   "cell_type": "code",
   "execution_count": 113,
   "metadata": {},
   "outputs": [
    {
     "data": {
      "text/plain": [
       "array([40.99501269, 41.466785  , 42.39403048, 44.67477576, 48.95256545])"
      ]
     },
     "execution_count": 113,
     "metadata": {},
     "output_type": "execute_result"
    }
   ],
   "source": [
    "# Method 2:\n",
    "np.sort(a)[-5:]"
   ]
  },
  {
   "cell_type": "code",
   "execution_count": 114,
   "metadata": {},
   "outputs": [
    {
     "data": {
      "text/plain": [
       "array([40.99501269, 41.466785  , 42.39403048, 44.67477576, 48.95256545])"
      ]
     },
     "execution_count": 114,
     "metadata": {},
     "output_type": "execute_result"
    }
   ],
   "source": [
    "# Method 3:\n",
    "np.partition(a,kth=-5)[-5:]"
   ]
  },
  {
   "cell_type": "code",
   "execution_count": 115,
   "metadata": {},
   "outputs": [
    {
     "data": {
      "text/plain": [
       "array([48.95256545, 44.67477576, 42.39403048, 41.466785  , 40.99501269])"
      ]
     },
     "execution_count": 115,
     "metadata": {},
     "output_type": "execute_result"
    }
   ],
   "source": [
    "# Method 4:\n",
    "a[np.argpartition(-a,5)][:5]"
   ]
  },
  {
   "cell_type": "markdown",
   "metadata": {},
   "source": [
    "# 49. 如何计算数组中所有可能值的行数？ Todo ? 这是什么意思?\n",
    "\n",
    "难度等级：L4\n",
    "\n",
    "问题：按行计算唯一值的计数。\n",
    "\n",
    "给定：\n",
    "\n",
    "```python\n",
    "np.random.seed(100)\n",
    "arr = np.random.randint(1, 11, size=(6, 10))\n",
    "arr\n",
    "```\n",
    "\n",
    "```\n",
    "> array([[ 9,  9,  4,  8,  8,  1,  5,  3,  6,  3],\n",
    ">        [ 3,  3,  2,  1,  9,  5,  1, 10,  7,  3],\n",
    ">        [ 5,  2,  6,  4,  5,  5,  4,  8,  2,  2],\n",
    ">        [ 8,  8,  1,  3, 10, 10,  4,  3,  6,  9],\n",
    ">        [ 2,  1,  8,  7,  3,  1,  9,  3,  6,  2],\n",
    ">        [ 9,  2,  6,  5,  3,  9,  4,  6,  1, 10]])\n",
    "```\n",
    "\n",
    "# 期望的输出????：\n",
    "\n",
    "```\n",
    "> [[1, 0, 2, 1, 1, 1, 0, 2, 2, 0],\n",
    ">  [2, 1, 3, 0, 1, 0, 1, 0, 1, 1],\n",
    ">  [0, 3, 0, 2, 3, 1, 0, 1, 0, 0],\n",
    ">  [1, 0, 2, 1, 0, 1, 0, 2, 1, 2],\n",
    ">  [2, 2, 2, 0, 0, 1, 1, 1, 1, 0],\n",
    ">  [1, 1, 1, 1, 1, 2, 0, 0, 2, 1]]\n",
    "```\n",
    "\n",
    "输出包含10列，表示从1到10的数字。这些值是各行中数字的计数。\n",
    "例如，cell(0，2)的值为2，这意味着数字3在第一行中恰好出现了2次。\n",
    "\n",
    "答案："
   ]
  },
  {
   "cell_type": "code",
   "execution_count": 116,
   "metadata": {
    "scrolled": true
   },
   "outputs": [
    {
     "data": {
      "text/plain": [
       "array([[ 9,  9,  4,  8,  8,  1,  5,  3,  6,  3],\n",
       "       [ 3,  3,  2,  1,  9,  5,  1, 10,  7,  3],\n",
       "       [ 5,  2,  6,  4,  5,  5,  4,  8,  2,  2],\n",
       "       [ 8,  8,  1,  3, 10, 10,  4,  3,  6,  9],\n",
       "       [ 2,  1,  8,  7,  3,  1,  9,  3,  6,  2],\n",
       "       [ 9,  2,  6,  5,  3,  9,  4,  6,  1, 10]])"
      ]
     },
     "execution_count": 116,
     "metadata": {},
     "output_type": "execute_result"
    }
   ],
   "source": [
    "np.random.seed(100)\n",
    "arr2d = np.random.randint(1,11,size=(6, 10))\n",
    "arr2d\n",
    "# > array([[ 9,  9,  4,  8,  8,  1,  5,  3,  6,  3],\n",
    "# >        [ 3,  3,  2,  1,  9,  5,  1, 10,  7,  3],\n",
    "# >        [ 5,  2,  6,  4,  5,  5,  4,  8,  2,  2],\n",
    "# >        [ 8,  8,  1,  3, 10, 10,  4,  3,  6,  9],\n",
    "# >        [ 2,  1,  8,  7,  3,  1,  9,  3,  6,  2],\n",
    "# >        [ 9,  2,  6,  5,  3,  9,  4,  6,  1, 10]])"
   ]
  },
  {
   "cell_type": "code",
   "execution_count": 117,
   "metadata": {
    "scrolled": true
   },
   "outputs": [
    {
     "data": {
      "text/plain": [
       "[(array([1, 3, 4, 5, 6, 8, 9]), array([1, 2, 1, 1, 1, 2, 2])),\n",
       " (array([ 1,  2,  3,  5,  7,  9, 10]), array([2, 1, 3, 1, 1, 1, 1])),\n",
       " (array([2, 4, 5, 6, 8]), array([3, 2, 3, 1, 1])),\n",
       " (array([ 1,  3,  4,  6,  8,  9, 10]), array([1, 2, 1, 1, 2, 1, 2])),\n",
       " (array([1, 2, 3, 6, 7, 8, 9]), array([2, 2, 2, 1, 1, 1, 1])),\n",
       " (array([ 1,  2,  3,  4,  5,  6,  9, 10]), array([1, 1, 1, 1, 1, 2, 2, 1]))]"
      ]
     },
     "execution_count": 117,
     "metadata": {},
     "output_type": "execute_result"
    }
   ],
   "source": [
    "# Unique values and its counts row wise\n",
    "num_counts_array = [np.unique(row,return_counts=True) for row in arr2d]\n",
    "num_counts_array"
   ]
  },
  {
   "cell_type": "code",
   "execution_count": 118,
   "metadata": {},
   "outputs": [
    {
     "data": {
      "text/plain": [
       "[[0, 0, 0, 1, 1, 0, 0, 0, 0, 0, 0, 0, 1, 0, 0],\n",
       " [0, 1, 1, 0, 0, 0, 0, 0, 0, 0, 0, 0, 0, 0, 1],\n",
       " [0, 0, 0, 0, 0, 0, 0, 0, 0, 1, 0, 1, 0, 1, 0],\n",
       " [0, 0, 0, 0, 0, 0, 1, 0, 1, 0, 1, 0, 0, 0, 0],\n",
       " [1, 0, 0, 0, 0, 1, 0, 1, 0, 0, 0, 0, 0, 0, 0]]"
      ]
     },
     "execution_count": 118,
     "metadata": {},
     "output_type": "execute_result"
    }
   ],
   "source": [
    "# Solution\n",
    "def counts_of_all_values_rowwise(arr2d):\n",
    "    # Unique values and its counts row wise\n",
    "    num_counts_array = [np.unique(row, return_counts=True) for row in arr2d]\n",
    "\n",
    "    # Counts of all values row wise\n",
    "    return([[int(b[a==i]) if i in a else 0 for i in np.unique(arr2d)] for a, b in num_counts_array])\n",
    "\n",
    "# Print\n",
    "counts_of_all_values_rowwise(arr)"
   ]
  },
  {
   "cell_type": "code",
   "execution_count": 119,
   "metadata": {},
   "outputs": [
    {
     "name": "stdout",
     "output_type": "stream",
     "text": [
      "[' ' 'a' 'b' 'c' 'd' 'e' 'h' 'i' 'j' 'l' 'm' 'n' 'o' 'r' 't' 'y']\n"
     ]
    }
   ],
   "source": [
    "# Example 2:\n",
    "arr = np.array([np.array(list('bill clinton')), \n",
    "                np.array(list('narendramodi')), \n",
    "                np.array(list('jjayalalitha'))])\n",
    "print(np.unique(arr))\n",
    "#counts_of_all_value_rowwise(arr)\n",
    "\n",
    "# > [' ' 'a' 'b' 'c' 'd' 'e' 'h' 'i' 'j' 'l' 'm' 'n' 'o' 'r' 't' 'y']\n",
    "# > [[1, 0, 1, 1, 0, 0, 0, 2, 0, 3, 0, 2, 1, 0, 1, 0],\n",
    "# >  [0, 2, 0, 0, 2, 1, 0, 1, 0, 0, 1, 2, 1, 2, 0, 0],\n",
    "# >  [0, 4, 0, 0, 0, 0, 1, 1, 2, 2, 0, 0, 0, 0, 1, 1]]"
   ]
  },
  {
   "cell_type": "markdown",
   "metadata": {},
   "source": [
    "# 50. 如何将数组转换为平面一维数组？\n",
    "\n",
    "难度等级：L2\n",
    "\n",
    "问题：将array_of_arrays转换为扁平线性1d数组。\n",
    "\n",
    "给定：\n",
    "\n",
    "```python\n",
    "arr1 = np.arange(3)\n",
    "arr2 = np.arange(3,7)\n",
    "arr3 = np.arange(7,10)\n",
    "\n",
    "array_of_arrays = np.array([arr1, arr2, arr3])\n",
    "array_of_arrays\n",
    "# > array([array([0, 1, 2]), array([3, 4, 5, 6]), array([7, 8, 9])], dtype=object)\n",
    "```\n",
    "\n",
    "期望的输出：\n",
    "\n",
    "```python\n",
    "# > array([0, 1, 2, 3, 4, 5, 6, 7, 8, 9])\n",
    "```\n",
    "\n",
    "答案："
   ]
  },
  {
   "cell_type": "code",
   "execution_count": 120,
   "metadata": {},
   "outputs": [
    {
     "name": "stdout",
     "output_type": "stream",
     "text": [
      "array_of_arrays:  [array([0, 1, 2]) array([3, 4, 5, 6]) array([7, 8, 9])]\n"
     ]
    }
   ],
   "source": [
    " # **给定：**\n",
    "arr1 = np.arange(3)\n",
    "arr2 = np.arange(3,7)\n",
    "arr3 = np.arange(7,10)\n",
    "\n",
    "array_of_arrays = np.array([arr1, arr2, arr3])\n",
    "print('array_of_arrays: ', array_of_arrays)"
   ]
  },
  {
   "cell_type": "code",
   "execution_count": 121,
   "metadata": {},
   "outputs": [
    {
     "data": {
      "text/plain": [
       "array([array([0, 1, 2]), array([3, 4, 5, 6]), array([7, 8, 9])],\n",
       "      dtype=object)"
      ]
     },
     "execution_count": 121,
     "metadata": {},
     "output_type": "execute_result"
    }
   ],
   "source": [
    "array_of_arrays"
   ]
  },
  {
   "cell_type": "code",
   "execution_count": 122,
   "metadata": {},
   "outputs": [
    {
     "data": {
      "text/plain": [
       "array([0, 1, 2, 3, 4, 5, 6, 7, 8, 9])"
      ]
     },
     "execution_count": 122,
     "metadata": {},
     "output_type": "execute_result"
    }
   ],
   "source": [
    "# Solution 1\n",
    "# 这个原来是从前往后解析的.\n",
    "arr_1d = np.array([a for arr in array_of_arrays for a in arr])\n",
    "arr_1d"
   ]
  },
  {
   "cell_type": "code",
   "execution_count": 123,
   "metadata": {},
   "outputs": [
    {
     "data": {
      "text/plain": [
       "array([array([0, 1, 2]), array([3, 4, 5, 6]), array([7, 8, 9])],\n",
       "      dtype=object)"
      ]
     },
     "execution_count": 123,
     "metadata": {},
     "output_type": "execute_result"
    }
   ],
   "source": [
    "array_of_arrays"
   ]
  },
  {
   "cell_type": "code",
   "execution_count": 124,
   "metadata": {},
   "outputs": [
    {
     "data": {
      "text/plain": [
       "array([0, 1, 2, 3, 4, 5, 6, 7, 8, 9])"
      ]
     },
     "execution_count": 124,
     "metadata": {},
     "output_type": "execute_result"
    }
   ],
   "source": [
    "np.array([a for arr in array_of_arrays for a in arr])"
   ]
  },
  {
   "cell_type": "code",
   "execution_count": 125,
   "metadata": {},
   "outputs": [
    {
     "data": {
      "text/plain": [
       "(3,)"
      ]
     },
     "execution_count": 125,
     "metadata": {},
     "output_type": "execute_result"
    }
   ],
   "source": [
    "array_of_arrays.shape"
   ]
  },
  {
   "cell_type": "code",
   "execution_count": 126,
   "metadata": {},
   "outputs": [
    {
     "data": {
      "text/plain": [
       "array([0, 1, 2, 3, 4, 5, 6, 7, 8, 9])"
      ]
     },
     "execution_count": 126,
     "metadata": {},
     "output_type": "execute_result"
    }
   ],
   "source": [
    "# Solution 2 : \n",
    "arr_1d = np.concatenate(array_of_arrays)\n",
    "arr_1d"
   ]
  },
  {
   "cell_type": "code",
   "execution_count": 127,
   "metadata": {},
   "outputs": [
    {
     "data": {
      "text/plain": [
       "array([array([0, 1, 2]), array([3, 4, 5, 6]), array([7, 8, 9])],\n",
       "      dtype=object)"
      ]
     },
     "execution_count": 127,
     "metadata": {},
     "output_type": "execute_result"
    }
   ],
   "source": [
    "array_of_arrays.ravel()"
   ]
  },
  {
   "cell_type": "markdown",
   "metadata": {},
   "source": [
    "# 51. 如何在numpy中为数组生成单热编码？\n",
    "\n",
    "难度等级：L4\n",
    "\n",
    "问题：计算一次性编码(数组中每个唯一值的虚拟二进制变量)\n",
    "\n",
    "给定：\n",
    "\n",
    "```python\n",
    "np.random.seed(101) \n",
    "arr = np.random.randint(1,4, size=6)\n",
    "arr\n",
    "# > array([2, 3, 2, 2, 2, 1])\n",
    "```\n",
    "\n",
    "期望输出：\n",
    "\n",
    "```python\n",
    "# > array([[ 0.,  1.,  0.],\n",
    "# >        [ 0.,  0.,  1.],\n",
    "# >        [ 0.,  1.,  0.],\n",
    "# >        [ 0.,  1.,  0.],\n",
    "# >        [ 0.,  1.,  0.],\n",
    "# >        [ 1.,  0.,  0.]])\n",
    "```\n",
    "\n",
    "答案："
   ]
  },
  {
   "cell_type": "code",
   "execution_count": 128,
   "metadata": {},
   "outputs": [
    {
     "data": {
      "text/plain": [
       "array([2, 3, 2, 2, 2, 1])"
      ]
     },
     "execution_count": 128,
     "metadata": {},
     "output_type": "execute_result"
    }
   ],
   "source": [
    "# **给定：**\n",
    "np.random.seed(101) \n",
    "arr = np.random.randint(1,4, size=6)\n",
    "arr\n",
    "# > array([2, 3, 2, 2, 2, 1])"
   ]
  },
  {
   "cell_type": "code",
   "execution_count": 129,
   "metadata": {},
   "outputs": [
    {
     "data": {
      "text/plain": [
       "array([1, 2, 3])"
      ]
     },
     "execution_count": 129,
     "metadata": {},
     "output_type": "execute_result"
    }
   ],
   "source": [
    "uniqs = np.unique(arr)\n",
    "uniqs"
   ]
  },
  {
   "cell_type": "code",
   "execution_count": 130,
   "metadata": {},
   "outputs": [
    {
     "data": {
      "text/plain": [
       "6"
      ]
     },
     "execution_count": 130,
     "metadata": {},
     "output_type": "execute_result"
    }
   ],
   "source": [
    "arr.shape[0]"
   ]
  },
  {
   "cell_type": "code",
   "execution_count": 131,
   "metadata": {},
   "outputs": [
    {
     "data": {
      "text/plain": [
       "3"
      ]
     },
     "execution_count": 131,
     "metadata": {},
     "output_type": "execute_result"
    }
   ],
   "source": [
    "uniqs.shape[0]"
   ]
  },
  {
   "cell_type": "code",
   "execution_count": 132,
   "metadata": {},
   "outputs": [
    {
     "name": "stdout",
     "output_type": "stream",
     "text": [
      "i:  0  k :  2\n",
      "i:  1  k :  3\n",
      "i:  2  k :  2\n",
      "i:  3  k :  2\n",
      "i:  4  k :  2\n",
      "i:  5  k :  1\n"
     ]
    }
   ],
   "source": [
    "for i, k in enumerate(arr):\n",
    "    print(\"i: \",i,\" k : \",k)"
   ]
  },
  {
   "cell_type": "code",
   "execution_count": 133,
   "metadata": {},
   "outputs": [
    {
     "data": {
      "text/plain": [
       "array([[0., 1., 0.],\n",
       "       [0., 0., 1.],\n",
       "       [0., 1., 0.],\n",
       "       [0., 1., 0.],\n",
       "       [0., 1., 0.],\n",
       "       [1., 0., 0.]])"
      ]
     },
     "execution_count": 133,
     "metadata": {},
     "output_type": "execute_result"
    }
   ],
   "source": [
    "# Solution:\n",
    "def one_hot_encodings(arr):\n",
    "    uniqs = np.unique(arr)\n",
    "    out = np.zeros((arr.shape[0],uniqs.shape[0]))\n",
    "    for i, k in enumerate(arr):\n",
    "        out[i,k-1]=1\n",
    "    return out\n",
    "one_hot_encodings(arr)"
   ]
  },
  {
   "cell_type": "code",
   "execution_count": 134,
   "metadata": {},
   "outputs": [
    {
     "data": {
      "text/plain": [
       "array([1, 2, 3])"
      ]
     },
     "execution_count": 134,
     "metadata": {},
     "output_type": "execute_result"
    }
   ],
   "source": [
    "np.unique(arr)"
   ]
  },
  {
   "cell_type": "code",
   "execution_count": 135,
   "metadata": {},
   "outputs": [
    {
     "data": {
      "text/plain": [
       "array([[2],\n",
       "       [3],\n",
       "       [2],\n",
       "       [2],\n",
       "       [2],\n",
       "       [1]])"
      ]
     },
     "execution_count": 135,
     "metadata": {},
     "output_type": "execute_result"
    }
   ],
   "source": [
    "arr[:,None]"
   ]
  },
  {
   "cell_type": "code",
   "execution_count": 136,
   "metadata": {},
   "outputs": [
    {
     "data": {
      "text/plain": [
       "array([2, 3, 2, 2, 2, 1])"
      ]
     },
     "execution_count": 136,
     "metadata": {},
     "output_type": "execute_result"
    }
   ],
   "source": [
    "arr"
   ]
  },
  {
   "cell_type": "code",
   "execution_count": 137,
   "metadata": {},
   "outputs": [
    {
     "data": {
      "text/plain": [
       "array([[0, 1, 0],\n",
       "       [0, 0, 1],\n",
       "       [0, 1, 0],\n",
       "       [0, 1, 0],\n",
       "       [0, 1, 0],\n",
       "       [1, 0, 0]], dtype=int8)"
      ]
     },
     "execution_count": 137,
     "metadata": {},
     "output_type": "execute_result"
    }
   ],
   "source": [
    "(arr[:,None] == np.unique(arr)).view(np.int8)"
   ]
  },
  {
   "cell_type": "code",
   "execution_count": 138,
   "metadata": {
    "scrolled": true
   },
   "outputs": [
    {
     "data": {
      "text/plain": [
       "array([[0, 1, 0],\n",
       "       [0, 0, 1],\n",
       "       [0, 1, 0],\n",
       "       [0, 1, 0],\n",
       "       [0, 1, 0],\n",
       "       [1, 0, 0]], dtype=int8)"
      ]
     },
     "execution_count": 138,
     "metadata": {},
     "output_type": "execute_result"
    }
   ],
   "source": [
    "# Method 2:\n",
    "(arr[:, None] == np.unique(arr)).view(np.int8)"
   ]
  },
  {
   "cell_type": "markdown",
   "metadata": {},
   "source": [
    "# 52. 如何创建按分类变量分组的行号？\n",
    "\n",
    "难度等级：L3\n",
    "\n",
    "问题：创建按分类变量分组的行号。使用以下来自鸢尾属植物物种的样本作为输入。\n",
    "\n",
    "给定：\n",
    "\n",
    "``` python\n",
    "url = 'https://archive.ics.uci.edu/ml/machine-learning-databases/iris/iris.data'\n",
    "species = np.genfromtxt(url, delimiter=',', dtype='str', usecols=4)\n",
    "species_small = np.sort(np.random.choice(species, size=20))\n",
    "species_small\n",
    "# > array(['Iris-setosa', 'Iris-setosa', 'Iris-setosa', 'Iris-setosa',\n",
    "# >        'Iris-setosa', 'Iris-setosa', 'Iris-versicolor', 'Iris-versicolor',\n",
    "# >        'Iris-versicolor', 'Iris-versicolor', 'Iris-versicolor',\n",
    "# >        'Iris-versicolor', 'Iris-virginica', 'Iris-virginica',\n",
    "# >        'Iris-virginica', 'Iris-virginica', 'Iris-virginica',\n",
    "# >        'Iris-virginica', 'Iris-virginica', 'Iris-virginica'],\n",
    "# >       dtype='<U15')\n",
    "```\n",
    "\n",
    "期望的输出：\n",
    "\n",
    "```python\n",
    "# > [0, 1, 2, 3, 4, 5, 0, 1, 2, 3, 4, 5, 0, 1, 2, 3, 4, 5, 6, 7]\n",
    "```\n",
    "\n",
    "答案："
   ]
  },
  {
   "cell_type": "code",
   "execution_count": 139,
   "metadata": {},
   "outputs": [
    {
     "data": {
      "text/plain": [
       "array(['Iris-setosa', 'Iris-setosa', 'Iris-setosa', 'Iris-setosa',\n",
       "       'Iris-setosa', 'Iris-versicolor', 'Iris-versicolor',\n",
       "       'Iris-versicolor', 'Iris-versicolor', 'Iris-versicolor',\n",
       "       'Iris-versicolor', 'Iris-virginica', 'Iris-virginica',\n",
       "       'Iris-virginica', 'Iris-virginica', 'Iris-virginica',\n",
       "       'Iris-virginica', 'Iris-virginica', 'Iris-virginica',\n",
       "       'Iris-virginica'], dtype='<U15')"
      ]
     },
     "execution_count": 139,
     "metadata": {},
     "output_type": "execute_result"
    }
   ],
   "source": [
    "# **给定：**\n",
    "url = 'https://archive.ics.uci.edu/ml/machine-learning-databases/iris/iris.data'\n",
    "species = np.genfromtxt(url, delimiter=',', dtype='str', usecols=4)\n",
    "species_small = np.sort(np.random.choice(species, size=20))\n",
    "species_small\n",
    "# > array(['Iris-setosa', 'Iris-setosa', 'Iris-setosa', 'Iris-setosa',\n",
    "# >        'Iris-setosa', 'Iris-versicolor', 'Iris-versicolor',\n",
    "# >        'Iris-versicolor', 'Iris-versicolor', 'Iris-versicolor',\n",
    "# >        'Iris-versicolor', 'Iris-versicolor', 'Iris-versicolor',\n",
    "# >        'Iris-versicolor', 'Iris-virginica', 'Iris-virginica',\n",
    "# >        'Iris-virginica', 'Iris-virginica', 'Iris-virginica',\n",
    "# >        'Iris-virginica'],\n",
    "# >       dtype='<U15')"
   ]
  },
  {
   "cell_type": "code",
   "execution_count": 140,
   "metadata": {},
   "outputs": [
    {
     "name": "stdout",
     "output_type": "stream",
     "text": [
      "Iris-setosa\n",
      "Iris-versicolor\n",
      "Iris-virginica\n"
     ]
    }
   ],
   "source": [
    "for val in np.unique(species_small):\n",
    "    print(val)"
   ]
  },
  {
   "cell_type": "code",
   "execution_count": 141,
   "metadata": {},
   "outputs": [
    {
     "name": "stdout",
     "output_type": "stream",
     "text": [
      "unique: Iris-setosa\n",
      "[ True  True  True  True  True False False False False False False False\n",
      " False False False False False False False False]\n",
      "i :  0  grp :  Iris-setosa\n",
      "i :  1  grp :  Iris-setosa\n",
      "i :  2  grp :  Iris-setosa\n",
      "i :  3  grp :  Iris-setosa\n",
      "i :  4  grp :  Iris-setosa\n",
      "unique: Iris-versicolor\n",
      "[False False False False False  True  True  True  True  True  True False\n",
      " False False False False False False False False]\n",
      "i :  0  grp :  Iris-versicolor\n",
      "i :  1  grp :  Iris-versicolor\n",
      "i :  2  grp :  Iris-versicolor\n",
      "i :  3  grp :  Iris-versicolor\n",
      "i :  4  grp :  Iris-versicolor\n",
      "i :  5  grp :  Iris-versicolor\n",
      "unique: Iris-virginica\n",
      "[False False False False False False False False False False False  True\n",
      "  True  True  True  True  True  True  True  True]\n",
      "i :  0  grp :  Iris-virginica\n",
      "i :  1  grp :  Iris-virginica\n",
      "i :  2  grp :  Iris-virginica\n",
      "i :  3  grp :  Iris-virginica\n",
      "i :  4  grp :  Iris-virginica\n",
      "i :  5  grp :  Iris-virginica\n",
      "i :  6  grp :  Iris-virginica\n",
      "i :  7  grp :  Iris-virginica\n",
      "i :  8  grp :  Iris-virginica\n",
      "[0, 1, 2, 3, 4, 0, 1, 2, 3, 4, 5, 0, 1, 2, 3, 4, 5, 6, 7, 8]\n"
     ]
    }
   ],
   "source": [
    "iss = []\n",
    "for val in np.unique(species_small):\n",
    "    print(\"unique:\",val)\n",
    "    print(species_small==val)\n",
    "    for i, grp in enumerate(species_small[species_small==val]):\n",
    "        print(\"i : \", i, \" grp : \", grp)\n",
    "        iss.append(i)\n",
    "print(iss)"
   ]
  },
  {
   "cell_type": "code",
   "execution_count": 142,
   "metadata": {
    "scrolled": true
   },
   "outputs": [
    {
     "name": "stdout",
     "output_type": "stream",
     "text": [
      "[0, 1, 2, 3, 4, 0, 1, 2, 3, 4, 5, 0, 1, 2, 3, 4, 5, 6, 7, 8]\n"
     ]
    }
   ],
   "source": [
    "print([i for val in np.unique(species_small) for i, grp in enumerate(species_small[species_small==val])])"
   ]
  },
  {
   "cell_type": "markdown",
   "metadata": {},
   "source": [
    "# 53. 如何根据给定的分类变量创建组ID？\n",
    "\n",
    "难度等级：L4\n",
    "\n",
    "问题：根据给定的分类变量创建组ID。使用以下来自鸢尾属植物物种的样本作为输入。\n",
    "\n",
    "给定：\n",
    "\n",
    "``` python\n",
    "url = 'https://archive.ics.uci.edu/ml/machine-learning-databases/iris/iris.data'\n",
    "species = np.genfromtxt(url, delimiter=',', dtype='str', usecols=4)\n",
    "species_small = np.sort(np.random.choice(species, size=20))\n",
    "species_small\n",
    "# > array(['Iris-setosa', 'Iris-setosa', 'Iris-setosa', 'Iris-setosa',\n",
    "# >        'Iris-setosa', 'Iris-setosa', 'Iris-versicolor', 'Iris-versicolor',\n",
    "# >        'Iris-versicolor', 'Iris-versicolor', 'Iris-versicolor',\n",
    "# >        'Iris-versicolor', 'Iris-virginica', 'Iris-virginica',\n",
    "# >        'Iris-virginica', 'Iris-virginica', 'Iris-virginica',\n",
    "# >        'Iris-virginica', 'Iris-virginica', 'Iris-virginica'],\n",
    "# >       dtype='<U15')\n",
    "```\n",
    "\n",
    "期望的输出：\n",
    "\n",
    "```python\n",
    "# > [0, 0, 0, 0, 0, 1, 1, 1, 1, 1, 1, 1, 1, 1, 2, 2, 2, 2, 2, 2]\n",
    "```\n",
    "答案："
   ]
  },
  {
   "cell_type": "code",
   "execution_count": 143,
   "metadata": {
    "scrolled": true
   },
   "outputs": [
    {
     "data": {
      "text/plain": [
       "array(['Iris-setosa', 'Iris-setosa', 'Iris-setosa', 'Iris-setosa',\n",
       "       'Iris-setosa', 'Iris-versicolor', 'Iris-versicolor',\n",
       "       'Iris-versicolor', 'Iris-versicolor', 'Iris-versicolor',\n",
       "       'Iris-versicolor', 'Iris-versicolor', 'Iris-versicolor',\n",
       "       'Iris-versicolor', 'Iris-virginica', 'Iris-virginica',\n",
       "       'Iris-virginica', 'Iris-virginica', 'Iris-virginica',\n",
       "       'Iris-virginica'], dtype='<U15')"
      ]
     },
     "execution_count": 143,
     "metadata": {},
     "output_type": "execute_result"
    }
   ],
   "source": [
    "# **给定：**\n",
    "url = 'https://archive.ics.uci.edu/ml/machine-learning-databases/iris/iris.data'\n",
    "species = np.genfromtxt(url, delimiter=',', dtype='str', usecols=4)\n",
    "np.random.seed(100)\n",
    "species_small = np.sort(np.random.choice(species, size=20))\n",
    "species_small\n",
    "# > array(['Iris-setosa', 'Iris-setosa', 'Iris-setosa', 'Iris-setosa',\n",
    "# >        'Iris-setosa', 'Iris-versicolor', 'Iris-versicolor',\n",
    "# >        'Iris-versicolor', 'Iris-versicolor', 'Iris-versicolor',\n",
    "# >        'Iris-versicolor', 'Iris-versicolor', 'Iris-versicolor',\n",
    "# >        'Iris-versicolor', 'Iris-virginica', 'Iris-virginica',\n",
    "# >        'Iris-virginica', 'Iris-virginica', 'Iris-virginica',\n",
    "# >        'Iris-virginica'],\n",
    "# >       dtype='<U15')"
   ]
  },
  {
   "cell_type": "code",
   "execution_count": 144,
   "metadata": {},
   "outputs": [
    {
     "data": {
      "text/plain": [
       "[0, 0, 0, 0, 0, 1, 1, 1, 1, 1, 1, 1, 1, 1, 2, 2, 2, 2, 2, 2]"
      ]
     },
     "execution_count": 144,
     "metadata": {},
     "output_type": "execute_result"
    }
   ],
   "source": [
    "output = []\n",
    "uniqs = np.unique(species_small)\n",
    "for val in uniqs:\n",
    "    for s in species_small[species_small==val]:\n",
    "        groupid = np.argwhere(uniqs == s)[0][0]\n",
    "        output.append(groupid)\n",
    "output"
   ]
  },
  {
   "cell_type": "code",
   "execution_count": 145,
   "metadata": {},
   "outputs": [
    {
     "data": {
      "text/plain": [
       "[0, 0, 0, 0, 0, 1, 1, 1, 1, 1, 1, 1, 1, 1, 2, 2, 2, 2, 2, 2]"
      ]
     },
     "execution_count": 145,
     "metadata": {},
     "output_type": "execute_result"
    }
   ],
   "source": [
    "[np.argwhere(np.unique(species_small) == s)[0][0] for val in np.unique(species_small) for s in species_small[val == species_small] ]"
   ]
  },
  {
   "cell_type": "markdown",
   "metadata": {},
   "source": [
    "# 54. 如何使用numpy对数组中的项进行排名？\n",
    "\n",
    "难度等级：L2\n",
    "\n",
    "问题：为给定的数字数组a创建排名。\n",
    "\n",
    "给定：\n",
    "\n",
    "```python\n",
    "np.random.seed(10)\n",
    "a = np.random.randint(20, size=10)\n",
    "print(a)\n",
    "# > [ 9  4 15  0 17 16 17  8  9  0]\n",
    "```\n",
    "\n",
    "期望输出：\n",
    "\n",
    "```python\n",
    "[4 2 6 0 8 7 9 3 5 1]\n",
    "```\n",
    "\n",
    "答案："
   ]
  },
  {
   "cell_type": "code",
   "execution_count": 146,
   "metadata": {},
   "outputs": [
    {
     "data": {
      "text/plain": [
       "array([ 9,  4, 15,  0, 17, 16, 17,  8,  9,  0])"
      ]
     },
     "execution_count": 146,
     "metadata": {},
     "output_type": "execute_result"
    }
   ],
   "source": [
    "np.random.seed(10)\n",
    "a = np.random.randint(20, size=10)\n",
    "a"
   ]
  },
  {
   "cell_type": "code",
   "execution_count": 147,
   "metadata": {},
   "outputs": [
    {
     "name": "stdout",
     "output_type": "stream",
     "text": [
      "[ 0  0  4  8  9  9 15 16 17 17]\n"
     ]
    }
   ],
   "source": [
    "print(np.sort(a))"
   ]
  },
  {
   "cell_type": "code",
   "execution_count": 148,
   "metadata": {},
   "outputs": [
    {
     "data": {
      "text/plain": [
       "array([3, 9, 1, 7, 0, 8, 2, 5, 4, 6])"
      ]
     },
     "execution_count": 148,
     "metadata": {},
     "output_type": "execute_result"
    }
   ],
   "source": [
    "a.argsort() # a[a.argsort] = a.sort()"
   ]
  },
  {
   "cell_type": "code",
   "execution_count": 149,
   "metadata": {},
   "outputs": [
    {
     "data": {
      "text/plain": [
       "array([4, 2, 6, 0, 8, 7, 9, 3, 5, 1])"
      ]
     },
     "execution_count": 149,
     "metadata": {},
     "output_type": "execute_result"
    }
   ],
   "source": [
    "a.argsort().argsort() # "
   ]
  },
  {
   "cell_type": "markdown",
   "metadata": {},
   "source": [
    "# 55. 如何使用numpy对多维数组中的项进行排名？\n",
    "\n",
    "难度等级：L3\n",
    "\n",
    "问题：创建与给定数字数组a相同形状的排名数组。\n",
    "\n",
    "给定：\n",
    "\n",
    "```python\n",
    "np.random.seed(10)\n",
    "a = np.random.randint(20, size=[2,5])\n",
    "print(a)\n",
    "# > [[ 9  4 15  0 17]\n",
    "# >  [16 17  8  9  0]]\n",
    "```\n",
    "\n",
    "期望输出：\n",
    "\n",
    "```python\n",
    "# > [[4 2 6 0 8]\n",
    "# >  [7 9 3 5 1]]\n",
    "```\n",
    "\n",
    "答案："
   ]
  },
  {
   "cell_type": "code",
   "execution_count": 150,
   "metadata": {},
   "outputs": [
    {
     "name": "stdout",
     "output_type": "stream",
     "text": [
      "[[ 9  4 15  0 17]\n",
      " [16 17  8  9  0]]\n"
     ]
    }
   ],
   "source": [
    "# **给定：**\n",
    "np.random.seed(10)\n",
    "a = np.random.randint(20, size=[2,5])\n",
    "print(a)\n"
   ]
  },
  {
   "cell_type": "code",
   "execution_count": 151,
   "metadata": {},
   "outputs": [
    {
     "data": {
      "text/plain": [
       "array([[4, 2, 6, 0, 8],\n",
       "       [7, 9, 3, 5, 1]])"
      ]
     },
     "execution_count": 151,
     "metadata": {},
     "output_type": "execute_result"
    }
   ],
   "source": [
    "a.ravel().argsort().argsort().reshape(a.shape)"
   ]
  },
  {
   "cell_type": "markdown",
   "metadata": {},
   "source": [
    "# 56. 如何在二维numpy数组的每一行中找到最大值？\n",
    "\n",
    "难度等级：L2\n",
    "\n",
    "问题：计算给定数组中每行的最大值。\n",
    "\n",
    "给定：\n",
    "\n",
    "```python\n",
    "np.random.seed(100)\n",
    "a = np.random.randint(1,10, [5,3])\n",
    "a\n",
    "# > array([[9, 9, 4],\n",
    "# >        [8, 8, 1],\n",
    "# >        [5, 3, 6],\n",
    "# >        [3, 3, 3],\n",
    "# >        [2, 1, 9]])\n",
    "```\n",
    "\n",
    "答案："
   ]
  },
  {
   "cell_type": "code",
   "execution_count": 152,
   "metadata": {},
   "outputs": [
    {
     "data": {
      "text/plain": [
       "array([[9, 9, 4],\n",
       "       [8, 8, 1],\n",
       "       [5, 3, 6],\n",
       "       [3, 3, 3],\n",
       "       [2, 1, 9]])"
      ]
     },
     "execution_count": 152,
     "metadata": {},
     "output_type": "execute_result"
    }
   ],
   "source": [
    "# Input\n",
    "np.random.seed(100)\n",
    "a = np.random.randint(1,10, [5,3])\n",
    "a"
   ]
  },
  {
   "cell_type": "code",
   "execution_count": 153,
   "metadata": {},
   "outputs": [
    {
     "data": {
      "text/plain": [
       "array([9, 8, 6, 3, 9])"
      ]
     },
     "execution_count": 153,
     "metadata": {},
     "output_type": "execute_result"
    }
   ],
   "source": [
    "# Solution1 \n",
    "np.amax(a,axis=1)"
   ]
  },
  {
   "cell_type": "code",
   "execution_count": 154,
   "metadata": {},
   "outputs": [
    {
     "data": {
      "text/plain": [
       "array([9, 8, 6, 3, 9])"
      ]
     },
     "execution_count": 154,
     "metadata": {},
     "output_type": "execute_result"
    }
   ],
   "source": [
    "# Solution2\n",
    "np.apply_along_axis(np.max,arr=a,axis=1)"
   ]
  },
  {
   "cell_type": "markdown",
   "metadata": {},
   "source": [
    "# 57. 如何计算二维numpy数组每行的最小值？ ( 怀疑翻译有问题)\n",
    "\n",
    "难度等级：L3\n",
    "\n",
    "问题：为给定的二维numpy数组计算每行的最小值。\n",
    "\n",
    "给定：\n",
    "\n",
    "```python\n",
    "np.random.seed(100)\n",
    "a = np.random.randint(1,10, [5,3])\n",
    "a\n",
    "# > array([[9, 9, 4],\n",
    "# >        [8, 8, 1],\n",
    "# >        [5, 3, 6],\n",
    "# >        [3, 3, 3],\n",
    "# >        [2, 1, 9]])\n",
    "```\n",
    "\n",
    "答案："
   ]
  },
  {
   "cell_type": "code",
   "execution_count": 155,
   "metadata": {},
   "outputs": [
    {
     "data": {
      "text/plain": [
       "array([[9, 9, 4],\n",
       "       [8, 8, 1],\n",
       "       [5, 3, 6],\n",
       "       [3, 3, 3],\n",
       "       [2, 1, 9]])"
      ]
     },
     "execution_count": 155,
     "metadata": {},
     "output_type": "execute_result"
    }
   ],
   "source": [
    "# Input\n",
    "np.random.seed(100)\n",
    "a = np.random.randint(1,10, [5,3])\n",
    "a"
   ]
  },
  {
   "cell_type": "code",
   "execution_count": 156,
   "metadata": {},
   "outputs": [
    {
     "data": {
      "text/plain": [
       "array([0.44444444, 0.125     , 0.5       , 1.        , 0.11111111])"
      ]
     },
     "execution_count": 156,
     "metadata": {},
     "output_type": "execute_result"
    }
   ],
   "source": [
    "np.apply_along_axis(lambda x :np.min(x)/np.max(x),arr=a,axis=1)"
   ]
  },
  {
   "cell_type": "markdown",
   "metadata": {},
   "source": [
    "# 58. 如何在numpy数组中找到重复的记录？\n",
    "\n",
    "难度等级：L3\n",
    "\n",
    "问题：在给定的numpy数组中找到重复的条目(第二次出现以后)，并将它们标记为True。第一次出现应该是False的。\n",
    "\n",
    "给定：\n",
    "\n",
    "```python\n",
    "# Input\n",
    "np.random.seed(100)\n",
    "a = np.random.randint(0, 5, 10)\n",
    "print('Array: ', a)\n",
    "# > Array: [0 0 3 0 2 4 2 2 2 2]\n",
    "```\n",
    "\n",
    "期望的输出：\n",
    "\n",
    "```python\n",
    "# > [False  True False  True False False  True  True  True  True]\n",
    "```\n",
    "答案："
   ]
  },
  {
   "cell_type": "code",
   "execution_count": 157,
   "metadata": {},
   "outputs": [],
   "source": [
    "# Input\n",
    "np.random.seed(100)\n",
    "a = np.random.randint(0, 5, 10)"
   ]
  },
  {
   "cell_type": "code",
   "execution_count": 158,
   "metadata": {},
   "outputs": [
    {
     "data": {
      "text/plain": [
       "array([ True,  True,  True,  True,  True,  True,  True,  True,  True,\n",
       "        True])"
      ]
     },
     "execution_count": 158,
     "metadata": {},
     "output_type": "execute_result"
    }
   ],
   "source": [
    "## Solution\n",
    "\n",
    "# Create all True array\n",
    "out = np.full(a.shape[0],True)\n",
    "out"
   ]
  },
  {
   "cell_type": "code",
   "execution_count": 159,
   "metadata": {},
   "outputs": [
    {
     "data": {
      "text/plain": [
       "array([0, 0, 3, 0, 2, 4, 2, 2, 2, 2])"
      ]
     },
     "execution_count": 159,
     "metadata": {},
     "output_type": "execute_result"
    }
   ],
   "source": [
    "a"
   ]
  },
  {
   "cell_type": "code",
   "execution_count": 160,
   "metadata": {},
   "outputs": [
    {
     "data": {
      "text/plain": [
       "array([0, 4, 2, 5])"
      ]
     },
     "execution_count": 160,
     "metadata": {},
     "output_type": "execute_result"
    }
   ],
   "source": [
    "# Find the index positions of unique elements\n",
    "unique_positions = np.unique(a,return_index=True)[1]\n",
    "unique_positions"
   ]
  },
  {
   "cell_type": "code",
   "execution_count": 161,
   "metadata": {},
   "outputs": [
    {
     "name": "stdout",
     "output_type": "stream",
     "text": [
      "[False  True False  True False False  True  True  True  True]\n"
     ]
    }
   ],
   "source": [
    "# Mark those positions as false\n",
    "\n",
    "out[unique_positions]= False\n",
    "\n",
    "print(out)"
   ]
  },
  {
   "cell_type": "markdown",
   "metadata": {},
   "source": [
    "# 59. 如何找出数字的分组均值？\n",
    "\n",
    "难度等级：L3\n",
    "\n",
    "问题：在二维数字数组中查找按分类列分组的数值列的平均值\n",
    "\n",
    "给定：\n",
    "\n",
    "```python\n",
    "url = 'https://archive.ics.uci.edu/ml/machine-learning-databases/iris/iris.data'\n",
    "iris = np.genfromtxt(url, delimiter=',', dtype='object')\n",
    "names = ('sepallength', 'sepalwidth', 'petallength', 'petalwidth', 'species')\n",
    "```\n",
    "\n",
    "理想的输出：\n",
    "\n",
    "```python\n",
    "# > [[b'Iris-setosa', 3.418],\n",
    "# >  [b'Iris-versicolor', 2.770],\n",
    "# >  [b'Iris-virginica', 2.974]]\n",
    "```\n",
    "\n",
    "答案："
   ]
  },
  {
   "cell_type": "code",
   "execution_count": 162,
   "metadata": {},
   "outputs": [],
   "source": [
    "# Input\n",
    "url = 'https://archive.ics.uci.edu/ml/machine-learning-databases/iris/iris.data'\n",
    "iris = np.genfromtxt(url, delimiter=',', dtype='object')\n",
    "names = ('sepallength', 'sepalwidth', 'petallength', 'petalwidth', 'species')"
   ]
  },
  {
   "cell_type": "code",
   "execution_count": 163,
   "metadata": {},
   "outputs": [
    {
     "data": {
      "text/plain": [
       "array([3.5, 3. , 3.2, 3.1, 3.6, 3.9, 3.4, 3.4, 2.9, 3.1])"
      ]
     },
     "execution_count": 163,
     "metadata": {},
     "output_type": "execute_result"
    }
   ],
   "source": [
    "# Solution\n",
    "# No direct way to implement this. Just a version of a workaround.\n",
    "numeric_column = iris[:,1].astype('float') # sepalwidth\n",
    "numeric_column[:10]"
   ]
  },
  {
   "cell_type": "code",
   "execution_count": 164,
   "metadata": {},
   "outputs": [
    {
     "data": {
      "text/plain": [
       "array([b'Iris-setosa', b'Iris-setosa', b'Iris-setosa', b'Iris-setosa',\n",
       "       b'Iris-setosa', b'Iris-setosa', b'Iris-setosa', b'Iris-setosa',\n",
       "       b'Iris-setosa', b'Iris-setosa'], dtype=object)"
      ]
     },
     "execution_count": 164,
     "metadata": {},
     "output_type": "execute_result"
    }
   ],
   "source": [
    "grouping_column = iris[:,4] # species\n",
    "grouping_column[:10]"
   ]
  },
  {
   "cell_type": "code",
   "execution_count": 165,
   "metadata": {},
   "outputs": [
    {
     "data": {
      "text/plain": [
       "array([b'Iris-setosa', b'Iris-versicolor', b'Iris-virginica'],\n",
       "      dtype=object)"
      ]
     },
     "execution_count": 165,
     "metadata": {},
     "output_type": "execute_result"
    }
   ],
   "source": [
    "np.unique(grouping_column)"
   ]
  },
  {
   "cell_type": "code",
   "execution_count": 166,
   "metadata": {},
   "outputs": [
    {
     "data": {
      "text/plain": [
       "[[b'Iris-setosa', 3.418],\n",
       " [b'Iris-versicolor', 2.7700000000000005],\n",
       " [b'Iris-virginica', 2.974]]"
      ]
     },
     "execution_count": 166,
     "metadata": {},
     "output_type": "execute_result"
    }
   ],
   "source": [
    "# List comprehension version\n",
    "[[group_val, numeric_column[grouping_column==group_val].mean()] for group_val in np.unique(grouping_column)]"
   ]
  },
  {
   "cell_type": "code",
   "execution_count": 167,
   "metadata": {},
   "outputs": [],
   "source": [
    "# Solution2 for loop"
   ]
  },
  {
   "cell_type": "code",
   "execution_count": 168,
   "metadata": {},
   "outputs": [
    {
     "data": {
      "text/plain": [
       "[[b'Iris-setosa', 3.418],\n",
       " [b'Iris-versicolor', 2.7700000000000005],\n",
       " [b'Iris-virginica', 2.974]]"
      ]
     },
     "execution_count": 168,
     "metadata": {},
     "output_type": "execute_result"
    }
   ],
   "source": [
    "output =[]\n",
    "for groupval in np.unique(grouping_column):\n",
    "    output.append([groupval, numeric_column[grouping_column==groupval].mean()])\n",
    "output"
   ]
  },
  {
   "cell_type": "markdown",
   "metadata": {},
   "source": [
    "# 60. 如何将PIL图像转换为numpy数组？\n",
    "\n",
    "难度等级：L3\n",
    "\n",
    "问题：从以下URL导入图像并将其转换为numpy数组。\n",
    "\n",
    "```python\n",
    "URL = 'https://upload.wikimedia.org/wikipedia/commons/8/8b/Denali_Mt_McKinley.jpg'\n",
    "```\n",
    "\n",
    "答案："
   ]
  },
  {
   "cell_type": "code",
   "execution_count": 169,
   "metadata": {},
   "outputs": [
    {
     "name": "stdout",
     "output_type": "stream",
     "text": [
      "<class 'PIL.JpegImagePlugin.JpegImageFile'>\n",
      "<class 'PIL.Image.Image'>\n"
     ]
    },
    {
     "data": {
      "image/png": "[encoded data removed]",
      "text/plain": [
       "<PIL.Image.Image image mode=RGB size=150x150 at 0x7FE2742BFE80>"
      ]
     },
     "execution_count": 169,
     "metadata": {},
     "output_type": "execute_result"
    }
   ],
   "source": [
    "from io import BytesIO\n",
    "from PIL import Image\n",
    "import PIL,requests\n",
    "\n",
    "# Import image from URL\n",
    "URL = 'https://upload.wikimedia.org/wikipedia/commons/8/8b/Denali_Mt_McKinley.jpg'\n",
    "response = requests.get(URL)\n",
    "# Read it as Image\n",
    "I = Image.open(BytesIO(response.content))\n",
    "print(type(I))\n",
    "I\n",
    "# Optionally resize\n",
    "I = I.resize([150,150])\n",
    "print(type(I))\n",
    "I"
   ]
  },
  {
   "cell_type": "code",
   "execution_count": 170,
   "metadata": {},
   "outputs": [
    {
     "data": {
      "text/plain": [
       "(150, 150, 3)"
      ]
     },
     "execution_count": 170,
     "metadata": {},
     "output_type": "execute_result"
    }
   ],
   "source": [
    "# Convert to numpy array\n",
    "arr = np.asarray(I)\n",
    "arr.shape"
   ]
  },
  {
   "cell_type": "code",
   "execution_count": 171,
   "metadata": {},
   "outputs": [],
   "source": [
    "# Optionaly Convert it back to an image and show\n",
    "im = PIL.Image.fromarray(np.uint8(arr))\n",
    "Image.Image.show(im)"
   ]
  },
  {
   "cell_type": "markdown",
   "metadata": {},
   "source": [
    "# 61. 如何删除numpy数组中所有缺少的值？\n",
    "\n",
    "难度等级：L2\n",
    "\n",
    "问题：从一维numpy数组中删除所有NaN值\n",
    "\n",
    "给定：\n",
    "\n",
    "```python\n",
    "np.array([1,2,3,np.nan,5,6,7,np.nan])\n",
    "```\n",
    "\n",
    "期望的输出：\n",
    "\n",
    "```python\n",
    "array([ 1.,  2.,  3.,  5.,  6.,  7.])\n",
    "```\n",
    "答案："
   ]
  },
  {
   "cell_type": "code",
   "execution_count": 172,
   "metadata": {},
   "outputs": [
    {
     "data": {
      "text/plain": [
       "array([ 1.,  2.,  3., nan,  5.,  6.,  7., nan])"
      ]
     },
     "execution_count": 172,
     "metadata": {},
     "output_type": "execute_result"
    }
   ],
   "source": [
    "a = np.array([1,2,3,np.nan,5,6,7,np.nan])\n",
    "a"
   ]
  },
  {
   "cell_type": "code",
   "execution_count": 173,
   "metadata": {},
   "outputs": [
    {
     "data": {
      "text/plain": [
       "array([1., 2., 3., 5., 6., 7.])"
      ]
     },
     "execution_count": 173,
     "metadata": {},
     "output_type": "execute_result"
    }
   ],
   "source": [
    "a[~np.isnan(a)]"
   ]
  },
  {
   "cell_type": "markdown",
   "metadata": {},
   "source": [
    "# 62. 如何计算两个数组之间的欧氏距离？\n",
    "\n",
    "难度等级：L3\n",
    "\n",
    "问题：计算两个数组a和数组b之间的欧氏距离。\n",
    "\n",
    "给定：\n",
    "\n",
    "```python\n",
    "a = np.array([1,2,3,4,5])\n",
    "b = np.array([4,5,6,7,8])\n",
    "```\n",
    "\n",
    "答案："
   ]
  },
  {
   "cell_type": "code",
   "execution_count": 174,
   "metadata": {},
   "outputs": [],
   "source": [
    "# Input\n",
    "a = np.array([1,2,3,4,5])\n",
    "b = np.array([4,5,6,7,8])"
   ]
  },
  {
   "cell_type": "code",
   "execution_count": 175,
   "metadata": {},
   "outputs": [
    {
     "data": {
      "text/plain": [
       "6.708203932499369"
      ]
     },
     "execution_count": 175,
     "metadata": {},
     "output_type": "execute_result"
    }
   ],
   "source": [
    "# Solution\n",
    "dist = np.linalg.norm(a-b)\n",
    "# > 6.7082039324993694\n",
    "dist"
   ]
  },
  {
   "cell_type": "markdown",
   "metadata": {},
   "source": [
    "# 63. 如何在一维数组中找到所有的局部极大值(或峰值)？\n",
    "\n",
    "难度等级：L4\n",
    "\n",
    "问题：找到一个一维数字数组a中的所有峰值。峰顶是两边被较小数值包围的点。\n",
    "\n",
    "给定：\n",
    "\n",
    "```python\n",
    "a = np.array([1, 3, 7, 1, 2, 6, 0, 1])\n",
    "```\n",
    "\n",
    "期望的输出：\n",
    "\n",
    "```python\n",
    "# > array([2, 5])\n",
    "```\n",
    "其中，2和5是峰值7和6的位置。\n",
    "\n",
    "答案：\n"
   ]
  },
  {
   "cell_type": "code",
   "execution_count": 176,
   "metadata": {},
   "outputs": [],
   "source": [
    "a = np.array([1, 3, 7, 1, 2, 6, 0, 1])"
   ]
  },
  {
   "cell_type": "code",
   "execution_count": 177,
   "metadata": {},
   "outputs": [
    {
     "data": {
      "text/plain": [
       "(8,)"
      ]
     },
     "execution_count": 177,
     "metadata": {},
     "output_type": "execute_result"
    }
   ],
   "source": [
    "a.shape"
   ]
  },
  {
   "cell_type": "code",
   "execution_count": 178,
   "metadata": {},
   "outputs": [
    {
     "data": {
      "text/plain": [
       "(7,)"
      ]
     },
     "execution_count": 178,
     "metadata": {},
     "output_type": "execute_result"
    }
   ],
   "source": [
    "np.diff(a).shape"
   ]
  },
  {
   "cell_type": "code",
   "execution_count": 179,
   "metadata": {},
   "outputs": [
    {
     "data": {
      "text/plain": [
       "array([ 2,  4, -6,  1,  4, -6,  1])"
      ]
     },
     "execution_count": 179,
     "metadata": {},
     "output_type": "execute_result"
    }
   ],
   "source": [
    "np.diff(a)"
   ]
  },
  {
   "cell_type": "code",
   "execution_count": 180,
   "metadata": {},
   "outputs": [
    {
     "data": {
      "text/plain": [
       "array([ 1,  1, -1,  1,  1, -1,  1])"
      ]
     },
     "execution_count": 180,
     "metadata": {},
     "output_type": "execute_result"
    }
   ],
   "source": [
    "np.sign(np.diff(a))"
   ]
  },
  {
   "cell_type": "code",
   "execution_count": 181,
   "metadata": {},
   "outputs": [
    {
     "data": {
      "text/plain": [
       "(array([2, 5]),)"
      ]
     },
     "execution_count": 181,
     "metadata": {},
     "output_type": "execute_result"
    }
   ],
   "source": [
    "np.where(np.sign(np.diff(a)) == -1)"
   ]
  },
  {
   "cell_type": "code",
   "execution_count": 182,
   "metadata": {},
   "outputs": [
    {
     "data": {
      "text/plain": [
       "array([ 0, -2,  2,  0, -2,  2])"
      ]
     },
     "execution_count": 182,
     "metadata": {},
     "output_type": "execute_result"
    }
   ],
   "source": [
    "np.diff(np.sign(np.diff(a)))"
   ]
  },
  {
   "cell_type": "code",
   "execution_count": 183,
   "metadata": {},
   "outputs": [
    {
     "data": {
      "text/plain": [
       "array([2, 5])"
      ]
     },
     "execution_count": 183,
     "metadata": {},
     "output_type": "execute_result"
    }
   ],
   "source": [
    "np.where(np.diff(np.sign(np.diff(a)))==-2)[0] + 1 "
   ]
  },
  {
   "cell_type": "code",
   "execution_count": 184,
   "metadata": {},
   "outputs": [
    {
     "data": {
      "text/plain": [
       "array([2, 5])"
      ]
     },
     "execution_count": 184,
     "metadata": {},
     "output_type": "execute_result"
    }
   ],
   "source": [
    "doublediff = np.diff(np.sign(np.diff(a)))\n",
    "peak_locations = np.where(doublediff == -2)[0] + 1\n",
    "peak_locations\n",
    "# > array([2, 5])"
   ]
  },
  {
   "cell_type": "markdown",
   "metadata": {},
   "source": [
    "# 64. 如何从二维数组中减去一维数组，其中一维数组的每一项从各自的行中减去\n",
    "\n",
    "难度等级：L2\n",
    "\n",
    "问题：从2d数组a_2d中减去一维数组b_1D，使得b_1D的每一项从a_2d的相应行中减去。\n",
    "\n",
    "```python\n",
    "a_2d = np.array([[3,3,3],[4,4,4],[5,5,5]])\n",
    "b_1d = np.array([1,1,1]\n",
    "```\n",
    "\n",
    "期望的输出：\n",
    "\n",
    "```python\n",
    "# > [[2 2 2]\n",
    "# >  [2 2 2]\n",
    "# >  [2 2 2]]\n",
    "```\n",
    "\n",
    "答案："
   ]
  },
  {
   "cell_type": "code",
   "execution_count": 185,
   "metadata": {},
   "outputs": [],
   "source": [
    "# Input\n",
    "a_2d = np.array([[3,3,3],[4,4,4],[5,5,5]])\n",
    "b_1d = np.array([1,2,3])"
   ]
  },
  {
   "cell_type": "code",
   "execution_count": 186,
   "metadata": {
    "scrolled": true
   },
   "outputs": [
    {
     "name": "stdout",
     "output_type": "stream",
     "text": [
      "[[2 2 2]\n",
      " [2 2 2]\n",
      " [2 2 2]]\n"
     ]
    }
   ],
   "source": [
    "# Solution\n",
    "print(a_2d - b_1d[:,None])\n",
    "# > [[2 2 2]\n",
    "# >  [2 2 2]\n",
    "# >  [2 2 2]]"
   ]
  },
  {
   "cell_type": "markdown",
   "metadata": {},
   "source": [
    "# 65. 如何查找数组中项的第n次重复索引？\n",
    "\n",
    "难度等级：L2\n",
    "\n",
    "问题：找出x中数字1的第5次重复的索引。\n",
    "\n",
    "```python\n",
    "x = np.array([1, 2, 1, 1, 3, 4, 3, 1, 1, 2, 1, 1, 2])\n",
    "```\n",
    "\n",
    "答案："
   ]
  },
  {
   "cell_type": "code",
   "execution_count": 188,
   "metadata": {},
   "outputs": [],
   "source": [
    "x = np.array([1, 2, 1, 1, 3, 4, 3, 1, 1, 2, 1, 1, 2])\n",
    "n = 5"
   ]
  },
  {
   "cell_type": "code",
   "execution_count": 195,
   "metadata": {},
   "outputs": [
    {
     "data": {
      "text/plain": [
       "8"
      ]
     },
     "execution_count": 195,
     "metadata": {},
     "output_type": "execute_result"
    }
   ],
   "source": [
    "# Solution1\n",
    "[i for i, v in enumerate(x) if v==1][n-1]"
   ]
  },
  {
   "cell_type": "code",
   "execution_count": 191,
   "metadata": {
    "scrolled": true
   },
   "outputs": [
    {
     "data": {
      "text/plain": [
       "8"
      ]
     },
     "execution_count": 191,
     "metadata": {},
     "output_type": "execute_result"
    }
   ],
   "source": [
    "# Solution2\n",
    "np.where(x == 1)[0][n-1]"
   ]
  },
  {
   "cell_type": "markdown",
   "metadata": {},
   "source": [
    "# 66. 如何将numpy的datetime 64对象转换为datetime的datetime对象？\n",
    "\n",
    "难度等级：L2\n",
    "\n",
    "问题：将numpy的datetime64对象转换为datetime的datetime对象\n",
    "\n",
    "```python\n",
    "# **给定：** a numpy datetime64 object\n",
    "dt64 = np.datetime64('2018-02-25 22:10:10')\n",
    "```\n",
    "\n",
    "答案："
   ]
  },
  {
   "cell_type": "code",
   "execution_count": 197,
   "metadata": {},
   "outputs": [
    {
     "data": {
      "text/plain": [
       "datetime.datetime(2018, 2, 25, 22, 10, 10)"
      ]
     },
     "execution_count": 197,
     "metadata": {},
     "output_type": "execute_result"
    }
   ],
   "source": [
    "# **给定：** a numpy datetime64 object\n",
    "dt64 = np.datetime64('2018-02-25 22:10:10')\n",
    "\n",
    "# Solution\n",
    "from datetime import datetime\n",
    "dt64.tolist()\n"
   ]
  },
  {
   "cell_type": "code",
   "execution_count": 199,
   "metadata": {},
   "outputs": [
    {
     "data": {
      "text/plain": [
       "datetime.datetime(2018, 2, 25, 22, 10, 10)"
      ]
     },
     "execution_count": 199,
     "metadata": {},
     "output_type": "execute_result"
    }
   ],
   "source": [
    "# or\n",
    "dt64.astype(datetime)\n",
    "# > datetime.datetime(2018, 2, 25, 22, 10, 10)\n",
    "#"
   ]
  },
  {
   "cell_type": "markdown",
   "metadata": {},
   "source": [
    "# 67. 如何计算numpy数组的移动平均值？(不是很懂)\n",
    "\n",
    "难度等级：L3\n",
    "\n",
    "问题：对于给定的一维数组，计算窗口大小为3的移动平均值。\n",
    "\n",
    "给定：\n",
    "\n",
    "```python\n",
    "np.random.seed(100)\n",
    "Z = np.random.randint(10, size=10)\n",
    "```\n",
    "答案："
   ]
  },
  {
   "cell_type": "code",
   "execution_count": 200,
   "metadata": {
    "scrolled": true
   },
   "outputs": [
    {
     "data": {
      "text/plain": [
       "array([8, 8, 3, 7, 7, 0, 4, 2, 5, 2])"
      ]
     },
     "execution_count": 200,
     "metadata": {},
     "output_type": "execute_result"
    }
   ],
   "source": [
    "np.random.seed(100)\n",
    "Z = np.random.randint(10, size=10)\n",
    "Z"
   ]
  },
  {
   "cell_type": "code",
   "execution_count": 202,
   "metadata": {
    "scrolled": true
   },
   "outputs": [
    {
     "data": {
      "text/plain": [
       "array([ 1.,  4., 11., 12., 14., 20., 20., 21.])"
      ]
     },
     "execution_count": 202,
     "metadata": {},
     "output_type": "execute_result"
    }
   ],
   "source": [
    "ret = np.cumsum(a, dtype=float)\n",
    "ret"
   ]
  },
  {
   "cell_type": "code",
   "execution_count": 204,
   "metadata": {},
   "outputs": [
    {
     "data": {
      "text/plain": [
       "array([12., 14., 20., 20., 21.])"
      ]
     },
     "execution_count": 204,
     "metadata": {},
     "output_type": "execute_result"
    }
   ],
   "source": [
    "ret = np.cumsum(a, dtype=float)\n",
    "ret[3:]"
   ]
  },
  {
   "cell_type": "code",
   "execution_count": 205,
   "metadata": {},
   "outputs": [
    {
     "data": {
      "text/plain": [
       "array([ 1.,  4., 11., 12., 14.])"
      ]
     },
     "execution_count": 205,
     "metadata": {},
     "output_type": "execute_result"
    }
   ],
   "source": [
    "ret[:-3]"
   ]
  },
  {
   "cell_type": "code",
   "execution_count": 206,
   "metadata": {},
   "outputs": [
    {
     "data": {
      "text/plain": [
       "array([11., 10.,  9.,  8.,  7.])"
      ]
     },
     "execution_count": 206,
     "metadata": {},
     "output_type": "execute_result"
    }
   ],
   "source": [
    "ret[3:]-ret[:-3]"
   ]
  },
  {
   "cell_type": "code",
   "execution_count": 214,
   "metadata": {},
   "outputs": [
    {
     "data": {
      "text/plain": [
       "array([6.33, 6.  , 5.67, 4.67, 3.67, 2.  , 3.67, 3.  ])"
      ]
     },
     "execution_count": 214,
     "metadata": {},
     "output_type": "execute_result"
    }
   ],
   "source": [
    "# Solution\n",
    "# Source: https://stackoverflow.com/questions/14313510/how-to-calculate-moving-average-using-numpy\n",
    "def moving_average(a, n=3) :\n",
    "    ret = np.cumsum(a, dtype=float)\n",
    "    ret[n:] = ret[n:] - ret[:-n]\n",
    "    return ret[n - 1:] / n\n",
    "\n",
    "# Method 1\n",
    "moving_average(Z, n=3).round(2)"
   ]
  },
  {
   "cell_type": "code",
   "execution_count": 209,
   "metadata": {
    "scrolled": true
   },
   "outputs": [
    {
     "data": {
      "text/plain": [
       "(10,)"
      ]
     },
     "execution_count": 209,
     "metadata": {},
     "output_type": "execute_result"
    }
   ],
   "source": [
    "Z.shape"
   ]
  },
  {
   "cell_type": "code",
   "execution_count": 212,
   "metadata": {},
   "outputs": [
    {
     "data": {
      "text/plain": [
       "array([6.33333333, 6.        , 5.66666667, 4.66666667, 3.66666667,\n",
       "       2.        , 3.66666667, 3.        ])"
      ]
     },
     "execution_count": 212,
     "metadata": {},
     "output_type": "execute_result"
    }
   ],
   "source": [
    "# Method 2:  # Thanks AlanLRH!\n",
    "# np.ones(3)/3 gives equal weights. Use np.ones(4)/4 for window size 4.\n",
    "move_avg = np.convolve(Z, np.ones(3)/3, mode='valid')\n",
    "move_avg"
   ]
  },
  {
   "cell_type": "code",
   "execution_count": 213,
   "metadata": {
    "scrolled": true
   },
   "outputs": [
    {
     "data": {
      "text/plain": [
       "(8,)"
      ]
     },
     "execution_count": 213,
     "metadata": {},
     "output_type": "execute_result"
    }
   ],
   "source": [
    "move_avg.shape"
   ]
  },
  {
   "cell_type": "markdown",
   "metadata": {},
   "source": [
    "# 68. 如何在给定起始点、长度和步骤的情况下创建一个numpy数组序列？\n",
    "\n",
    "难度等级：L2\n",
    "\n",
    "问题：创建长度为10的numpy数组，从5开始，在连续的数字之间的步长为3。\n",
    "\n",
    "答案："
   ]
  },
  {
   "cell_type": "code",
   "execution_count": 217,
   "metadata": {},
   "outputs": [
    {
     "data": {
      "text/plain": [
       "array([ 5,  8, 11, 14, 17, 20, 23, 26, 29, 32])"
      ]
     },
     "execution_count": 217,
     "metadata": {},
     "output_type": "execute_result"
    }
   ],
   "source": [
    "length = 10\n",
    "start = 5\n",
    "step = 3\n",
    "\n",
    "end = start + step*length\n",
    "np.arange(start,end,step)\n",
    "# > array([ 5,  8, 11, 14, 17, 20, 23, 26, 29, 32])"
   ]
  },
  {
   "cell_type": "markdown",
   "metadata": {},
   "source": [
    "# 69. 如何填写不规则系列的numpy日期中的缺失日期？\n",
    "\n",
    "难度等级：L3\n",
    "\n",
    "问题：给定一系列不连续的日期序列。填写缺失的日期，使其成为连续的日期序列。\n",
    "\n",
    "给定：\n",
    "\n",
    "```python\n",
    "# Input\n",
    "dates = np.arange(np.datetime64('2018-02-01'), np.datetime64('2018-02-25'), 2)\n",
    "print(dates)\n",
    "# > ['2018-02-01' '2018-02-03' '2018-02-05' '2018-02-07' '2018-02-09'\n",
    "# >  '2018-02-11' '2018-02-13' '2018-02-15' '2018-02-17' '2018-02-19'\n",
    "# >  '2018-02-21' '2018-02-23']\n",
    "```\n",
    "答案："
   ]
  },
  {
   "cell_type": "code",
   "execution_count": 218,
   "metadata": {},
   "outputs": [
    {
     "name": "stdout",
     "output_type": "stream",
     "text": [
      "['2018-02-01' '2018-02-03' '2018-02-05' '2018-02-07' '2018-02-09'\n",
      " '2018-02-11' '2018-02-13' '2018-02-15' '2018-02-17' '2018-02-19'\n",
      " '2018-02-21' '2018-02-23']\n"
     ]
    }
   ],
   "source": [
    "# Input\n",
    "dates = np.arange(np.datetime64('2018-02-01'), np.datetime64('2018-02-25'), 2)\n",
    "print(dates)"
   ]
  },
  {
   "cell_type": "code",
   "execution_count": 220,
   "metadata": {},
   "outputs": [
    {
     "data": {
      "text/plain": [
       "array([2, 2, 2, 2, 2, 2, 2, 2, 2, 2, 2], dtype='timedelta64[D]')"
      ]
     },
     "execution_count": 220,
     "metadata": {},
     "output_type": "execute_result"
    }
   ],
   "source": [
    "np.diff(dates)"
   ]
  },
  {
   "cell_type": "code",
   "execution_count": 222,
   "metadata": {
    "scrolled": true
   },
   "outputs": [
    {
     "name": "stdout",
     "output_type": "stream",
     "text": [
      "2018-02-01   2 days\n",
      "2018-02-03   2 days\n",
      "2018-02-05   2 days\n",
      "2018-02-07   2 days\n",
      "2018-02-09   2 days\n",
      "2018-02-11   2 days\n",
      "2018-02-13   2 days\n",
      "2018-02-15   2 days\n",
      "2018-02-17   2 days\n",
      "2018-02-19   2 days\n",
      "2018-02-21   2 days\n"
     ]
    }
   ],
   "source": [
    "for date,d in zip(dates,np.diff(dates)):\n",
    "    print(date, \" \",d)"
   ]
  },
  {
   "cell_type": "code",
   "execution_count": 225,
   "metadata": {},
   "outputs": [
    {
     "data": {
      "text/plain": [
       "array(['2018-02-01', '2018-02-02', '2018-02-03', '2018-02-04',\n",
       "       '2018-02-05', '2018-02-06', '2018-02-07', '2018-02-08',\n",
       "       '2018-02-09', '2018-02-10', '2018-02-11', '2018-02-12',\n",
       "       '2018-02-13', '2018-02-14', '2018-02-15', '2018-02-16',\n",
       "       '2018-02-17', '2018-02-18', '2018-02-19', '2018-02-20',\n",
       "       '2018-02-21', '2018-02-22'], dtype='datetime64[D]')"
      ]
     },
     "execution_count": 225,
     "metadata": {},
     "output_type": "execute_result"
    }
   ],
   "source": [
    "# Solution ---------------\n",
    "filled_in = np.array([np.arange(date, (date+d)) for date, d in zip(dates, np.diff(dates))]).reshape(-1)\n",
    "filled_in"
   ]
  },
  {
   "cell_type": "code",
   "execution_count": 226,
   "metadata": {},
   "outputs": [
    {
     "data": {
      "text/plain": [
       "array(['2018-02-01', '2018-02-02', '2018-02-03', '2018-02-04',\n",
       "       '2018-02-05', '2018-02-06', '2018-02-07', '2018-02-08',\n",
       "       '2018-02-09', '2018-02-10', '2018-02-11', '2018-02-12',\n",
       "       '2018-02-13', '2018-02-14', '2018-02-15', '2018-02-16',\n",
       "       '2018-02-17', '2018-02-18', '2018-02-19', '2018-02-20',\n",
       "       '2018-02-21', '2018-02-22', '2018-02-23'], dtype='datetime64[D]')"
      ]
     },
     "execution_count": 226,
     "metadata": {},
     "output_type": "execute_result"
    }
   ],
   "source": [
    "# add the last day\n",
    "output = np.hstack([filled_in, dates[-1]])\n",
    "output"
   ]
  },
  {
   "cell_type": "code",
   "execution_count": 227,
   "metadata": {},
   "outputs": [
    {
     "data": {
      "text/plain": [
       "array(['2018-02-01', '2018-02-02', '2018-02-03', '2018-02-04',\n",
       "       '2018-02-05', '2018-02-06', '2018-02-07', '2018-02-08',\n",
       "       '2018-02-09', '2018-02-10', '2018-02-11', '2018-02-12',\n",
       "       '2018-02-13', '2018-02-14', '2018-02-15', '2018-02-16',\n",
       "       '2018-02-17', '2018-02-18', '2018-02-19', '2018-02-20',\n",
       "       '2018-02-21', '2018-02-22', '2018-02-23'], dtype='datetime64[D]')"
      ]
     },
     "execution_count": 227,
     "metadata": {},
     "output_type": "execute_result"
    }
   ],
   "source": [
    "# For loop version -------\n",
    "out = []\n",
    "for date, d in zip(dates, np.diff(dates)):\n",
    "    out.append(np.arange(date, (date+d)))\n",
    "\n",
    "filled_in = np.array(out).reshape(-1)\n",
    "\n",
    "# add the last day\n",
    "output = np.hstack([filled_in, dates[-1]])\n",
    "output\n",
    "# > ['2018-02-01' '2018-02-03' '2018-02-05' '2018-02-07' '2018-02-09'\n",
    "# >  '2018-02-11' '2018-02-13' '2018-02-15' '2018-02-17' '2018-02-19'\n",
    "# >  '2018-02-21' '2018-02-23']\n",
    "\n",
    "# > array(['2018-02-01', '2018-02-02', '2018-02-03', '2018-02-04',\n",
    "# >        '2018-02-05', '2018-02-06', '2018-02-07', '2018-02-08',\n",
    "# >        '2018-02-09', '2018-02-10', '2018-02-11', '2018-02-12',\n",
    "# >        '2018-02-13', '2018-02-14', '2018-02-15', '2018-02-16',\n",
    "# >        '2018-02-17', '2018-02-18', '2018-02-19', '2018-02-20',\n",
    "# >        '2018-02-21', '2018-02-22', '2018-02-23'], dtype='datetime64[D]')"
   ]
  },
  {
   "cell_type": "markdown",
   "metadata": {},
   "source": [
    "# 70. 如何从给定的一维数组创建步长？\n",
    "\n",
    "难度等级：L4\n",
    "\n",
    "问题：从给定的一维数组arr中，利用步进生成一个二维矩阵，窗口长度为4，步距为2，类似于 [[0,1,2,3], [2,3,4,5], [4,5,6,7]..]\n",
    "\n",
    "给定：\n",
    "\n",
    "```python\n",
    "arr = np.arange(15) \n",
    "arr\n",
    "# > array([ 0,  1,  2,  3,  4,  5,  6,  7,  8,  9, 10, 11, 12, 13, 14])\n",
    "```\n",
    "\n",
    "期望的输出：\n",
    "\n",
    "```python\n",
    "# > [[ 0  1  2  3]\n",
    "# >  [ 2  3  4  5]\n",
    "# >  [ 4  5  6  7]\n",
    "# >  [ 6  7  8  9]\n",
    "# >  [ 8  9 10 11]\n",
    "# >  [10 11 12 13]]\n",
    "```\n",
    "\n",
    "答案："
   ]
  },
  {
   "cell_type": "code",
   "execution_count": 230,
   "metadata": {},
   "outputs": [
    {
     "data": {
      "text/plain": [
       "8"
      ]
     },
     "execution_count": 230,
     "metadata": {},
     "output_type": "execute_result"
    }
   ],
   "source": [
    "a.size"
   ]
  },
  {
   "cell_type": "code",
   "execution_count": 229,
   "metadata": {},
   "outputs": [
    {
     "data": {
      "text/plain": [
       "3"
      ]
     },
     "execution_count": 229,
     "metadata": {},
     "output_type": "execute_result"
    }
   ],
   "source": [
    "n_strides = ((a.size-4)//2) + 1\n",
    "n_strides"
   ]
  },
  {
   "cell_type": "code",
   "execution_count": 233,
   "metadata": {},
   "outputs": [],
   "source": [
    "def gen_strides(a,stride_len=5,window_len=5):\n",
    "    n_strides = ((a.size -4)//2) + 1\n",
    "    return np.array([a[s:(s+window_len)] for s in np.arange(0, n_strides*stride_len, stride_len)])"
   ]
  },
  {
   "cell_type": "code",
   "execution_count": 234,
   "metadata": {},
   "outputs": [
    {
     "name": "stdout",
     "output_type": "stream",
     "text": [
      "[[ 0  1  2  3]\n",
      " [ 2  3  4  5]\n",
      " [ 4  5  6  7]\n",
      " [ 6  7  8  9]\n",
      " [ 8  9 10 11]\n",
      " [10 11 12 13]]\n"
     ]
    }
   ],
   "source": [
    "print(gen_strides(np.arange(15), stride_len=2, window_len=4))\n",
    "# > [[ 0  1  2  3]\n",
    "# >  [ 2  3  4  5]\n",
    "# >  [ 4  5  6  7]\n",
    "# >  [ 6  7  8  9]\n",
    "# >  [ 8  9 10 11]\n",
    "# >  [10 11 12 13]]"
   ]
  }
 ],
 "metadata": {
  "kernelspec": {
   "display_name": "Python 3",
   "language": "python",
   "name": "python3"
  },
  "language_info": {
   "codemirror_mode": {
    "name": "ipython",
    "version": 3
   },
   "file_extension": ".py",
   "mimetype": "text/x-python",
   "name": "python",
   "nbconvert_exporter": "python",
   "pygments_lexer": "ipython3",
   "version": "3.7.3"
  }
 },
 "nbformat": 4,
 "nbformat_minor": 2
}
