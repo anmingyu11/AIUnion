{
 "cells": [
  {
   "cell_type": "code",
   "execution_count": 8,
   "metadata": {},
   "outputs": [],
   "source": [
    "import numpy as np\n",
    "from sklearn import datasets"
   ]
  },
  {
   "cell_type": "code",
   "execution_count": 9,
   "metadata": {},
   "outputs": [],
   "source": [
    "cancer = datasets.load_breast_cancer()\n",
    "X = cancer.data\n",
    "y = cancer.target"
   ]
  },
  {
   "cell_type": "code",
   "execution_count": 11,
   "metadata": {},
   "outputs": [
    {
     "name": "stdout",
     "output_type": "stream",
     "text": [
      "-inf\n",
      "3.62879748556671\n",
      "0.0\n",
      "4254.0\n"
     ]
    },
    {
     "name": "stderr",
     "output_type": "stream",
     "text": [
      "/A/develop/ide/anaconda3/lib/python3.7/site-packages/ipykernel_launcher.py:2: RuntimeWarning: divide by zero encountered in log10\n",
      "  \n"
     ]
    }
   ],
   "source": [
    "# 产生无穷值\n",
    "def log10(X):\n",
    "    return np.log10(X)\n",
    "\n",
    "X_log = log10(X)\n",
    "print(X_log.min())\n",
    "print(X_log.max())\n",
    "print(X.min())\n",
    "print(X.max())\n"
   ]
  },
  {
   "cell_type": "code",
   "execution_count": 14,
   "metadata": {},
   "outputs": [
    {
     "name": "stdout",
     "output_type": "stream",
     "text": [
      "0.0\n",
      "0.9998503479641182\n",
      "0.0\n",
      "4254.0\n"
     ]
    }
   ],
   "source": [
    "def arctan(X):\n",
    "    return (np.arctan(X)*2) / np.pi\n",
    "X_arctan = arctan(X)\n",
    "\n",
    "print(X_arctan.min())\n",
    "print(X_arctan.max())\n",
    "print(X.min())\n",
    "print(X.max())"
   ]
  },
  {
   "cell_type": "code",
   "execution_count": 17,
   "metadata": {},
   "outputs": [
    {
     "name": "stdout",
     "output_type": "stream",
     "text": [
      "-0.27109687171907126\n",
      "18.36249205785182\n",
      "0.0\n",
      "4254.0\n"
     ]
    }
   ],
   "source": [
    "def standarization(X):\n",
    "    std = X.std()\n",
    "    mean = X.mean()\n",
    "    return (X - mean)/std\n",
    "\n",
    "X_std = standarization(X)\n",
    "\n",
    "print(X_std.min())\n",
    "print(X_std.max())\n",
    "print(X.min())\n",
    "print(X.max())"
   ]
  },
  {
   "cell_type": "code",
   "execution_count": null,
   "metadata": {},
   "outputs": [],
   "source": []
  }
 ],
 "metadata": {
  "kernelspec": {
   "display_name": "Python 3",
   "language": "python",
   "name": "python3"
  },
  "language_info": {
   "codemirror_mode": {
    "name": "ipython",
    "version": 3
   },
   "file_extension": ".py",
   "mimetype": "text/x-python",
   "name": "python",
   "nbconvert_exporter": "python",
   "pygments_lexer": "ipython3",
   "version": "3.7.3"
  }
 },
 "nbformat": 4,
 "nbformat_minor": 2
}
