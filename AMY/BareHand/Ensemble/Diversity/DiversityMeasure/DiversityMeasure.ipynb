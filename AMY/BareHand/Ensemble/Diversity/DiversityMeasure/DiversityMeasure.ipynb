{
 "cells": [
  {
   "cell_type": "markdown",
   "metadata": {},
   "source": [
    "多样性度量是用于度量集成中个体分类器的多样性,即估算个体学习器的多样化程度."
   ]
  },
  {
   "cell_type": "code",
   "execution_count": 1,
   "metadata": {},
   "outputs": [],
   "source": [
    "import numpy as np\n",
    "import numpy.ma as ma\n",
    "import matplotlib.pyplot as plt\n",
    "\n",
    "from sklearn.svm import SVC\n",
    "from sklearn.linear_model import LogisticRegression\n",
    "from sklearn.tree import DecisionTreeClassifier\n",
    "\n",
    "# 预处理\n",
    "from sklearn.model_selection import cross_val_score\n",
    "from sklearn.preprocessing import StandardScaler\n",
    "from sklearn.datasets import load_breast_cancer\n",
    "from sklearn.model_selection import train_test_split\n",
    "\n",
    "import sys\n",
    "import warnings\n",
    "\n",
    "warnings.simplefilter('ignore')"
   ]
  },
  {
   "cell_type": "code",
   "execution_count": 2,
   "metadata": {},
   "outputs": [],
   "source": [
    "def load_data():\n",
    "    data = load_breast_cancer()\n",
    "    return data.data,data.target\n",
    "\n",
    "def load_data_split():\n",
    "    X,y = load_data()\n",
    "    X_train,X_test,y_train,y_test = train_test_split(X,y)\n",
    "    return X_train,X_test,y_train,y_test"
   ]
  },
  {
   "cell_type": "code",
   "execution_count": 3,
   "metadata": {},
   "outputs": [],
   "source": [
    "def standardize(X_):\n",
    "    X_ = StandardScaler().fit_transform(X_)\n",
    "    return X_"
   ]
  },
  {
   "cell_type": "code",
   "execution_count": 4,
   "metadata": {},
   "outputs": [],
   "source": [
    "def load_data_split_standarlize():\n",
    "    X_train,X_test,y_train,y_test = load_data_split()\n",
    "    return standardize(X_train),standardize(X_test),y_train,y_test"
   ]
  },
  {
   "cell_type": "code",
   "execution_count": 5,
   "metadata": {},
   "outputs": [],
   "source": [
    "def contigency_table(y_h_i,y_h_j):\n",
    "    '''\n",
    "    用于二分类结果\n",
    "    @param y_h_i 分类器i的预测结果\n",
    "    @param y_h_j 分类器j的预测结果\n",
    "    '''\n",
    "    y_h_i_1 = y_h_i==1\n",
    "    y_h_i_2 = y_h_i==-1\n",
    "    y_h_j_1 = y_h_j==1\n",
    "    y_h_j_2 = y_h_j==-1\n",
    "    a = np.sum(y_h_i_1 == y_h_j_1) # hi +1 , hj +1\n",
    "    b = np.sum(y_h_i_1) + np.sum(y_h_j_2) # hi +1 , hj -1\n",
    "    c = np.sum(y_h_i_2) + np.sum(y_h_j_1) # hi -1 , hj +1\n",
    "    d = np.sum(y_h_i_2 == y_h_j_2) # hi -1 , hk -1\n",
    "    return a,b,c,d"
   ]
  },
  {
   "cell_type": "code",
   "execution_count": 6,
   "metadata": {},
   "outputs": [],
   "source": [
    "def disagreement_measure(y_h_i,y_h_j):\n",
    "    '''\n",
    "    不合度量\n",
    "    值域为[0,1]\n",
    "    值越大则多样性越大\n",
    "    '''\n",
    "    a,b,c,d = contigency_table(y_h_i,y_h_j)\n",
    "    m = a+b+c+d\n",
    "    return (b+c)/m"
   ]
  },
  {
   "cell_type": "code",
   "execution_count": 7,
   "metadata": {},
   "outputs": [],
   "source": [
    " def correlation_coefficient(y_h_i,y_h_j):\n",
    "    '''\n",
    "    相关系数\n",
    "    值域为[-1,1]\n",
    "    若无关,则值为0,若hi与hj正相关则值为正,否则为负\n",
    "    '''\n",
    "    a,b,c,d = contigency_table(y_h_i,y_h_j)\n",
    "    rho = a*d - b*c\n",
    "    rho /= np.sqrt((a+b) * (a+c) * (c+d) * (b+d))\n",
    "    return rho"
   ]
  },
  {
   "cell_type": "code",
   "execution_count": 8,
   "metadata": {},
   "outputs": [],
   "source": [
    "def q_statistic(y_h_i,y_h_j):\n",
    "    '''\n",
    "    Q统计量\n",
    "    Q与相关系数符号相同且\n",
    "    |Q| >= cc\n",
    "    '''\n",
    "    a,b,c,d = contigency_table(y_h_i,y_h_j)\n",
    "    Q = a*d-b*c\n",
    "    Q /= a*d + b*c\n",
    "    return Q"
   ]
  },
  {
   "cell_type": "code",
   "execution_count": 9,
   "metadata": {},
   "outputs": [],
   "source": [
    "def k_statistic(y_h_i,y_h_j):\n",
    "    '''\n",
    "    卡方统计量\n",
    "    '''\n",
    "    a,b,c,d = contigency_table(y_h_i,y_h_j)\n",
    "    m = a+b+c+d\n",
    "    p1 = (a + d) / m # 两个分类器取得一致的概率\n",
    "    p2 = ((a + b) *(a+c) + (c+d)*(b+d)) / (m **2) # 两个分类器偶然达成一致的概率\n",
    "    return (p1-p2) / (1 - p2)"
   ]
  },
  {
   "cell_type": "code",
   "execution_count": 13,
   "metadata": {
    "scrolled": true
   },
   "outputs": [
    {
     "name": "stdout",
     "output_type": "stream",
     "text": [
      "____________________________________________________________________________________________________\n",
      "LogisticRegression  \tdisagreement_measure               \tLogisticRegression  \t     0.384\n",
      "LogisticRegression  \tcorrelation_coefficient            \tLogisticRegression  \t     0.233\n",
      "LogisticRegression  \tq_statistic                        \tLogisticRegression  \t     0.442\n",
      "LogisticRegression  \tk_statistic                        \tLogisticRegression  \t     0.233\n",
      "____________________________________________________________________________________________________\n",
      "____________________________________________________________________________________________________\n",
      "LogisticRegression  \tdisagreement_measure               \tDecisionTreeClassifier\t     0.386\n",
      "LogisticRegression  \tcorrelation_coefficient            \tDecisionTreeClassifier\t     0.228\n",
      "LogisticRegression  \tq_statistic                        \tDecisionTreeClassifier\t     0.433\n",
      "LogisticRegression  \tk_statistic                        \tDecisionTreeClassifier\t     0.228\n",
      "____________________________________________________________________________________________________\n",
      "____________________________________________________________________________________________________\n",
      "LogisticRegression  \tdisagreement_measure               \tSVC                 \t     0.385\n",
      "LogisticRegression  \tcorrelation_coefficient            \tSVC                 \t     0.229\n",
      "LogisticRegression  \tq_statistic                        \tSVC                 \t     0.436\n",
      "LogisticRegression  \tk_statistic                        \tSVC                 \t     0.229\n",
      "____________________________________________________________________________________________________\n",
      "____________________________________________________________________________________________________\n",
      "DecisionTreeClassifier\tdisagreement_measure               \tLogisticRegression  \t     0.386\n",
      "DecisionTreeClassifier\tcorrelation_coefficient            \tLogisticRegression  \t     0.228\n",
      "DecisionTreeClassifier\tq_statistic                        \tLogisticRegression  \t     0.433\n",
      "DecisionTreeClassifier\tk_statistic                        \tLogisticRegression  \t     0.228\n",
      "____________________________________________________________________________________________________\n",
      "____________________________________________________________________________________________________\n",
      "DecisionTreeClassifier\tdisagreement_measure               \tDecisionTreeClassifier\t     0.378\n",
      "DecisionTreeClassifier\tcorrelation_coefficient            \tDecisionTreeClassifier\t     0.243\n",
      "DecisionTreeClassifier\tq_statistic                        \tDecisionTreeClassifier\t      0.46\n",
      "DecisionTreeClassifier\tk_statistic                        \tDecisionTreeClassifier\t     0.243\n",
      "____________________________________________________________________________________________________\n",
      "____________________________________________________________________________________________________\n",
      "DecisionTreeClassifier\tdisagreement_measure               \tSVC                 \t     0.386\n",
      "DecisionTreeClassifier\tcorrelation_coefficient            \tSVC                 \t     0.228\n",
      "DecisionTreeClassifier\tq_statistic                        \tSVC                 \t     0.433\n",
      "DecisionTreeClassifier\tk_statistic                        \tSVC                 \t     0.228\n",
      "____________________________________________________________________________________________________\n",
      "____________________________________________________________________________________________________\n",
      "SVC                 \tdisagreement_measure               \tLogisticRegression  \t     0.385\n",
      "SVC                 \tcorrelation_coefficient            \tLogisticRegression  \t     0.229\n",
      "SVC                 \tq_statistic                        \tLogisticRegression  \t     0.436\n",
      "SVC                 \tk_statistic                        \tLogisticRegression  \t     0.229\n",
      "____________________________________________________________________________________________________\n",
      "____________________________________________________________________________________________________\n",
      "SVC                 \tdisagreement_measure               \tDecisionTreeClassifier\t     0.386\n",
      "SVC                 \tcorrelation_coefficient            \tDecisionTreeClassifier\t     0.228\n",
      "SVC                 \tq_statistic                        \tDecisionTreeClassifier\t     0.433\n",
      "SVC                 \tk_statistic                        \tDecisionTreeClassifier\t     0.228\n",
      "____________________________________________________________________________________________________\n",
      "____________________________________________________________________________________________________\n",
      "SVC                 \tdisagreement_measure               \tSVC                 \t     0.384\n",
      "SVC                 \tcorrelation_coefficient            \tSVC                 \t     0.233\n",
      "SVC                 \tq_statistic                        \tSVC                 \t     0.442\n",
      "SVC                 \tk_statistic                        \tSVC                 \t     0.233\n",
      "____________________________________________________________________________________________________\n"
     ]
    }
   ],
   "source": [
    "X_train,X_test,y_train,y_test = load_data_split_standarlize()\n",
    "\n",
    "lor = LogisticRegression().fit(X_train,y_train)\n",
    "dt = DecisionTreeClassifier().fit(X_train,y_train)\n",
    "svc = SVC().fit(X_train,y_train)\n",
    "\n",
    "lor_predict = lor.predict(X_test) \n",
    "dt_predict = dt.predict(X_test)\n",
    "svc_predict = svc.predict(X_test)\n",
    "\n",
    "predictions = [lor_predict,dt_predict,svc_predict]\n",
    "model_names = [lor.__class__.__name__,dt.__class__.__name__,svc.__class__.__name__]\n",
    "\n",
    "model_prediction_map = dict(zip(model_names,predictions))\n",
    "\n",
    "for m1 in model_prediction_map:\n",
    "    for m2 in model_prediction_map:\n",
    "        m1_p,m2_p = model_prediction_map.get(m1),model_prediction_map.get(m2)\n",
    "        mat = \"{:20}\\t{:35}\\t{:20}\\t{:10}\"\n",
    "        dm = round(disagreement_measure(m1_p,m2_p),3)\n",
    "        cc = round(correlation_coefficient(m1_p,m2_p),3)\n",
    "        qs = round(q_statistic(m1_p,m2_p),3)\n",
    "        ks = round(k_statistic(m1_p,m2_p),3)\n",
    "        print('_'*100)\n",
    "        print(mat.format(m1,'disagreement_measure',m2,dm))\n",
    "        print(mat.format(m1,'correlation_coefficient',m2,cc))\n",
    "        print(mat.format(m1,'q_statistic',m2,qs))\n",
    "        print(mat.format(m1,'k_statistic',m2,ks))\n",
    "        print('_'*100)"
   ]
  }
 ],
 "metadata": {
  "kernelspec": {
   "display_name": "Python 3",
   "language": "python",
   "name": "python3"
  },
  "language_info": {
   "codemirror_mode": {
    "name": "ipython",
    "version": 3
   },
   "file_extension": ".py",
   "mimetype": "text/x-python",
   "name": "python",
   "nbconvert_exporter": "python",
   "pygments_lexer": "ipython3",
   "version": "3.7.3"
  }
 },
 "nbformat": 4,
 "nbformat_minor": 2
}
