{
 "cells": [
  {
   "cell_type": "markdown",
   "metadata": {},
   "source": [
    "# 多样性增强\n",
    "\n",
    "在集成学习中需有效地生成多样性大的个体学习器.\n",
    "\n",
    "### 数据样本扰动\n",
    "   \n",
    "自助采样\n",
    "序列采样\n",
    "\n",
    "不稳定学习器: 决策树神经网络\n",
    "稳定学习器: 线性学习器,支持向量机,朴素贝叶斯,knn\n",
    "\n",
    "### 输入属性扰动\n",
    "\n",
    "# TODO随机子空间算法\n",
    "\n",
    "### 输出表示扰动\n",
    "\n",
    "### 算法参数扰动"
   ]
  }
 ],
 "metadata": {
  "kernelspec": {
   "display_name": "Python 3",
   "language": "python",
   "name": "python3"
  },
  "language_info": {
   "codemirror_mode": {
    "name": "ipython",
    "version": 3
   },
   "file_extension": ".py",
   "mimetype": "text/x-python",
   "name": "python",
   "nbconvert_exporter": "python",
   "pygments_lexer": "ipython3",
   "version": "3.7.3"
  }
 },
 "nbformat": 4,
 "nbformat_minor": 2
}
