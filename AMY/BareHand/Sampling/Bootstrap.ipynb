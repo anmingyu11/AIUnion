{
 "cells": [
  {
   "cell_type": "code",
   "execution_count": 1,
   "metadata": {},
   "outputs": [],
   "source": [
    "import numpy as np\n",
    "from sklearn.datasets import load_iris"
   ]
  },
  {
   "cell_type": "code",
   "execution_count": 2,
   "metadata": {},
   "outputs": [],
   "source": [
    "def bootstrap_sampling(X,y):\n",
    "    '''\n",
    "    自助采样法\n",
    "    '''\n",
    "    n = len(y)\n",
    "    args = np.arange(0,n,1)\n",
    "    # 放回抽样\n",
    "    samp_args = np.random.choice(args, n, True)\n",
    "    uniq_args = np.unique(samp_args) \n",
    "    return X[uniq_args] ,y[uniq_args] ,uniq_args"
   ]
  },
  {
   "cell_type": "code",
   "execution_count": 3,
   "metadata": {},
   "outputs": [
    {
     "data": {
      "text/plain": [
       "0.36724666666666667"
      ]
     },
     "execution_count": 3,
     "metadata": {},
     "output_type": "execute_result"
    }
   ],
   "source": [
    "iris = load_iris()\n",
    "X,y = iris.data, iris.target\n",
    "#试一试这样能否达到boosttrap的效果\n",
    "oob_score = []\n",
    "for _ in range(1000):\n",
    "    _,_,samples = bootstrap_sampling(X,y)\n",
    "    oob_score.append(1 - samples.shape[0] / y.shape[0])\n",
    "np.mean(oob_score)# 约等于0.368,正确."
   ]
  },
  {
   "cell_type": "code",
   "execution_count": null,
   "metadata": {},
   "outputs": [],
   "source": []
  }
 ],
 "metadata": {
  "kernelspec": {
   "display_name": "Python 3",
   "language": "python",
   "name": "python3"
  },
  "language_info": {
   "codemirror_mode": {
    "name": "ipython",
    "version": 3
   },
   "file_extension": ".py",
   "mimetype": "text/x-python",
   "name": "python",
   "nbconvert_exporter": "python",
   "pygments_lexer": "ipython3",
   "version": "3.7.3"
  }
 },
 "nbformat": 4,
 "nbformat_minor": 2
}
