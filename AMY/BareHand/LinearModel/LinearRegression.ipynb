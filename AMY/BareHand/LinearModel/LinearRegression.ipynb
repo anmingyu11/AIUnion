{
 "cells": [
  {
   "cell_type": "code",
   "execution_count": 1,
   "metadata": {},
   "outputs": [],
   "source": [
    "import numpy as np\n",
    "import matplotlib.pyplot as plt"
   ]
  },
  {
   "cell_type": "code",
   "execution_count": 2,
   "metadata": {},
   "outputs": [
    {
     "data": {
      "text/plain": [
       "LinearRegression(copy_X=True, fit_intercept=True, n_jobs=None, normalize=False)"
      ]
     },
     "execution_count": 2,
     "metadata": {},
     "output_type": "execute_result"
    }
   ],
   "source": [
    "from sklearn.datasets import load_boston\n",
    "from sklearn.linear_model import LinearRegression\n",
    "from sklearn.model_selection import train_test_split\n",
    "from sklearn.preprocessing import StandardScaler\n",
    "\n",
    "boston = load_boston()\n",
    "X,y = boston.data,boston.target\n",
    "X_train,X_test,y_train,y_test= train_test_split(X,y)\n",
    "X_train = StandardScaler().fit_transform(X_train)\n",
    "lr = LinearRegression()\n",
    "lr.fit(X_train,y_train)"
   ]
  },
  {
   "cell_type": "code",
   "execution_count": 3,
   "metadata": {},
   "outputs": [],
   "source": [
    "# mean square method 均方误差\n",
    "def mse(y, y_predict):\n",
    "    y = np.array(y)\n",
    "    y_predict = np.array(y_predict)\n",
    "    return (y_predict - y) ** 2\n",
    "\n",
    "def mse(X,theta,y):\n",
    "    return mse(y, X.dot(theta.T))"
   ]
  },
  {
   "cell_type": "code",
   "execution_count": 4,
   "metadata": {
    "scrolled": false
   },
   "outputs": [
    {
     "name": "stdout",
     "output_type": "stream",
     "text": [
      "(array([-0.40828183,  1.03088803, -0.08295058,  0.76656535, -1.35953932,\n",
      "        2.70549125, -0.37938392, -3.19405883,  2.06659491, -1.70945457,\n",
      "       -1.7419433 ,  1.08846428, -4.30922475]), 22.462532981530376)\n",
      "(array([-0.40828183,  1.03088803, -0.08295058,  0.76656535, -1.35953932,\n",
      "        2.70549125, -0.37938392, -3.19405883,  2.06659491, -1.70945457,\n",
      "       -1.7419433 ,  1.08846428, -4.30922475]), 22.462532981530376)\n"
     ]
    }
   ],
   "source": [
    "# least square method 最小二乘法\n",
    "def lsm(X , y):\n",
    "    '''\n",
    "    return (w,b)\n",
    "    '''\n",
    "    X = np.array(X)\n",
    "    y = np.array(y)\n",
    "    X_f = np.c_[X,np.ones(X.shape[0])]\n",
    "    wb = np.linalg.inv(X_f.T.dot(X_f)).dot(X_f.T.dot(y))\n",
    "    return (wb[:-1],wb[-1])\n",
    "\n",
    "def test_lsm():\n",
    "    print((lr.coef_,lr.intercept_))\n",
    "    print(lsm(X_train,y_train))\n",
    "\n",
    "test_lsm()"
   ]
  },
  {
   "cell_type": "code",
   "execution_count": 10,
   "metadata": {},
   "outputs": [
    {
     "name": "stdout",
     "output_type": "stream",
     "text": [
      "(array([-0.40827346,  1.03087718, -0.08297828,  0.76656919, -1.35953003,\n",
      "        2.70549677, -0.3793879 , -3.19405724,  2.06652227, -1.7093752 ,\n",
      "       -1.74194016,  1.08846455, -4.30922467]), 22.462532981529492)\n",
      "(array([-0.40828183,  1.03088803, -0.08295058,  0.76656535, -1.35953932,\n",
      "        2.70549125, -0.37938392, -3.19405883,  2.06659491, -1.70945457,\n",
      "       -1.7419433 ,  1.08846428, -4.30922475]), 22.462532981530376)\n"
     ]
    }
   ],
   "source": [
    "# 梯度向量\n",
    "def gradient(X, y, theta):\n",
    "    return (X.T.dot(X.dot(theta.T) - y))* 2. /len(y)\n",
    "\n",
    "# 梯度下降\n",
    "def gradient_descent(\n",
    "    X\n",
    "    , y\n",
    "    , theta = np.zeros(X.shape[1] + 1)\n",
    "    , alpha= 1e-3\n",
    "    , epsilon=1e-8\n",
    "    , max_iter = 1e5\n",
    "):\n",
    "    X_ = np.c_[X , np.ones(X.shape[0])]\n",
    "    #print(X_)\n",
    "    iters = 0\n",
    "    while(iters < max_iter):\n",
    "        old_theta = theta\n",
    "        grad = gradient(X_,y,theta)\n",
    "        #print(theta)\n",
    "        theta = theta - alpha * grad\n",
    "        if(np.all(np.absolute(theta - old_theta) < epsilon)):\n",
    "            break\n",
    "        iters += 1\n",
    "    return (theta[:-1],theta[-1])\n",
    "\n",
    "#theta=(w,b)\n",
    "theta  = gradient_descent(X_train,y_train)\n",
    "# 此结果发散 归一化之后不发散了.\n",
    "print(theta)\n",
    "print((lr.coef_,lr.intercept_))"
   ]
  }
 ],
 "metadata": {
  "kernelspec": {
   "display_name": "Python 3",
   "language": "python",
   "name": "python3"
  },
  "language_info": {
   "codemirror_mode": {
    "name": "ipython",
    "version": 3
   },
   "file_extension": ".py",
   "mimetype": "text/x-python",
   "name": "python",
   "nbconvert_exporter": "python",
   "pygments_lexer": "ipython3",
   "version": "3.7.3"
  }
 },
 "nbformat": 4,
 "nbformat_minor": 2
}
