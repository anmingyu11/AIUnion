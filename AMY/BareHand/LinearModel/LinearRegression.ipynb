{
 "cells": [
  {
   "cell_type": "code",
   "execution_count": 1,
   "metadata": {},
   "outputs": [],
   "source": [
    "import numpy as np\n",
    "import matplotlib.pyplot as plt"
   ]
  },
  {
   "cell_type": "code",
   "execution_count": 3,
   "metadata": {},
   "outputs": [
    {
     "data": {
      "text/plain": [
       "LinearRegression(copy_X=True, fit_intercept=True, n_jobs=None, normalize=False)"
      ]
     },
     "execution_count": 3,
     "metadata": {},
     "output_type": "execute_result"
    }
   ],
   "source": [
    "from sklearn.datasets import load_boston\n",
    "from sklearn.linear_model import LinearRegression\n",
    "from sklearn.model_selection import train_test_split\n",
    "\n",
    "boston = load_boston()\n",
    "X,y = boston.data,boston.target\n",
    "X_train,X_test,y_train,y_test= train_test_split(X,y)\n",
    "lr = LinearRegression()\n",
    "lr.fit(X_train,y_train)"
   ]
  },
  {
   "cell_type": "code",
   "execution_count": 4,
   "metadata": {},
   "outputs": [],
   "source": [
    "# mean square method 均方误差\n",
    "def mse(y, y_predict):\n",
    "    y = np.array(y)\n",
    "    y_predict = np.array(y_predict)\n",
    "    return (y_predict - y) ** 2\n",
    "\n",
    "def mse(X,theta,y):\n",
    "    return mse(y, X.dot(theta.T))"
   ]
  },
  {
   "cell_type": "code",
   "execution_count": 5,
   "metadata": {
    "scrolled": true
   },
   "outputs": [
    {
     "name": "stdout",
     "output_type": "stream",
     "text": [
      "(array([-9.28067693e-02,  4.70201395e-02,  1.75098626e-02,  2.78737088e+00,\n",
      "       -2.12542949e+01,  3.08353709e+00,  9.43648010e-03, -1.56107703e+00,\n",
      "        3.02242419e-01, -1.12779476e-02, -1.08151858e+00,  7.63363229e-03,\n",
      "       -5.79016807e-01]), 45.93619824514016)\n",
      "(array([-9.28067693e-02,  4.70201395e-02,  1.75098626e-02,  2.78737088e+00,\n",
      "       -2.12542949e+01,  3.08353709e+00,  9.43648010e-03, -1.56107703e+00,\n",
      "        3.02242419e-01, -1.12779476e-02, -1.08151858e+00,  7.63363229e-03,\n",
      "       -5.79016807e-01]), 45.93619824510188)\n"
     ]
    }
   ],
   "source": [
    "# least square method 最小二乘法\n",
    "def lsm(X , y):\n",
    "    '''\n",
    "    return (w,b)\n",
    "    '''\n",
    "    X = np.array(X)\n",
    "    y = np.array(y)\n",
    "    X_f = np.c_[X,np.ones(X.shape[0])]\n",
    "    wb = np.linalg.inv(X_f.T.dot(X_f)).dot(X_f.T.dot(y))\n",
    "    return (wb[:-1],wb[-1])\n",
    "\n",
    "def test_lsm():\n",
    "    print((lr.coef_,lr.intercept_))\n",
    "    print(lsm(X_train,y_train))\n",
    "\n",
    "test_lsm()"
   ]
  },
  {
   "cell_type": "code",
   "execution_count": 29,
   "metadata": {},
   "outputs": [
    {
     "name": "stdout",
     "output_type": "stream",
     "text": [
      "(array([-0.05010703,  0.10462091, -0.05946112,  0.07211674,  0.0359923 ,\n",
      "        0.90923614,  0.11698025,  0.04396554,  0.07883388, -0.003015  ,\n",
      "        0.51469954,  0.02592524, -0.83450718]), 0.08805568196671718)\n",
      "(array([-9.28067693e-02,  4.70201395e-02,  1.75098626e-02,  2.78737088e+00,\n",
      "       -2.12542949e+01,  3.08353709e+00,  9.43648010e-03, -1.56107703e+00,\n",
      "        3.02242419e-01, -1.12779476e-02, -1.08151858e+00,  7.63363229e-03,\n",
      "       -5.79016807e-01]), 45.93619824514016)\n"
     ]
    }
   ],
   "source": [
    "# 梯度向量\n",
    "def gradient(X, y, theta):\n",
    "    return (X.T.dot(X.dot(theta.T) - y))* 2. /len(y)\n",
    "\n",
    "# 梯度下降 对波士顿房价发散.\n",
    "def gradient_descent(\n",
    "    X\n",
    "    , y\n",
    "    , theta = np.zeros(X.shape[1] + 1)\n",
    "    , alpha= 0.000001\n",
    "    , epsilon=1e-8\n",
    "    , max_iter = 1e5\n",
    "):\n",
    "    X_ = np.c_[X , np.ones(X.shape[0])]\n",
    "    #print(X_)\n",
    "    iters = 0\n",
    "    while(iters < max_iter):\n",
    "        old_theta = theta\n",
    "        grad = gradient(X_,y,theta)\n",
    "        #print(theta)\n",
    "        theta = theta - alpha * grad\n",
    "        if(np.all(np.absolute(theta - old_theta) < epsilon)):\n",
    "            break\n",
    "        iters += 1\n",
    "    return (theta[:-1],theta[-1])\n",
    "#theta=(w,b)\n",
    "theta  = gradient_descent(X_train,y_train)\n",
    "# 此结果发散 ? Todo ?\n",
    "print(theta)\n",
    "print((lr.coef_,lr.intercept_))"
   ]
  }
 ],
 "metadata": {
  "kernelspec": {
   "display_name": "Python 3",
   "language": "python",
   "name": "python3"
  },
  "language_info": {
   "codemirror_mode": {
    "name": "ipython",
    "version": 3
   },
   "file_extension": ".py",
   "mimetype": "text/x-python",
   "name": "python",
   "nbconvert_exporter": "python",
   "pygments_lexer": "ipython3",
   "version": "3.7.3"
  }
 },
 "nbformat": 4,
 "nbformat_minor": 2
}
